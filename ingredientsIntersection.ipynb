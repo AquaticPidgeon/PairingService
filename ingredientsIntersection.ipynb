{
 "cells": [
  {
   "cell_type": "code",
   "execution_count": null,
   "metadata": {
    "collapsed": false
   },
   "outputs": [],
   "source": [
    "import pandas as pd\n",
    "\n",
    "df = pd.DataFrame([[1, 2, 0, 3], [0, 1, 0, 0], [1, 0, 1, 1], [0, 0, 0, 0]], index=['a', 'b', 'c', 'd'], columns=['a1', 'b1', 'c1', 'd1'])\n",
    "print('Matrix representation of example database')\n",
    "print(df)\n",
    "\n",
    "# print(df.loc[['a','c'], :]) # does not mutate df\n",
    "dftemp = df.loc[['a','c'], :]\n",
    "print('Suppose we\\'re interested in \"a\" and \"c\"')\n",
    "print(dftemp)\n",
    "\n",
    "# get an array of the ones in common\n",
    "intersection = dftemp.columns[(dftemp >= 1).all()]\n",
    "print(intersection[0], intersection[1])\n",
    "print(dftemp)\n",
    "# print(df)\n",
    "\n",
    "# display only the columns of the relevant rows\n",
    "print(\"This shows what's in common. b/c we're interested in what they both pair well with, a non zero in either row would me the ingredient of the column label isn't paired\")\n",
    "print(dftemp.loc[:,intersection])\n",
    "\n",
    "# sum the total times they are paired to obtain rank\n",
    "sums = dftemp.loc[:,intersection].sum(axis=0) # type Series\n",
    "print(\"First we sum the columns\")\n",
    "print(sums)\n",
    "\n",
    "# note: still does not mutate\n",
    "ranked = sums.sort_values(ascending=False, kind='mergesort') \n",
    "print('Let\"s now sort them')\n",
    "print(ranked)\n",
    "\n",
    "# get index names of ranked series\n",
    "ranked.index.values\n",
    "print('Our ranked ingredients:', ranked.index.values)"
   ]
  },
  {
   "cell_type": "code",
   "execution_count": null,
   "metadata": {
    "collapsed": false
   },
   "outputs": [],
   "source": [
    "df.loc[:, (df != 0).any(axis=0)]"
   ]
  },
  {
   "cell_type": "code",
   "execution_count": null,
   "metadata": {
    "collapsed": false
   },
   "outputs": [],
   "source": [
    "import numpy as np\n",
    "\n",
    "df2 = pd.DataFrame([[0, 0, 0, 0], [0, 2, 0, 2], [0, 2, 1, 2], [0, 0, 0, 1]], index=['a', 'b', 'c', 'd'], columns=['a', 'b', 'c', 'd'])\n",
    "# Obtain main diagonal elements\n",
    "np.diag(df)\n",
    "\n",
    "# Test if symmetric:\n",
    "df2T = df2.transpose()\n",
    "\n",
    "df2 = df2.loc[:, (df2 != 0).any(axis=0)]\n",
    "df2 = df2.loc[(df2 != 0).any(axis=1), :]\n",
    "print(df2)\n",
    "all = df2.sum().sum()\n",
    "df2 = df2.divide(float(-all)).add(1)\n",
    "print(df2)\n",
    "# df[df.my_channel > 20000].my_channel = 0\n",
    "df2 = df2.replace(1.0, 0.0)\n",
    "print(df2)"
   ]
  },
  {
   "cell_type": "code",
   "execution_count": null,
   "metadata": {
    "collapsed": false
   },
   "outputs": [],
   "source": [
    "df3 = pd.DataFrame([[0, 0, 0, 0], [0, 2, 0, 2], [0, 2, 1, 2], [0, 0, 0, 1]], index=['x', 'y', 'z', 'q'], columns=['a', 'b', 'c', 'd'])\n",
    "print(df3)\n",
    "print('---------------')\n",
    "print(list(df3.index.values))\n",
    "print((df3>0)['b'])\n",
    "test = df3.index[(df3>0)['b']]\n",
    "print(test)\n",
    "# for i in test:\n",
    "#     print(i)"
   ]
  },
  {
   "cell_type": "markdown",
   "metadata": {},
   "source": [
    "\n",
    "### testing how to drop columns"
   ]
  },
  {
   "cell_type": "code",
   "execution_count": null,
   "metadata": {
    "collapsed": false
   },
   "outputs": [],
   "source": [
    "import pandas as pd\n",
    "test = pd.DataFrame([[1, 2, 0, 3], [0, 1, 0, 0], [1, 0, 1, 1], [0, 0, 0, 0]], index=['a', 'b', 'c', 'd'], columns=['a1', 'b1', 'c1', 'd1'])\n",
    "cols = ['a1', 'b1']\n",
    "print(test)"
   ]
  },
  {
   "cell_type": "markdown",
   "metadata": {
    "collapsed": false
   },
   "source": [
    "### testing how to make df to dict so that can save in mongodb"
   ]
  },
  {
   "cell_type": "code",
   "execution_count": null,
   "metadata": {
    "collapsed": false
   },
   "outputs": [],
   "source": [
    "test_mongo = test.transpose()\n",
    "# df.to_dict('records')\n",
    "T = test_mongo.to_dict()\n",
    "print(T)"
   ]
  },
  {
   "cell_type": "code",
   "execution_count": null,
   "metadata": {
    "collapsed": false
   },
   "outputs": [],
   "source": [
    "for_mongo_clean = []\n",
    "for key in T:\n",
    "    for_mongo_clean.append({key: T[key]})\n",
    "print(for_mongo_clean)"
   ]
  },
  {
   "cell_type": "markdown",
   "metadata": {},
   "source": [
    "### testing how to drop columns"
   ]
  },
  {
   "cell_type": "code",
   "execution_count": 44,
   "metadata": {
    "collapsed": false
   },
   "outputs": [
    {
     "name": "stdout",
     "output_type": "stream",
     "text": [
      "sums: w     4\n",
      "x    11\n",
      "z    16\n",
      "dtype: int64\n",
      "------------\n",
      "column names: ['w' 'x' 'z']\n",
      "entropy: [ 1.38629436  0.60016607  0.23379166]\n",
      "FINAL: w    6.833330\n",
      "x    4.217048\n",
      "z    1.912111\n",
      "dtype: float64\n",
      "[('w', 6.8333296310107805), ('x', 4.2170481371570654), ('z', 1.9121114760121327)]\n"
     ]
    }
   ],
   "source": [
    "import numpy as np\n",
    "import pandas as pd\n",
    "from collections import OrderedDict\n",
    "\n",
    "test_drop = pd.DataFrame([[1, 0, 1, 15], [1, 1, 0, 0], [1, 1, 0, 1], [1, 9, 0, 0]], index=['a', 'b', 'c', 'd'], columns=['w', 'x', 'y', 'z'])\n",
    "test_drop = test_drop.drop(['y'], axis=1)\n",
    "sums = test_drop.sum()\n",
    "print('sums:', sums)\n",
    "print('------------')\n",
    "# print(test_drop.loc[:,test_drop.columns[(test_drop >= 1).all()]].drop(['x'], axis=1))\n",
    "\n",
    "from scipy import stats\n",
    "keys = div.columns.values\n",
    "\n",
    "print('column names:', keys)\n",
    "print('entropy:', stats.entropy(test_drop))\n",
    "values = np.power(sums, stats.entropy(test_drop))\n",
    "print(\"FINAL:\", values)\n",
    "rankings_dict = list(zip(keys, values))\n",
    "print(rankings_dict)\n",
    "\n",
    "\n",
    "\n",
    "# ranked = OrderedDict(sorted(rankings_dict.items(), key=lambda t: t[0]))\n",
    "# print('rank:', type(ranked))\n",
    "\n",
    "\n",
    "\n",
    "# d = {'banana': 3, 'apple':4, 'pear': 1, 'orange': 2}\n",
    "# OrderedDict(sorted(d.items(), key=lambda t: t[0]))\n",
    "\n",
    "\n",
    "\n",
    "#[ 1.03370055  0.93715585  0.56233514]\n",
    "# print(stats.entropy([0.75, 0.00, 0.25, 0.00]) == stats.entropy([3, 0, 1, 0]))\n"
   ]
  },
  {
   "cell_type": "code",
   "execution_count": null,
   "metadata": {
    "collapsed": false
   },
   "outputs": [],
   "source": [
    "a = [1, 2, 3, 4, 5]\n",
    "a = [x / float(2) for x in a]\n",
    "print(a)"
   ]
  }
 ],
 "metadata": {
  "kernelspec": {
   "display_name": "Python 3",
   "language": "python",
   "name": "python3"
  },
  "language_info": {
   "codemirror_mode": {
    "name": "ipython",
    "version": 3
   },
   "file_extension": ".py",
   "mimetype": "text/x-python",
   "name": "python",
   "nbconvert_exporter": "python",
   "pygments_lexer": "ipython3",
   "version": "3.5.1"
  }
 },
 "nbformat": 4,
 "nbformat_minor": 0
}
