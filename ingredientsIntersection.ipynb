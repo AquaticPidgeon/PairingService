{
 "cells": [
  {
   "cell_type": "code",
   "execution_count": 16,
   "metadata": {
    "collapsed": false
   },
   "outputs": [
    {
     "name": "stdout",
     "output_type": "stream",
     "text": [
      "   x  y  z\n",
      "a  1  2  0\n",
      "b  0  1  0\n",
      "c  1  0  1\n",
      "   x  y  z\n",
      "a  1  2  0\n",
      "c  1  0  1\n"
     ]
    },
    {
     "data": {
      "text/plain": [
       "Index(['x'], dtype='object')"
      ]
     },
     "execution_count": 16,
     "metadata": {},
     "output_type": "execute_result"
    }
   ],
   "source": [
    "import pandas as pd\n",
    "\n",
    "df = pd.DataFrame([[1, 2, 0], [0, 1, 0], [1, 0, 1]], index=['a', 'b', 'c'], columns=['x', 'y', 'z'])\n",
    "print(df)\n",
    "dftemp = df.loc[['a','c'], :]\n",
    "# print(df)\n",
    "print(df.loc[['a','c'], :])\n",
    "dftemp.columns[(dftemp == 1).all()]\n",
    "# dftemp.columns[(df > 0).all()]"
   ]
  }
 ],
 "metadata": {
  "kernelspec": {
   "display_name": "Python 3",
   "language": "python",
   "name": "python3"
  },
  "language_info": {
   "codemirror_mode": {
    "name": "ipython",
    "version": 3
   },
   "file_extension": ".py",
   "mimetype": "text/x-python",
   "name": "python",
   "nbconvert_exporter": "python",
   "pygments_lexer": "ipython3",
   "version": "3.5.1"
  }
 },
 "nbformat": 4,
 "nbformat_minor": 0
}
