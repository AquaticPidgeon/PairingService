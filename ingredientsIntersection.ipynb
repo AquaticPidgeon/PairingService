{
 "cells": [
  {
   "cell_type": "code",
   "execution_count": 16,
   "metadata": {
    "collapsed": false
   },
   "outputs": [
    {
     "name": "stdout",
     "output_type": "stream",
     "text": [
      "Matrix representation of example database\n",
      "   a1  b1  c1  d1\n",
      "a   1   2   0   3\n",
      "b   0   1   0   0\n",
      "c   1   0   1   1\n",
      "d   0   0   0   0\n",
      "Suppose we're interested in \"a\" and \"c\"\n",
      "   a1  b1  c1  d1\n",
      "a   1   2   0   3\n",
      "c   1   0   1   1\n",
      "a1 d1\n",
      "   a1  b1  c1  d1\n",
      "a   1   2   0   3\n",
      "c   1   0   1   1\n",
      "This shows what's in common. b/c we're interested in what they both pair well with, a non zero in either row would me the ingredient of the column label isn't paired\n",
      "   a1  d1\n",
      "a   1   3\n",
      "c   1   1\n",
      "First we sum the columns\n",
      "a1    2\n",
      "d1    4\n",
      "dtype: int64\n",
      "Let\"s now sort them\n",
      "d1    4\n",
      "a1    2\n",
      "dtype: int64\n",
      "Our ranked ingredients: ['d1' 'a1']\n"
     ]
    }
   ],
   "source": [
    "import pandas as pd\n",
    "\n",
    "df = pd.DataFrame([[1, 2, 0, 3], [0, 1, 0, 0], [1, 0, 1, 1], [0, 0, 0, 0]], index=['a', 'b', 'c', 'd'], columns=['a1', 'b1', 'c1', 'd1'])\n",
    "print('Matrix representation of example database')\n",
    "print(df)\n",
    "\n",
    "# print(df.loc[['a','c'], :]) # does not mutate df\n",
    "dftemp = df.loc[['a','c'], :]\n",
    "print('Suppose we\\'re interested in \"a\" and \"c\"')\n",
    "print(dftemp)\n",
    "\n",
    "# get an array of the ones in common\n",
    "intersection = dftemp.columns[(dftemp >= 1).all()]\n",
    "print(intersection[0], intersection[1])\n",
    "print(dftemp)\n",
    "# print(df)\n",
    "\n",
    "# display only the columns of the relevant rows\n",
    "print(\"This shows what's in common. b/c we're interested in what they both pair well with, a non zero in either row would me the ingredient of the column label isn't paired\")\n",
    "print(dftemp.loc[:,intersection])\n",
    "\n",
    "# sum the total times they are paired to obtain rank\n",
    "sums = dftemp.loc[:,intersection].sum(axis=0) # type Series\n",
    "print(\"First we sum the columns\")\n",
    "print(sums)\n",
    "\n",
    "# note: still does not mutate\n",
    "ranked = sums.sort_values(ascending=False, kind='mergesort') \n",
    "print('Let\"s now sort them')\n",
    "print(ranked)\n",
    "\n",
    "# get index names of ranked series\n",
    "ranked.index.values\n",
    "print('Our ranked ingredients:', ranked.index.values)"
   ]
  },
  {
   "cell_type": "code",
   "execution_count": 167,
   "metadata": {
    "collapsed": false
   },
   "outputs": [
    {
     "data": {
      "text/html": [
       "<div>\n",
       "<table border=\"1\" class=\"dataframe\">\n",
       "  <thead>\n",
       "    <tr style=\"text-align: right;\">\n",
       "      <th></th>\n",
       "      <th>a</th>\n",
       "      <th>b</th>\n",
       "      <th>c</th>\n",
       "      <th>d</th>\n",
       "    </tr>\n",
       "  </thead>\n",
       "  <tbody>\n",
       "    <tr>\n",
       "      <th>a</th>\n",
       "      <td>1</td>\n",
       "      <td>2</td>\n",
       "      <td>1</td>\n",
       "      <td>3</td>\n",
       "    </tr>\n",
       "    <tr>\n",
       "      <th>b</th>\n",
       "      <td>0</td>\n",
       "      <td>1</td>\n",
       "      <td>0</td>\n",
       "      <td>0</td>\n",
       "    </tr>\n",
       "    <tr>\n",
       "      <th>c</th>\n",
       "      <td>1</td>\n",
       "      <td>0</td>\n",
       "      <td>1</td>\n",
       "      <td>1</td>\n",
       "    </tr>\n",
       "    <tr>\n",
       "      <th>d</th>\n",
       "      <td>0</td>\n",
       "      <td>0</td>\n",
       "      <td>0</td>\n",
       "      <td>10</td>\n",
       "    </tr>\n",
       "  </tbody>\n",
       "</table>\n",
       "</div>"
      ],
      "text/plain": [
       "   a  b  c   d\n",
       "a  1  2  1   3\n",
       "b  0  1  0   0\n",
       "c  1  0  1   1\n",
       "d  0  0  0  10"
      ]
     },
     "execution_count": 167,
     "metadata": {},
     "output_type": "execute_result"
    }
   ],
   "source": [
    "df.loc[:, (df != 0).any(axis=0)]"
   ]
  },
  {
   "cell_type": "code",
   "execution_count": 309,
   "metadata": {
    "collapsed": false
   },
   "outputs": [
    {
     "name": "stdout",
     "output_type": "stream",
     "text": [
      "   b  c  d\n",
      "b  2  0  2\n",
      "c  2  1  2\n",
      "d  0  0  1\n",
      "     b    c    d\n",
      "b  0.8  1.0  0.8\n",
      "c  0.8  0.9  0.8\n",
      "d  1.0  1.0  0.9\n",
      "     b    c    d\n",
      "b  0.8  0.0  0.8\n",
      "c  0.8  0.9  0.8\n",
      "d  0.0  0.0  0.9\n"
     ]
    }
   ],
   "source": [
    "import numpy as np\n",
    "\n",
    "df2 = pd.DataFrame([[0, 0, 0, 0], [0, 2, 0, 2], [0, 2, 1, 2], [0, 0, 0, 1]], index=['a', 'b', 'c', 'd'], columns=['a', 'b', 'c', 'd'])\n",
    "# Obtain main diagonal elements\n",
    "np.diag(df)\n",
    "\n",
    "# Test if symmetric:\n",
    "df2T = df2.transpose()\n",
    "\n",
    "df2 = df2.loc[:, (df2 != 0).any(axis=0)]\n",
    "df2 = df2.loc[(df2 != 0).any(axis=1), :]\n",
    "print(df2)\n",
    "all = df2.sum().sum()\n",
    "df2 = df2.divide(float(-all)).add(1)\n",
    "print(df2)\n",
    "# df[df.my_channel > 20000].my_channel = 0\n",
    "df2 = df2.replace(1.0, 0.0)\n",
    "print(df2)"
   ]
  },
  {
   "cell_type": "code",
   "execution_count": 365,
   "metadata": {
    "collapsed": false
   },
   "outputs": [
    {
     "name": "stdout",
     "output_type": "stream",
     "text": [
      "   a  b  c  d\n",
      "x  0  0  0  0\n",
      "y  0  2  0  2\n",
      "z  0  2  1  2\n",
      "q  0  0  0  1\n",
      "---------------\n",
      "['x', 'y', 'z', 'q']\n",
      "x    False\n",
      "y     True\n",
      "z     True\n",
      "q    False\n",
      "Name: b, dtype: bool\n",
      "Index(['y', 'z'], dtype='object')\n"
     ]
    }
   ],
   "source": [
    "df3 = pd.DataFrame([[0, 0, 0, 0], [0, 2, 0, 2], [0, 2, 1, 2], [0, 0, 0, 1]], index=['x', 'y', 'z', 'q'], columns=['a', 'b', 'c', 'd'])\n",
    "print(df3)\n",
    "print('---------------')\n",
    "print(list(df3.index.values))\n",
    "print((df3>0)['b'])\n",
    "test = df3.index[(df3>0)['b']]\n",
    "print(test)\n",
    "# for i in test:\n",
    "#     print(i)"
   ]
  },
  {
   "cell_type": "markdown",
   "metadata": {},
   "source": [
    "### testing how to drop columns"
   ]
  },
  {
   "cell_type": "code",
   "execution_count": 4,
   "metadata": {
    "collapsed": false
   },
   "outputs": [
    {
     "name": "stdout",
     "output_type": "stream",
     "text": [
      "   a1  b1  c1  d1\n",
      "a   1   2   0   3\n",
      "b   0   1   0   0\n",
      "c   1   0   1   1\n",
      "d   0   0   0   0\n"
     ]
    }
   ],
   "source": [
    "test = pd.DataFrame([[1, 2, 0, 3], [0, 1, 0, 0], [1, 0, 1, 1], [0, 0, 0, 0]], index=['a', 'b', 'c', 'd'], columns=['a1', 'b1', 'c1', 'd1'])\n",
    "cols = ['a1', 'b1']\n",
    "print(test)"
   ]
  },
  {
   "cell_type": "code",
   "execution_count": 15,
   "metadata": {
    "collapsed": false
   },
   "outputs": [
    {
     "data": {
      "text/plain": [
       "Index(['a1', 'b1', 'c1', 'd1'], dtype='object')"
      ]
     },
     "execution_count": 15,
     "metadata": {},
     "output_type": "execute_result"
    }
   ],
   "source": [
    "(test.loc[['a', 'b', 'c'], :]).columns"
   ]
  }
 ],
 "metadata": {
  "kernelspec": {
   "display_name": "Python 3",
   "language": "python",
   "name": "python3"
  },
  "language_info": {
   "codemirror_mode": {
    "name": "ipython",
    "version": 3
   },
   "file_extension": ".py",
   "mimetype": "text/x-python",
   "name": "python",
   "nbconvert_exporter": "python",
   "pygments_lexer": "ipython3",
   "version": "3.5.1"
  }
 },
 "nbformat": 4,
 "nbformat_minor": 0
}
