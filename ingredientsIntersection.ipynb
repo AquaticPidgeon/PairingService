{
 "cells": [
  {
   "cell_type": "code",
   "execution_count": 97,
   "metadata": {
    "collapsed": false
   },
   "outputs": [
    {
     "name": "stdout",
     "output_type": "stream",
     "text": [
      "Matrix representation of example database\n",
      "   x  y  z  q\n",
      "a  1  2  0  3\n",
      "b  0  1  0  0\n",
      "c  1  0  1  1\n",
      "d  0  0  0  0\n",
      "Suppose we're interested in \"a\" and \"c\"\n",
      "   x  y  z  q\n",
      "a  1  2  0  3\n",
      "c  1  0  1  1\n",
      "x q\n",
      "   x  y  z  q\n",
      "a  1  2  0  3\n",
      "c  1  0  1  1\n",
      "This shows what's in common\n",
      "   x  q\n",
      "a  1  3\n",
      "c  1  1\n",
      "First we sum the columns\n",
      "x    2\n",
      "q    4\n",
      "dtype: int64\n",
      "Let\"s now sort them\n",
      "q    4\n",
      "x    2\n",
      "dtype: int64\n",
      "Our ranked ingredients: ['q' 'x']\n"
     ]
    }
   ],
   "source": [
    "import pandas as pd\n",
    "\n",
    "df = pd.DataFrame([[1, 2, 0, 3], [0, 1, 0, 0], [1, 0, 1, 1], [0, 0, 0, 0]], index=['a', 'b', 'c', 'd'], columns=['x', 'y', 'z', 'q'])\n",
    "print('Matrix representation of example database')\n",
    "print(df)\n",
    "\n",
    "# print(df.loc[['a','c'], :]) # does not mutate df\n",
    "dftemp = df.loc[['a','c'], :]\n",
    "print('Suppose we\\'re interested in \"a\" and \"c\"')\n",
    "print(dftemp)\n",
    "\n",
    "# get an array of the ones in common\n",
    "intersection = dftemp.columns[(dftemp >= 1).all()]\n",
    "print(intersection[0], intersection[1])\n",
    "print(dftemp)\n",
    "# print(df)\n",
    "\n",
    "# display only the columns of the relevant rows\n",
    "print(\"This shows what's in common\")\n",
    "print(dftemp.loc[:,intersection])\n",
    "\n",
    "# sum the total times they are paired to obtain rank\n",
    "sums = dftemp.loc[:,intersection].sum(axis=0) # type Series\n",
    "print(\"First we sum the columns\")\n",
    "print(sums)\n",
    "\n",
    "# note: still does not mutate\n",
    "ranked = sums.sort_values(ascending=False, kind='mergesort') \n",
    "print('Let\"s now sort them')\n",
    "print(ranked)\n",
    "\n",
    "# get index names of ranked series\n",
    "ranked.index.values\n",
    "print('Our ranked ingredients:', ranked.index.values)\n"
   ]
  },
  {
   "cell_type": "code",
   "execution_count": 17,
   "metadata": {
    "collapsed": true
   },
   "outputs": [],
   "source": []
  },
  {
   "cell_type": "code",
   "execution_count": null,
   "metadata": {
    "collapsed": true
   },
   "outputs": [],
   "source": []
  }
 ],
 "metadata": {
  "kernelspec": {
   "display_name": "Python 3",
   "language": "python",
   "name": "python3"
  },
  "language_info": {
   "codemirror_mode": {
    "name": "ipython",
    "version": 3
   },
   "file_extension": ".py",
   "mimetype": "text/x-python",
   "name": "python",
   "nbconvert_exporter": "python",
   "pygments_lexer": "ipython3",
   "version": "3.5.1"
  }
 },
 "nbformat": 4,
 "nbformat_minor": 0
}
