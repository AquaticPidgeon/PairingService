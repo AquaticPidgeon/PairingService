{
 "cells": [
  {
   "cell_type": "code",
   "execution_count": 1,
   "metadata": {
    "collapsed": true
   },
   "outputs": [
    {
     "name": "stdout",
     "output_type": "stream",
     "text": [
      "[['clove', 'cloves', 'garlic', 'cumin', 'tea', 'pepper', 'oregano', 'orange', 'oranges', 'lime', 'limes', 'olive', 'olive oil', 'salt', 'pork', 'mint', 'bean', 'beans', 'black bean', 'black beans', 'rice'], ['ponzu', 'shallot', 'mustard', 'olive', 'olive oil', 'wasabi', 'steak', 'tea', 'cucumber', 'salt'], ['rice', 'rice vinegar', 'vinegar', 'lemon', 'lime', 'lime juice', 'soy sauce'], ['paprika', 'brown sugar', 'sugar', 'salt', 'mustard', 'seed', 'garlic', 'garlic powder', 'onion', 'onion powder', 'oregano', 'coriander', 'cumin', 'tea', 'pepper', 'red pepper', 'red pepper flakes', 'ketchup', 'molasses', 'worcestershire sauce', 'apple', 'apple cider vinegar', 'cider', 'vinegar', 'pork'], ['flour', 'sugar', 'salt', 'tea', 'butter', 'water'], ['pepper', 'poblano', 'poblano pepper', 'potato', 'salt', 'vinegar', 'white vinegar', 'onion', 'red onion', 'tea', 'thyme', 'cilantro', 'parsley'], ['lemon', 'lemons', 'sugar', 'tea'], ['lemon', 'lemons', 'sugar', 'water'], ['water', 'tea'], ['bean', 'beans', 'pinto bean', 'pinto beans', 'salt', 'bacon', 'onion', 'chili', 'seed', 'seeds', 'clove', 'cloves', 'garlic', 'tomato', 'tomatoes', 'chicken', 'epazote', 'cilantro'], ['coffee', 'tea', 'chocolate', 'cocoa', 'cocoa powder', 'butter', 'salt', 'brown sugar', 'sugar', 'baking powder', 'vanilla', 'vanilla extract', 'egg', 'flour', 'cherry', 'cool whip', 'cream'], ['mayo', 'mayonnaise', 'cream', 'sour cream', 'ketchup', 'dill', 'pickle', 'lemon', 'horseradish', 'radish', 'tea', 'pepper', 'salt', 'beef', 'corn', 'corned beef', 'sauerkraut', 'bread', 'butter', 'cheese', 'swiss cheese'], ['cherries', 'cherry', 'cream', 'heavy cream', 'sugar', 'salt', 'tea'], ['onion', 'red onion', 'red wine', 'red wine vinegar', 'vinegar', 'wine', 'tuna', 'mayo', 'mayonnaise', 'celery', 'parsley', 'anchovy', 'fish sauce', 'tea', 'pepper', 'salt', 'bread', 'lettuce', 'romaine lettuce'], ['onion', 'red onion', 'red wine', 'red wine vinegar', 'vinegar', 'wine', 'tuna', 'celery', 'fennel', 'parsley', 'caper', 'capers', 'olive', 'olives', 'olive oil', 'lemon', 'anchovy', 'fish sauce', 'tea', 'pepper', 'salt', 'bread', 'arugula'], ['melon', 'seed', 'water', 'watermelon', 'eel', 'lemon', 'olive', 'olive oil', 'mint', 'arugula', 'pepper', 'salt', 'cheese', 'feta'], ['ham', 'hamachi', 'onion', 'sweet onion', 'cucumber', 'eel', 'seed', 'seeds', 'avocado', 'chili', 'lemon', 'sesame seed', 'sesame seeds', 'tea', 'soy sauce', 'olive', 'olive oil', 'salt', 'rice'], ['octopus', 'onion', 'sweet onion', 'soy sauce', 'tea', 'honey', 'chili', 'salt', 'rice'], ['canola oil', 'macadamia nut', 'macadamia nuts', 'salmon', 'onion', 'sweet onion', 'seed', 'seeds', 'sesame seed', 'sesame seeds', 'tea', 'shallot', 'shallots', 'soy sauce', 'chili', 'garlic', 'salt', 'rice'], ['tea', 'tuna', 'onion', 'sweet onion', 'seed', 'seeds', 'sesame seed', 'sesame seeds', 'soy sauce', 'honey', 'pepper', 'red pepper', 'salt', 'rice'], ['olive', 'olive oil', 'egg', 'eggs', 'pepper', 'salt'], ['octopus', 'salt'], ['lemon', 'pistachio', 'butter', 'buttermilk', 'milk', 'lemon juice', 'salt', 'tea', 'poppy seed', 'poppy seeds', 'seed', 'seeds', 'pepper'], ['rhubarb', 'berries', 'strawberries', 'sugar', 'fennel', 'seed', 'seeds', 'tea', 'salt'], ['lemon', 'dijon mustard', 'mustard', 'tea', 'olive', 'olive oil', 'pepper', 'salt', 'radish', 'radishes', 'bean', 'beans', 'green bean', 'green beans', 'parsley'], ['salt', 'turnip', 'turnips', 'olive', 'olive oil', 'pepper'], ['salt', 'olive', 'olive oil', 'clove', 'cloves', 'garlic', 'pepper', 'red pepper', 'red pepper flakes', 'broccoli'], ['asparagus', 'pepper', 'salt'], ['bean', 'fava bean', 'salt', 'carrot', 'carrots', 'greens', 'olive', 'olive oil', 'lemon', 'shallot', 'pepper', 'cheese', 'ricotta cheese'], ['clove', 'cloves', 'garlic', 'eel', 'ginger', 'cilantro', 'chili', 'salt', 'coconut', 'milk', 'ale', 'tea', 'turmeric', 'water', 'potato', 'sweet potato', 'sweet potatoes', 'pea', 'peanut', 'peanuts', 'sugar', 'kale', 'lime', 'limes', 'pepper', 'hot sauce', 'rice'], ['salt', 'brown sugar', 'sugar', 'cayenne pepper', 'pepper', 'coriander', 'tea', 'fennel', 'seed', 'paprika', 'cumin', 'pork', 'ketchup', 'molasses', 'worcestershire sauce', 'liquid smoke', 'mustard', 'hot sauce', 'cider', 'vinegar', 'onion', 'bourbon', 'chicken', 'water'], ['chicken', 'gelatin', 'beef', 'steak', 'tea', 'pepper', 'salt', 'carrot', 'carrots', 'celery', 'onion', 'peppers', 'clove', 'cloves', 'garlic', 'paprika', 'soy sauce', 'fish sauce', 'thyme', 'flour', 'eel', 'potato', 'apple', 'apple cider vinegar', 'cider', 'vinegar', 'parsley'], ['chicken', 'gelatin', 'tomato', 'tomato paste', 'soy sauce', 'anchovy', 'fish sauce', 'salt', 'worcestershire sauce', 'beef', 'steak', 'tea', 'pepper', 'mushroom', 'carrot', 'carrots', 'eel', 'onion', 'onions', 'pea', 'pear', 'celery', 'clove', 'cloves', 'garlic', 'red wine', 'sherry', 'vermouth', 'wine', 'flour', 'thyme', 'potato', 'peas'], ['chicken', 'chicken thigh', 'pepper', 'salt', 'bacon', 'lardon', 'lardons', 'pork', 'salt pork', 'onion', 'cabbage', 'mustard', 'apple', 'apple cider vinegar', 'cider', 'vinegar', 'sugar', 'thyme', 'butter'], ['goose', 'salt', 'baking powder', 'broth', 'chicken', 'gelatin', 'tea', 'onion', 'carrot', 'carrots', 'eel', 'celery', 'tomato', 'tomato paste', 'red wine', 'wine', 'parsley', 'thyme', 'bay leaf', 'flour', 'sherry', 'pepper'], ['chicken', 'gelatin', 'tea', 'rum', 'pepper', 'salt', 'onion', 'paprika', 'bay leaf', 'cream', 'sour cream', 'fish sauce', 'lemon', 'dill', 'parsley', 'egg', 'potato', 'spaetzle'], ['onion', 'salt', 'paprika', 'chicken', 'rum', 'cream', 'sour cream', 'egg', 'potato', 'spaetzle', 'dill', 'parsley'], ['gelatin', 'tea', 'water', 'milk', 'vanilla', 'vanilla extract', 'corn', 'corn syrup', 'sugar', 'salt', 'cream', 'heavy cream'], ['bread', 'flour', 'salt', 'tea', 'yeast', 'olive', 'olive oil', 'water', 'clove', 'cloves', 'garlic', 'oregano', 'pepper', 'red pepper', 'red pepper flakes', 'eel', 'tomato', 'tomatoes', 'sugar', 'cheese', 'mozzarella', 'romano cheese'], ['egg', 'eggs', 'salt', 'asparagus', 'olive', 'olive oil', 'ramp', 'ramps', 'tea', 'thyme', 'pepper'], ['scallop', 'scallops', 'lemon', 'lemons', 'tea', 'eel', 'shrimp', 'salt', 'baking soda', 'clove', 'cloves', 'garlic', 'olive', 'olive oil', 'mussel', 'mussels', 'corn', 'pepper', 'squid', 'parsley', 'cayenne pepper', 'coriander', 'seed', 'celery', 'fennel'], ['rice', 'chicken', 'olive', 'olive oil', 'onion', 'white wine', 'wine', 'saffron', 'salt', 'butter', 'cheese', 'egg', 'cream', 'heavy cream', 'pea'], ['olive', 'olive oil', 'bread', 'anchovy', 'mozzarella', 'pesto', 'tea', 'artichoke', 'mortadella'], ['salt', 'asparagus', 'bean', 'beans', 'fava bean', 'fava beans', 'pea', 'peas', 'snap pea', 'snap peas', 'sugar', 'morel', 'mushroom', 'mushrooms', 'chili', 'corn', 'pepper', 'tea', 'black olive', 'black olives', 'olive', 'olives', 'clove', 'cloves', 'garlic', 'eel', 'ginger', 'sherry', 'wine', 'soy sauce', 'cilantro', 'mint'], ['tofu', 'sherry', 'wine', 'soy sauce', 'cider', 'tea', 'vinegar', 'hoisin', 'chili', 'chili sauce', 'sambal', 'corn', 'cornstarch', 'pine nut', 'pine nuts', 'mushroom', 'mushrooms', 'ale', 'clove', 'cloves', 'garlic', 'ginger', 'apple', 'eel', 'jicama', 'celery', 'cilantro', 'salt', 'pepper', 'lettuce', 'water'], ['jasmine rice', 'rice', 'bean', 'beans', 'green bean', 'green beans', 'clove', 'cloves', 'garlic', 'tea', 'chili', 'soy sauce', 'fish sauce', 'egg', 'salt', 'basil', 'pepper', 'sugar', 'lime', 'cucumber'], ['clove', 'cloves', 'eel', 'garlic', 'seed', 'seeds', 'oregano', 'cinnamon', 'corn', 'pepper', 'cumin', 'allspice', 'berries', 'grape', 'grapefruit', 'lime', 'orange', 'vinegar', 'white vinegar', 'soy sauce', 'salt', 'pork', 'banana', 'tomato', 'tomatoes', 'onion', 'tortilla', 'tortillas', 'onions', 'pickle', 'salsa'], ['chile', 'chiles', 'chili', 'lime', 'limes', 'grape', 'grapefruit', 'orange', 'salt'], ['pork', 'pepper', 'salt', 'clove', 'cloves', 'orange', 'seville orange', 'cinnamon', 'garlic', 'cheese', 'mozzarella', 'corn', 'tortilla', 'tortillas', 'habanero', 'salsa', 'lime', 'cilantro'], ['clove', 'cloves', 'eel', 'garlic', 'chili', 'habanero', 'grape', 'grapefruit', 'orange', 'lime', 'limes', 'salt'], ['lime', 'limes', 'grape', 'grapefruit', 'eel', 'onion', 'chicken', 'chicken breast', 'turkey', 'turkey breast', 'clove', 'cloves', 'garlic', 'cinnamon', 'allspice', 'berries', 'corn', 'pepper', 'oregano', 'tomato', 'tomatoes', 'hungarian wax pepper', 'salt', 'tortilla', 'tortillas', 'cilantro'], ['olive', 'olives', 'lime', 'fennel'], ['cumin', 'pepper', 'seed', 'seeds', 'water', 'sugar', 'corn', 'apple', 'eel', 'pineapple', 'lime', 'cayenne pepper'], ['cardamom', 'ginger', 'eel', 'water', 'sugar', 'red wine', 'wine', 'orange', 'oranges', 'vermouth'], ['rum', 'pea', 'absinthe'], ['bourbon', 'lemon', 'lemon juice'], ['rum', 'lime', 'limes', 'maple syrup', 'pea', 'eel'], ['chicken', 'pepper', 'salt', 'onion', 'broth', 'bouillon', 'water', 'tomato', 'tomato paste', 'flour', 'egg', 'eggs'], ['bean', 'oregano', 'tea', 'basil', 'celery', 'carrot', 'carrots', 'onion', 'clove', 'cloves', 'garlic', 'sage', 'sausage', 'olive', 'olive oil', 'chicken', 'tomato', 'tomatoes', 'pepper', 'red pepper', 'salt', 'bouillon', 'water'], ['sugar', 'butter', 'flour', 'egg', 'eggs', 'baking powder', 'tea', 'milk', 'cinnamon'], [], ['ketchup', 'bay leaf', 'balsamic vinegar', 'vinegar', 'brown sugar', 'sugar', 'pepper', 'tea', 'chili', 'chili powder', 'mustard', 'horseradish', 'radish', 'red pepper', 'celery', 'seed', 'clove', 'cloves', 'garlic'], ['potato', 'celery', 'egg', 'eggs', 'green onion', 'green onions', 'onion', 'onions', 'salt', 'tea', 'pepper', 'miracle whip', 'mustard', 'seed', 'horseradish', 'radish', 'red pepper', 'cider', 'vinegar'], ['pea', 'peanut', 'peanuts', 'chocolate'], ['water', 'butter', 'sugar', 'salt', 'tea', 'flour', 'egg', 'eggs', 'cinnamon'], ['rice', 'chicken', 'chicken breast', 'bouillon', 'egg', 'queso', 'water', 'garlic', 'garlic powder', 'onion', 'onions'], ['mint', 'sugar', 'bourbon'], ['milk', 'egg', 'eggs', 'flour', 'baking powder', 'tea', 'salt'], ['tomato', 'tomatoes', 'tomato sauce', 'onion', 'pepper', 'chile', 'chiles', 'carrot', 'carrots', 'pickle', 'salt', 'sugar', 'lemon', 'lemon juice', 'garlic', 'garlic powder', 'paprika', 'cumin', 'oregano', 'water'], ['butter', 'salt', 'beat', 'egg', 'cream', 'heavy cream', 'flour', 'sugar', 'baking powder', 'tea', 'berries', 'blueberries', 'cranberries', 'raisin', 'raisins', 'eel', 'lemon', 'orange', 'orange peel', 'pecan', 'pecans', 'walnut', 'walnuts'], ['beef', 'corn', 'corned beef', 'cabbage', 'pepper', 'clove', 'cloves', 'eel', 'garlic', 'parsnip', 'parsnips', 'turnip', 'turnips', 'carrot', 'carrots', 'potato', 'celery'], ['flour', 'baking powder', 'baking soda', 'salt', 'nutmeg', 'cinnamon', 'beat', 'egg', 'eggs', 'milk', 'sugar', 'pumpkin', 'butter'], ['flour', 'baking powder', 'baking soda', 'salt', 'shortening', 'sugar', 'egg', 'vanilla', 'eel', 'orange', 'orange peel', 'milk'], ['apple', 'pineapple', 'ale', 'ginger', 'ginger ale'], ['eel', 'shrimp', 'clove', 'cloves', 'garlic', 'butter', 'olive', 'olive oil', 'white wine', 'wine', 'parsley', 'lemon', 'bread', 'rum'], ['rice', 'wild rice', 'water', 'pea', 'green onion', 'green onions', 'onion', 'onions', 'clove', 'garlic', 'salt', 'pepper'], ['beef', 'cream', 'mushroom', 'onion', 'carrot', 'carrots', 'broth', 'salt', 'pepper', 'rice'], ['milk', 'flour', 'salt', 'pepper', 'corn', 'bacon'], ['flour', 'sugar', 'baking powder', 'baking soda', 'cinnamon', 'salt', 'ginger', 'mace', 'nutmeg', 'banana', 'bananas', 'egg', 'eggs', 'vanilla', 'vanilla extract', 'berries', 'cranberries', 'almond', 'almonds', 'pecan', 'pecans', 'walnut', 'walnuts'], ['eel', 'potato', 'salt', 'cheese', 'pimiento', 'rum', 'onion', 'butter', 'flour', 'egg', 'eggs', 'water'], ['oatmeal', 'sugar', 'beat', 'egg', 'baking soda', 'butter', 'shortening', 'banana', 'bananas', 'flour', 'salt', 'nutmeg'], ['ground turkey', 'turkey', 'stuffing', 'celery', 'onion', 'sage', 'egg', 'eggs', 'ketchup', 'water'], ['butter', 'pea', 'peanut', 'peanut butter', 'chocolate', 'powdered sugar', 'sugar'], ['cherries', 'berry', 'cranberry'], ['cheese', 'cream', 'cream cheese', 'berry', 'strawberry', 'graham cracker', 'graham crackers', 'ham', 'mozzarella'], ['rice', 'tea', 'salsa', 'garlic', 'garlic powder', 'pepper', 'salt'], ['bread', 'cheddar cheese', 'cheese', 'butter', 'buttermilk', 'milk', 'beat', 'egg', 'eggs', 'worcestershire sauce', 'mustard', 'salt', 'tea', 'pepper', 'ham'], ['onion', 'clove', 'cloves', 'garlic', 'pepper', 'tea', 'butter', 'milk', 'flour', 'broccoli', 'salt', 'paprika', 'parsley'], ['cheese', 'cream', 'cream cheese', 'milk', 'crab', 'mayo', 'mayonnaise', 'onion', 'garlic', 'garlic powder', 'celery', 'celery seeds', 'seed', 'seeds', 'horseradish', 'radish', 'pepper', 'salt'], ['egg', 'butter', 'mushroom', 'mushrooms', 'flour', 'broth', 'chicken', 'milk', 'pepper', 'salt', 'cheese', 'parmesan cheese', 'sage'], ['water', 'chocolate', 'sugar', 'butter', 'egg', 'egg yolk', 'egg yolks', 'tea', 'vanilla', 'flour', 'baking soda', 'salt', 'buttermilk', 'milk', 'beat', 'egg white', 'egg whites', 'evaporated milk', 'coconut', 'pecan', 'pecans'], ['macaroni', 'cheddar cheese', 'cheese', 'milk', 'beat', 'egg', 'butter', 'margarine'], ['brown sugar', 'sugar', 'mustard', 'tea', 'flour', 'apple', 'pineapple', 'cherries', 'maraschino'], ['flour', 'wheat', 'wheat germ', 'cinnamon', 'salt', 'honey', 'water', 'coconut', 'almond', 'almonds', 'raisin', 'raisins'], ['flour', 'egg', 'eggs', 'olive', 'olive oil', 'salt', 'water'], ['beef', 'ground beef', 'curry powder', 'garlic', 'garlic powder', 'onion', 'onion powder', 'bread', 'rum', 'allspice', 'cumin', 'seed', 'seeds', 'pepper', 'thyme', 'cayenne pepper', 'eel', 'onions', 'clove', 'cloves', 'paprika', 'celery'], ['avocado', 'tomato', 'tomatoes', 'onion', 'balsamic vinegar', 'vinegar', 'olive', 'olive oil', 'lemon', 'lemon juice', 'pepper', 'salt'], ['mayo', 'mayonnaise', 'bacon', 'dijon mustard', 'mustard'], ['beef', 'ground beef', 'clove', 'cloves', 'garlic', 'parsley', 'salt', 'pepper', 'cheese', 'ketchup', 'dijon mustard', 'mustard', 'celery', 'green onion', 'onion'], ['beat', 'egg', 'eggs', 'sugar', 'butter', 'bourbon', 'corn', 'pecan', 'pecans', 'chocolate', 'flour', 'vanilla', 'vanilla extract', 'walnut', 'walnuts'], ['milk', 'chocolate', 'pudding', 'white chocolate', 'gelatin', 'powdered sugar', 'sugar', 'cool whip'], ['apple', 'pineapple', 'raisin', 'raisins', 'seed', 'cream', 'ice cream', 'vanilla'], ['flour', 'baking powder', 'tea', 'garlic', 'garlic powder', 'salt', 'butter', 'cheddar cheese', 'cheese', 'buttermilk', 'milk', 'parsley'], ['sage', 'sausage', 'sausages', 'clove', 'cloves', 'garlic', 'olive', 'olive oil', 'pepper', 'peppers', 'seed', 'cayenne pepper', 'rice', 'pasta', 'onion', 'onions', 'red onion', 'red onions', 'basil', 'oregano', 'tomato', 'tomato paste', 'red wine', 'wine'], ['flour', 'walnut', 'walnuts', 'sugar', 'brown sugar', 'shortening', 'egg', 'eggs', 'baking soda', 'water', 'vanilla'], ['sugar', 'evaporated milk', 'milk', 'marshmallow', 'butter', 'chocolate'], ['flour', 'oatmeal', 'baking powder', 'tea', 'baking soda', 'salt', 'butter', 'buttermilk', 'milk', 'maple syrup', 'sugar', 'egg', 'vanilla', 'vanilla extract', 'cinnamon', 'ginger', 'currant', 'currants', 'raisin', 'raisins', 'pecan', 'pecans'], ['banana', 'bananas', 'sugar', 'butter', 'egg', 'eggs', 'salt', 'tea', 'vanilla', 'flour', 'baking soda', 'cream', 'sour cream', 'pecan', 'pecans', 'walnut', 'walnuts'], ['butter', 'pea', 'peanut', 'peanut butter', 'condensed milk', 'milk', 'sweetened condensed milk'], ['shrimp', 'cherry', 'tomato', 'tomatoes', 'onion', 'onions', 'red onion', 'red onions', 'pepper', 'eel'], ['bacon', 'bacon grease', 'butter', 'onion', 'ham', 'potato', 'celery', 'seed', 'tea', 'corn', 'salt', 'pepper', 'bay leaf', 'milk', 'cornstarch', 'water'], ['sugar', 'milk', 'cocoa', 'butter', 'pea', 'peanut', 'peanut butter', 'vanilla'], ['potato', 'onion', 'celery', 'butter', 'margarine', 'cheese'], ['egg', 'egg yolk', 'egg yolks', 'cream', 'sour cream', 'rum', 'vanilla', 'sugar', 'flour'], ['corn', 'cheese', 'parmesan cheese', 'cayenne pepper', 'pepper', 'flour', 'egg', 'egg substitute', 'milk', 'halibut', 'salt'], ['chicken', 'chicken breast', 'cheese', 'cream', 'cream cheese', 'chili', 'flour', 'tortilla', 'tortillas', 'chile', 'cheddar cheese'], ['flour', 'salt', 'sugar', 'baking powder', 'butter', 'milk', 'water'], ['chicken', 'chicken breast', 'broth', 'cream', 'egg', 'pepper'], ['sugar', 'milk', 'yeast', 'flour', 'salt', 'butter', 'lemon', 'currant', 'currants', 'raisin', 'raisins', 'egg', 'water'], ['bean', 'beans', 'pinto bean', 'pinto beans', 'water', 'ham', 'carrot', 'carrots', 'potato', 'sweet potato', 'onion', 'onions', 'clove', 'cloves', 'garlic', 'pepper', 'salt', 'egg', 'flour'], ['butter', 'pea', 'peanut', 'peanut butter', 'sugar', 'egg', 'chocolate'], ['cabbage', 'carrot', 'cream', 'sour cream', 'mayo', 'mayonnaise', 'salt', 'lemon', 'sugar', 'horseradish', 'radish'], ['olive', 'olive oil', 'red wine', 'red wine vinegar', 'vinegar', 'wine', 'clove', 'cloves', 'garlic', 'salt', 'pepper', 'basil', 'oregano', 'cheese', 'parmesan cheese', 'red pepper', 'red pepper flakes', 'pasta', 'onion', 'onions', 'vidalia onion', 'green onion', 'green onions', 'peppers'], ['ale', 'ginger', 'ginger ale'], ['parsley', 'clove', 'cloves', 'garlic', 'olive', 'olive oil', 'paprika', 'tea', 'garlic powder', 'pepper', 'bread', 'rum', 'oregano', 'basil', 'red pepper', 'red pepper flakes', 'sage', 'salt', 'cheese', 'romano cheese', 'olives', 'veal', 'onion', 'onion powder'], ['egg', 'eggplant', 'onion', 'clove', 'cloves', 'eel', 'garlic', 'beat', 'eggs', 'flour', 'garlic powder', 'tea', 'paprika', 'basil', 'oregano', 'salt', 'bread', 'rum', 'cheese', 'parmesan cheese', 'olive', 'olive oil', 'mozzarella', 'tomato', 'tomato sauce', 'butter'], ['egg', 'eggplant', 'mushroom', 'mushrooms', 'pasta', 'cheese', 'mozzarella', 'bread', 'rum', 'eggs', 'salt'], ['pepper', 'peppers', 'olive', 'olive oil', 'clove', 'cloves', 'garlic', 'basil', 'oregano', 'tea', 'red pepper', 'red pepper flakes', 'crouton', 'mozzarella', 'salt', 'paprika'], ['pasta', 'olive', 'olive oil', 'eel', 'shrimp', 'salt', 'tea', 'pepper', 'clove', 'cloves', 'garlic', 'white wine', 'wine', 'cherry', 'tomato', 'tomatoes', 'broth', 'chicken', 'water', 'lemon', 'lemon juice', 'lemons', 'red pepper', 'red pepper flakes'], ['butter', 'lemon', 'honey'], ['broccoli', 'broccoli raab', 'clove', 'cloves', 'garlic', 'olive', 'olive oil', 'pepper', 'peppers', 'vinegar', 'onion', 'pork', 'salt', 'salt pork', 'hot sauce', 'red pepper', 'red pepper flakes'], ['cheese', 'cream', 'cream cheese', 'sugar', 'pumpkin', 'cinnamon', 'pumpkin pie spice', 'ginger', 'graham cracker', 'graham crackers', 'ham'], ['apple', 'pineapple', 'pea', 'peach', 'peaches', 'berries', 'strawberries', 'banana', 'kiwi', 'cheese', 'cream', 'cream cheese'], ['onion', 'water'], ['ham', 'sugar', 'clove', 'cloves', 'garlic', 'onion', 'onions'], ['bean', 'beans', 'salt'], ['beef', 'ground beef', 'tomato', 'tomato sauce', 'tomato paste', 'tomatoes', 'water', 'onion', 'clove', 'cloves', 'garlic', 'parsley', 'oregano', 'salt'], ['butter', 'brown sugar', 'sugar', 'apple'], ['flour', 'salt', 'butter', 'water'], ['corn', 'cornstarch', 'tea', 'broth', 'chicken', 'lemon', 'lemon juice', 'olive', 'olive oil', 'eel', 'shrimp', 'clove', 'cloves', 'garlic', 'parsley', 'pepper', 'red pepper'], ['flour', 'butter', 'shortening', 'baking powder', 'tea', 'beat', 'egg', 'salt', 'milk', 'brown sugar', 'sugar', 'vanilla'], ['butter', 'olive', 'olive oil', 'potato', 'onion', 'onions', 'squash', 'pepper', 'clove', 'cloves', 'garlic', 'cheese', 'parmesan cheese', 'salt', 'paprika'], ['olive', 'olive oil', 'thyme', 'oregano', 'parsley', 'rosemary', 'adobo', 'chipotle', 'paprika', 'clove', 'cloves', 'garlic', 'red wine', 'red wine vinegar', 'vinegar', 'wine', 'salt', 'pepper', 'steak', 'tea'], ['shortening', 'flour', 'salt', 'egg', 'egg yolk', 'egg yolks', 'sugar', 'lemon', 'lemon juice', 'pea', 'peach', 'peaches', 'tapioca', 'egg white', 'egg whites', 'cream', 'cream of tartar', 'walnut', 'walnuts'], ['butter', 'shortening', 'sugar', 'beat', 'egg', 'eggs', 'flour', 'baking powder', 'tea', 'egg yolk', 'anise', 'cherries', 'maraschino', 'chocolate', 'milk'], ['apple', 'apples', 'butter', 'sugar', 'cinnamon'], ['beef', 'ground beef', 'salt', 'pepper', 'onion', 'butter', 'horseradish', 'radish', 'mustard'], ['corn', 'corn syrup', 'water', 'sugar', 'pea', 'peanut', 'peanuts', 'baking soda', 'butter', 'salt'], ['flour', 'baking powder', 'baking soda', 'salt', 'sugar', 'orange', 'craisin', 'raisin', 'raisins', 'butter', 'buttermilk', 'milk'], ['beef', 'broth', 'onion', 'clove', 'cloves', 'garlic', 'mushroom', 'mushrooms', 'flour', 'ketchup', 'onion powder', 'garlic powder', 'pepper', 'salt'], ['butter', 'clove', 'cloves', 'garlic', 'cream', 'light cream', 'cheese', 'parmesan cheese', 'pepper', 'tea', 'salt'], ['bean', 'beans', 'black bean', 'black beans', 'broth', 'chicken', 'ground turkey', 'turkey', 'corn', 'salsa', 'rice'], ['cheese', 'cottage cheese', 'apricot', 'cool whip', 'apple', 'pineapple', 'mandarin orange', 'mandarin oranges', 'orange', 'oranges'], ['pepper', 'milk'], ['berry', 'strawberry', 'olive', 'olive oil', 'dijon mustard', 'mustard', 'vinegar', 'white wine', 'wine', 'salt', 'pepper'], ['tomato', 'broth', 'water', 'tea', 'pasta', 'onion', 'onions', 'pea', 'pear', 'peas', 'corn'], ['flour', 'oatmeal', 'butter', 'sugar', 'buttermilk', 'cream', 'milk', 'egg', 'eggs', 'currant', 'currants', 'raisin', 'raisins', 'baking powder', 'tea'], ['lemon', 'sugar', 'gelatin', 'water', 'cream', 'heavy cream', 'rum'], ['chicken', 'celery', 'salt', 'tea', 'onion', 'vidalia onion', 'basil', 'oregano', 'parsley', 'rosemary', 'thyme', 'carrot', 'carrots', 'eel', 'bouillon', 'broth', 'clove', 'cloves', 'garlic', 'pepper', 'red pepper', 'red pepper flakes'], ['flour', 'baking powder', 'baking soda', 'cinnamon', 'salt', 'egg', 'egg white', 'egg whites', 'sugar', 'apple', 'apples', 'applesauce', 'butter', 'buttermilk', 'milk', 'vanilla', 'lemon', 'orange', 'eel', 'seed', 'pecan', 'pecans', 'walnut', 'walnuts'], ['beer', 'water', 'sugar', 'tea', 'olive', 'olive oil', 'salt', 'yeast', 'bread', 'flour'], ['butter', 'sugar', 'egg', 'eggs', 'flour', 'baking powder', 'salt', 'pecan', 'pecans', 'cinnamon', 'cream', 'sour cream', 'vanilla'], ['apple', 'cider', 'orange', 'cinnamon', 'clove', 'cloves', 'allspice', 'berries', 'cranberries'], ['banana', 'eel', 'milk', 'water', 'chocolate', 'mint'], ['olive', 'olive oil', 'onion', 'clove', 'cloves', 'garlic', 'thyme', 'chicken', 'chicken breast', 'turkey', 'celery', 'egg', 'parsley', 'cream', 'mushroom', 'garlic powder', 'pepper', 'salt'], ['kielbasa', 'onion', 'pepper', 'broccoli', 'cheese', 'egg', 'eggs', 'oregano', 'salt', 'paprika'], ['pasta', 'butter', 'flour', 'egg', 'eggs', 'salt', 'garlic', 'garlic powder', 'pepper', 'milk', 'cream', 'sour cream', 'cheese', 'onion', 'bread', 'corn', 'crouton', 'potato', 'rum'], ['flour', 'milk', 'pumpkin', 'sugar', 'pumpkin pie spice', 'baking powder', 'baking soda', 'salt', 'egg'], ['molasses', 'butter', 'flour', 'baking soda', 'ginger', 'salt'], ['bread', 'ham', 'turkey', 'cheddar cheese', 'cheese', 'milk', 'egg', 'eggs'], ['pork', 'onion', 'bean', 'beans', 'kidney bean', 'kidney beans', 'corn', 'tomato', 'rice', 'water', 'olive', 'olives', 'chili', 'chili powder', 'oregano'], ['potato', 'sweet potato', 'sweet potatoes', 'olive', 'olive oil', 'pepper', 'salt', 'spinach', 'berries', 'cranberries', 'almond', 'almonds', 'pecan', 'pecans', 'cheese', 'feta', 'green onion', 'green onions', 'onion', 'onions', 'berry'], ['bacon', 'butter', 'flour', 'white wine', 'wine', 'milk', 'cheddar cheese', 'cheese', 'cream', 'cream cheese', 'paprika', 'pepper', 'red pepper', 'red pepper flakes', 'salt', 'macaroni', 'bread', 'rum'], ['beef', 'ground beef', 'bread', 'rum', 'parsley', 'clove', 'cloves', 'garlic', 'onion', 'pepper', 'egg', 'salt', 'tea', 'garlic powder', 'onion powder', 'tomato', 'tomato sauce', 'ketchup', 'bouillon', 'water', 'balsamic vinegar', 'vinegar', 'brown sugar', 'sugar', 'dijon mustard', 'mustard', 'worcestershire sauce', 'spinach', 'cheese', 'mozzarella'], ['cherry', 'chocolate', 'butter', 'pecan', 'pecans', 'sugar'], ['red wine', 'sherry', 'wine', 'ham', 'ham hock', 'pork', 'sugar', 'vinegar', 'salt', 'pepper', 'onion', 'onions', 'garlic', 'garlic powder', 'broth', 'chicken'], ['raisin', 'raisins', 'almond', 'almonds', 'liver', 'honey', 'molasses', 'brown sugar', 'sugar', 'cinnamon', 'tea', 'beat', 'egg', 'butter', 'vanilla'], ['butter', 'brown sugar', 'sugar', 'egg', 'eggs', 'lemon', 'lemon juice', 'flour', 'salt', 'baking soda', 'berry', 'cranberry', 'raisin', 'raisins', 'chocolate', 'white chocolate', 'berries', 'blueberries'], ['potato', 'sweet potato', 'sweet potatoes', 'butter', 'tea', 'brown sugar', 'sugar', 'cinnamon', 'marshmallow', 'marshmallows'], ['chicken', 'chicken breast', 'butter', 'garlic', 'cream', 'cheese', 'parmesan cheese', 'parsley'], ['berries', 'cranberries', 'water', 'apple', 'pineapple', 'berry', 'cranberry', 'raspberry', 'lemon', 'pecan', 'pecans', 'lettuce'], ['olive', 'olive oil', 'red wine', 'red wine vinegar', 'vinegar', 'wine', 'balsamic vinegar', 'shallot', 'shallots', 'clove', 'cloves', 'garlic', 'parsley', 'pepper', 'red pepper', 'red pepper flakes', 'salt', 'dijon mustard', 'mustard', 'basil', 'oregano', 'onion', 'red onion'], ['butter', 'sugar', 'milk', 'chocolate', 'vanilla'], ['butter', 'cinnamon', 'graham cracker', 'graham crackers', 'ham', 'sugar', 'cheese', 'cream', 'cream cheese', 'lime', 'lime juice', 'salt', 'egg', 'eggs', 'sour cream', 'almond', 'almond extract'], ['beef', 'water', 'pea', 'peas', 'split pea', 'split peas', 'barley', 'bay leaf', 'onion', 'leek', 'carrot', 'carrots', 'turnip', 'parsnip', 'celery', 'cabbage', 'potato', 'pepper', 'salt'], ['bread', 'cheese', 'broccoli', 'ham', 'beat', 'egg', 'eggs', 'milk', 'onion', 'salt', 'tea', 'mustard'], ['milk', 'salt', 'tea', 'butter', 'sugar', 'yeast', 'water', 'bread', 'flour'], ['ham', 'ham hock', 'onion', 'onions', 'pea', 'peas', 'split pea', 'split peas', 'eel', 'potato', 'carrot', 'carrots'], ['sugar', 'flour', 'salt', 'tea', 'apple', 'pineapple', 'mandarin orange', 'mandarin oranges', 'orange', 'oranges', 'pea', 'peach', 'peaches', 'pear', 'pears', 'cherries', 'maraschino', 'marshmallow', 'marshmallows'], ['flour', 'sugar', 'baking powder', 'salt', 'beat', 'egg', 'milk', 'apple', 'apples', 'brown sugar', 'cinnamon', 'butter', 'walnut', 'walnuts', 'vanilla'], ['pea', 'pear', 'tapioca', 'water', 'milk', 'salt', 'egg', 'eggs', 'sugar', 'vanilla', 'vanilla extract'], ['chicken', 'chicken breast', 'onion', 'clove', 'cloves', 'garlic', 'garlic powder', 'pepper', 'salt', 'paprika', 'tea', 'cheese', 'parmesan cheese', 'rosemary', 'parsley', 'butter', 'olive', 'olive oil', 'bread', 'rum', 'ham', 'prosciutto', 'water'], ['soy sauce', 'sugar', 'molasses', 'bourbon', 'sherry', 'ginger', 'clove', 'cloves', 'garlic'], ['beef', 'ground beef', 'onion', 'onions', 'cabbage', 'sugar', 'lemon', 'lemon juice', 'broth', 'tomato', 'tomato sauce', 'tomatoes', 'water', 'rice'], ['pork', 'sage', 'sausage', 'olive', 'olive oil', 'onion', 'clove', 'cloves', 'garlic', 'hash browns', 'cheddar cheese', 'cheese', 'green onion', 'milk', 'egg', 'eggs', 'salt', 'pepper'], ['apple', 'pineapple', 'brown sugar', 'sugar', 'butter', 'cinnamon', 'clove', 'cloves'], ['parsley', 'clove', 'cloves', 'garlic', 'oregano', 'tea', 'salt', 'chili', 'chili powder', 'chipotle', 'olive', 'olive oil', 'lime', 'lime juice'], ['pork', 'bread', 'rum', 'parsley', 'cheese', 'parmesan cheese', 'olive', 'olive oil', 'butter', 'clove', 'cloves', 'garlic', 'onion', 'pepper', 'salt', 'tea', 'paprika', 'onion powder', 'water', 'garlic powder', 'sage'], ['apple', 'pineapple', 'pea', 'peach', 'peaches', 'apricot', 'cherries', 'sugar', 'brandy', 'egg', 'eggs', 'pudding', 'vanilla', 'pecan', 'pecans'], ['yeast', 'sugar', 'corn', 'semolina', 'salt', 'pepper', 'flour', 'olive', 'olive oil', 'water'], ['chestnut', 'water', 'water chestnut', 'cream', 'mushroom', 'mayo', 'mayonnaise', 'cheddar cheese', 'cheese', 'onion'], ['chicken', 'clove', 'cloves', 'garlic', 'ginger', 'soy sauce', 'honey'], ['cheese', 'cream', 'cream cheese', 'cheddar cheese', 'pepper', 'onion', 'lemon', 'lemon juice', 'worcestershire sauce', 'ham'], ['onion', 'garlic', 'garlic powder', 'salt', 'olive', 'olive oil', 'red wine', 'red wine vinegar', 'vinegar', 'wine', 'beef', 'broth', 'water', 'ketchup', 'chili', 'chili powder', 'mustard'], ['pork', 'cabbage', 'onion', 'onions', 'carrot', 'carrots', 'potato', 'clove', 'cloves', 'garlic', 'corn', 'pepper'], ['egg', 'eggs', 'milk', 'marjoram', 'salt', 'butter', 'potato', 'spinach', 'tomato', 'tomatoes', 'green onion', 'green onions', 'onion', 'onions', 'cheese', 'swiss cheese'], ['milk', 'cream'], ['chicken', 'chicken breast', 'water', 'salt', 'sugar', 'parsley', 'oregano', 'clove', 'cloves', 'garlic', 'vinegar', 'white wine', 'wine', 'olive', 'olive oil', 'pepper', 'red pepper', 'red pepper flakes'], ['apple', 'apples', 'apple pie spice', 'pumpkin', 'pumpkin pie spice', 'tea', 'bread', 'cinnamon', 'butter', 'cider', 'berries', 'cranberries'], ['lamb', 'onion', 'carrot', 'celery', 'beef', 'salt', 'pepper', 'corn', 'potato', 'butter'], ['butter', 'celery', 'onion', 'chicken', 'carrot', 'carrots', 'bean', 'beans', 'lima bean', 'lima beans', 'eel', 'onions', 'water', 'chervil', 'salt', 'pepper', 'flour', 'cream', 'heavy cream'], ['potato', 'sugar', 'butter', 'pea', 'peanut', 'peanut butter'], ['pork', 'pepper', 'salt', 'canola oil', 'sage', 'sausage', 'sausages', 'onion', 'mushroom', 'mushrooms', 'clove', 'garlic', 'beef', 'broth', 'tomato', 'tomato sauce'], ['butter', 'sugar', 'milk', 'chocolate', 'unsweetened chocolate', 'oatmeal', 'tea', 'vanilla'], ['butter', 'olive', 'olive oil', 'pork', 'chicken', 'cream', 'mushroom', 'mushrooms', 'dijon mustard', 'mustard', 'broth', 'clove', 'cloves', 'garlic', 'salt', 'pepper', 'eel', 'potato', 'onion', 'parsley'], ['flour', 'salt', 'tea', 'egg', 'eggs', 'butter', 'water', 'eel', 'potato', 'onion', 'onions', 'cheddar cheese', 'cheese', 'ricotta cheese', 'pepper'], ['yeast', 'butter', 'water', 'flour', 'sugar', 'salt'], ['beef', 'soy sauce', 'clove', 'garlic', 'ginger', 'tea', 'green onion', 'onion', 'pepper', 'peppers', 'celery', 'corn', 'cornstarch', 'water', 'tomato', 'chestnut', 'mushroom', 'mushrooms'], ['eel', 'potato', 'cheddar cheese', 'cheese', 'mayo', 'mayonnaise', 'bacon', 'rum', 'garlic', 'onion', 'parsley', 'pepper', 'salt'], ['orange', 'honey', 'banana', 'eel', 'berries', 'strawberries', 'raspberries'], ['apple', 'pineapple', 'lemon', 'orange', 'water', 'lemon juice', 'sugar', 'cherries', 'maraschino', 'berries', 'strawberries', 'lime'], ['chocolate', 'unsweetened chocolate', 'butter', 'sugar', 'egg', 'eggs', 'vanilla', 'flour', 'pea', 'peanut', 'peanuts', 'walnut', 'walnuts', 'cocoa', 'powdered sugar', 'milk'], ['egg', 'milk', 'water', 'salt', 'flour', 'cream', 'sour cream', 'butter', 'baking powder', 'egg yolk', 'egg yolks', 'eggs', 'cheese', 'cottage cheese', 'pepper', 'sugar', 'vanilla', 'vanilla extract', 'potato', 'onion', 'onions', 'bread', 'rum', 'chives', 'green onion', 'green onions', 'leek', 'leeks'], ['pork', 'apple', 'pineapple', 'orange', 'corn', 'cornstarch', 'soy sauce', 'ginger', 'pepper', 'red pepper', 'green onion', 'green onions', 'onion', 'onions', 'carrot', 'clove', 'garlic', 'butter'], ['sugar', 'egg', 'eggs', 'pumpkin', 'salt', 'baking soda', 'cinnamon', 'ginger', 'nutmeg', 'vanilla', 'flour'], ['beef', 'ground beef', 'onion', 'chili', 'milk', 'egg', 'eggs', 'tomato', 'tomatoes', 'cheddar cheese', 'cheese'], ['chicken', 'chicken breast', 'cheese', 'cream', 'cream cheese', 'pepper', 'onion', 'sweet onion', 'tomato', 'tomatoes', 'cilantro', 'salsa', 'onion powder', 'chili', 'chili powder', 'chipotle', 'garlic', 'salt', 'olive', 'olive oil', 'liquid smoke'], ['egg', 'egg white', 'egg whites', 'milk', 'pepper', 'salt', 'cheese', 'onion'], ['butter', 'cheese', 'cream', 'cream cheese', 'parmesan cheese', 'garlic', 'garlic powder', 'pepper'], ['corn', 'cream', 'onion', 'pepper', 'peppers', 'cheese', 'ham', 'hamburger', 'egg', 'eggs', 'milk', 'bread'], ['beef', 'beer', 'water', 'corn', 'pepper', 'parsley', 'salt', 'butter', 'olive', 'olive oil', 'clove', 'cloves', 'eel', 'garlic', 'leek', 'leeks', 'onion', 'carrot', 'carrots', 'potato', 'turnip', 'turnips', 'cabbage'], ['egg', 'eggplant', 'eggplants', 'bread', 'rum', 'eggs', 'parsley', 'cheese', 'parmesan cheese', 'celery', 'paprika', 'seed', 'garlic', 'onion', 'onion powder', 'pepper', 'salt', 'clove', 'cloves', 'olive', 'olive oil'], ['cheese', 'cream', 'mushroom', 'pepper', 'salt'], ['bean', 'beans', 'white bean', 'clove', 'cloves', 'eel', 'garlic', 'broth', 'water', 'onion', 'basil', 'oregano', 'rosemary', 'pepper', 'tomato', 'tomatoes', 'black olive', 'black olives', 'olive', 'olives', 'olive oil'], ['cucumber', 'eel', 'pepper', 'tomato', 'onion', 'red onion', 'red wine', 'red wine vinegar', 'vinegar', 'wine', 'olive', 'olive oil', 'tabasco sauce', 'salt', 'garlic', 'garlic powder', 'avocado'], ['cheese', 'parmesan cheese', 'milk', 'flour', 'butter', 'salt', 'tea', 'egg', 'eggs'], ['flour', 'sugar', 'cocoa', 'baking powder', 'salt', 'milk', 'shortening', 'brown sugar', 'water'], ['pudding', 'vanilla', 'milk', 'egg', 'eggs', 'walnut', 'walnuts', 'butter', 'sugar', 'water'], ['sugar', 'flour', 'water', 'lemon', 'lemon juice', 'salt', 'egg', 'egg yolk', 'egg yolks', 'butter', 'egg white', 'egg whites', 'tea', 'vanilla', 'cream', 'cream of tartar'], ['salt', 'paprika', 'garlic', 'onion', 'onion powder', 'cumin', 'seed', 'pepper', 'mustard', 'red wine', 'red wine vinegar', 'vinegar', 'wine', 'water', 'soy sauce'], ['butter', 'sugar', 'egg', 'milk', 'baking powder', 'tea', 'salt', 'flour', 'vanilla'], ['sugar', 'egg', 'eggs', 'condensed milk', 'milk', 'sweetened condensed milk', 'evaporated milk', 'water', 'tea', 'vanilla', 'cinnamon', 'nutmeg'], ['beef', 'salt', 'tea', 'worcestershire sauce', 'garlic', 'garlic powder', 'onion', 'onion powder', 'pepper', 'cayenne pepper', 'brown sugar', 'molasses', 'sugar', 'barbecue sauce', 'ketchup'], ['eel', 'potato', 'onion', 'butter', 'cream', 'mushroom', 'milk', 'cheddar cheese', 'cheese', 'pepper', 'tea', 'paprika'], ['rosemary', 'dijon mustard', 'mustard', 'olive', 'olive oil', 'clove', 'cloves', 'eel', 'garlic', 'onion', 'soy sauce', 'beef', 'broth', 'garlic powder', 'pepper', 'salt'], ['beef', 'ground beef', 'bean', 'beans', 'cheddar cheese', 'cheese', 'flour', 'tortilla', 'tortillas', 'chili', 'chili powder', 'cumin', 'garlic', 'garlic powder', 'onion', 'onion powder', 'pepper', 'red pepper', 'salt']]\n"
     ]
    }
   ],
   "source": [
    "# Obtaining the list of ingredients for each recipe. Only interested\n",
    "# in the ingredients, and so I've stripped the other information such as URL\n",
    "import json\n",
    "\n",
    "with open('combinedRecipes.JSON') as recipes:\n",
    "    data = json.load(recipes)\n",
    "# print(data)\n",
    "\n",
    "ingrs_per_recipe = []\n",
    "for obj in data:\n",
    "    ingrs_per_recipe.append(obj[\"ingredients\"])\n",
    "print(ingrs_per_recipe)"
   ]
  },
  {
   "cell_type": "code",
   "execution_count": 2,
   "metadata": {
    "collapsed": false
   },
   "outputs": [
    {
     "name": "stdout",
     "output_type": "stream",
     "text": [
      "1024\n"
     ]
    }
   ],
   "source": [
    "# getting the list of ingredients, lowercasing, uniqifying, then sorting alphabetically\n",
    "with open('foodList.txt') as f:\n",
    "        ing_list = f.readlines()\n",
    "ing_list = [ing[:-1].lower() for ing in ing_list]\n",
    "uniq_ing_list = list(set(ing_list)) # had 3 duplicates\n",
    "uniq_ing_list = sorted(uniq_ing_list)\n",
    "print(len(uniq_ing_list))\n",
    "# print(uniq_ing_list)\n",
    "# print('fennel seeds' in uniq_ing_list)\n",
    "\n",
    "\n",
    "\n"
   ]
  },
  {
   "cell_type": "code",
   "execution_count": 3,
   "metadata": {
    "collapsed": false
   },
   "outputs": [
    {
     "name": "stdout",
     "output_type": "stream",
     "text": [
      "1024\n"
     ]
    }
   ],
   "source": [
    "import pandas as pd\n",
    "import itertools as iter\n",
    "import numpy as np\n",
    "\n",
    "columns = uniq_ing_list\n",
    "print(len(columns))\n",
    "df = pd.DataFrame(0, index=columns, columns=columns)\n",
    "count = 0\n",
    "\n",
    "for ingredient_list in ingrs_per_recipe:\n",
    "    for pair in list(iter.permutations(ingredient_list,2)):\n",
    "        try: \n",
    "            count += 1\n",
    "            r = pair[0]\n",
    "            c = pair[1]\n",
    "            curr_value = df.loc[r, c]\n",
    "            new_value = curr_value + 1\n",
    "            df.ix[r, c] = new_value\n",
    "        except KeyError as key_err:\n",
    "            print('Could not find key in foodList:', key_err)\n",
    "\n",
    "# diagonal should be set to 0 because no such case that \n",
    "# apples will be paired with apples\n",
    "df.values[[np.arange(len(columns))]*2] = 0\n",
    "\n"
   ]
  },
  {
   "cell_type": "code",
   "execution_count": null,
   "metadata": {
    "collapsed": true
   },
   "outputs": [],
   "source": [
    "#\n",
    "# Sanity checks: \n",
    "#\n",
    "# 1. check for symmetry A^T = A\n",
    "# np.diag(df).sum() # -> 0\n",
    "# dfT = df.transpose()\n",
    "# print((dfT == df).all().sum()) # if sums to len(columns), then it is symmetric\n",
    "\n",
    "# 2. check if row and col labels are the same\n",
    "# list(df.columns.values) == list(df.index.values) -> true\n"
   ]
  },
  {
   "cell_type": "code",
   "execution_count": 4,
   "metadata": {
    "collapsed": true
   },
   "outputs": [
    {
     "name": "stdout",
     "output_type": "stream",
     "text": [
      "(371, 371)\n",
      "TOTAL 50390\n",
      "                       absinthe    adobo      ale  allspice    almond  \\\n",
      "absinthe                    0.0  0.00000  0.00000   0.00000  0.000000   \n",
      "adobo                       0.0  0.00000  0.00000   0.00000  0.000000   \n",
      "ale                         0.0  0.00000  0.00000   0.00000  0.000000   \n",
      "allspice                    0.0  0.00000  0.00000   0.00000  0.000000   \n",
      "almond                      0.0  0.00000  0.00000   0.00000  0.000000   \n",
      "almond extract              0.0  0.00000  0.00000   0.00000  0.999980   \n",
      "almonds                     0.0  0.00000  0.00000   0.00000  0.999921   \n",
      "anchovy                     0.0  0.00000  0.00000   0.00000  0.000000   \n",
      "anise                       0.0  0.00000  0.00000   0.00000  0.000000   \n",
      "apple                       0.0  0.00000  0.99996   0.99998  0.000000   \n",
      "apple cider vinegar         0.0  0.00000  0.00000   0.00000  0.000000   \n",
      "apple pie spice             0.0  0.00000  0.00000   0.00000  0.000000   \n",
      "apples                      0.0  0.00000  0.00000   0.00000  0.000000   \n",
      "applesauce                  0.0  0.00000  0.00000   0.00000  0.000000   \n",
      "apricot                     0.0  0.00000  0.00000   0.00000  0.000000   \n",
      "artichoke                   0.0  0.00000  0.00000   0.00000  0.000000   \n",
      "arugula                     0.0  0.00000  0.00000   0.00000  0.000000   \n",
      "asparagus                   0.0  0.00000  0.00000   0.00000  0.000000   \n",
      "avocado                     0.0  0.00000  0.00000   0.00000  0.000000   \n",
      "bacon                       0.0  0.00000  0.00000   0.00000  0.000000   \n",
      "bacon grease                0.0  0.00000  0.00000   0.00000  0.000000   \n",
      "baking powder               0.0  0.00000  0.00000   0.00000  0.999980   \n",
      "baking soda                 0.0  0.00000  0.00000   0.00000  0.999980   \n",
      "balsamic vinegar            0.0  0.00000  0.00000   0.00000  0.000000   \n",
      "banana                      0.0  0.00000  0.00000   0.99998  0.999980   \n",
      "bananas                     0.0  0.00000  0.00000   0.00000  0.999980   \n",
      "barbecue sauce              0.0  0.00000  0.00000   0.00000  0.000000   \n",
      "barley                      0.0  0.00000  0.00000   0.00000  0.000000   \n",
      "basil                       0.0  0.00000  0.00000   0.00000  0.000000   \n",
      "bay leaf                    0.0  0.00000  0.00000   0.00000  0.000000   \n",
      "...                         ...      ...      ...       ...       ...   \n",
      "tortillas                   0.0  0.00000  0.00000   0.99996  0.000000   \n",
      "tuna                        0.0  0.00000  0.00000   0.00000  0.000000   \n",
      "turkey                      0.0  0.00000  0.00000   0.99998  0.000000   \n",
      "turkey breast               0.0  0.00000  0.00000   0.99998  0.000000   \n",
      "turmeric                    0.0  0.00000  0.99998   0.00000  0.000000   \n",
      "turnip                      0.0  0.00000  0.00000   0.00000  0.000000   \n",
      "turnips                     0.0  0.00000  0.00000   0.00000  0.000000   \n",
      "unsweetened chocolate       0.0  0.00000  0.00000   0.00000  0.000000   \n",
      "vanilla                     0.0  0.00000  0.00000   0.00000  0.999960   \n",
      "vanilla extract             0.0  0.00000  0.00000   0.00000  0.999980   \n",
      "veal                        0.0  0.00000  0.00000   0.00000  0.000000   \n",
      "vermouth                    0.0  0.00000  0.00000   0.00000  0.000000   \n",
      "vidalia onion               0.0  0.00000  0.00000   0.00000  0.000000   \n",
      "vinegar                     0.0  0.99998  0.99998   0.99998  0.000000   \n",
      "walnut                      0.0  0.00000  0.00000   0.00000  0.999980   \n",
      "walnuts                     0.0  0.00000  0.00000   0.00000  0.999980   \n",
      "wasabi                      0.0  0.00000  0.00000   0.00000  0.000000   \n",
      "water                       0.0  0.00000  0.99996   0.00000  0.999980   \n",
      "water chestnut              0.0  0.00000  0.00000   0.00000  0.000000   \n",
      "watermelon                  0.0  0.00000  0.00000   0.00000  0.000000   \n",
      "wheat                       0.0  0.00000  0.00000   0.00000  0.999980   \n",
      "wheat germ                  0.0  0.00000  0.00000   0.00000  0.999980   \n",
      "white bean                  0.0  0.00000  0.00000   0.00000  0.000000   \n",
      "white chocolate             0.0  0.00000  0.00000   0.00000  0.000000   \n",
      "white vinegar               0.0  0.00000  0.00000   0.99998  0.000000   \n",
      "white wine                  0.0  0.00000  0.00000   0.00000  0.000000   \n",
      "wild rice                   0.0  0.00000  0.00000   0.00000  0.000000   \n",
      "wine                        0.0  0.99998  0.99998   0.00000  0.000000   \n",
      "worcestershire sauce        0.0  0.00000  0.00000   0.00000  0.000000   \n",
      "yeast                       0.0  0.00000  0.00000   0.00000  0.000000   \n",
      "\n",
      "                       almond extract   almonds  anchovy    anise     apple  \\\n",
      "absinthe                      0.00000  0.000000  0.00000  0.00000  0.000000   \n",
      "adobo                         0.00000  0.000000  0.00000  0.00000  0.000000   \n",
      "ale                           0.00000  0.000000  0.00000  0.00000  0.999960   \n",
      "allspice                      0.00000  0.000000  0.00000  0.00000  0.999980   \n",
      "almond                        0.99998  0.999921  0.00000  0.00000  0.000000   \n",
      "almond extract                0.00000  0.000000  0.00000  0.00000  0.000000   \n",
      "almonds                       0.00000  0.000000  0.00000  0.00000  0.000000   \n",
      "anchovy                       0.00000  0.000000  0.00000  0.00000  0.000000   \n",
      "anise                         0.00000  0.000000  0.00000  0.00000  0.000000   \n",
      "apple                         0.00000  0.000000  0.00000  0.00000  0.000000   \n",
      "apple cider vinegar           0.00000  0.000000  0.00000  0.00000  0.999940   \n",
      "apple pie spice               0.00000  0.000000  0.00000  0.00000  0.999980   \n",
      "apples                        0.00000  0.000000  0.00000  0.00000  0.999921   \n",
      "applesauce                    0.00000  0.000000  0.00000  0.00000  0.999980   \n",
      "apricot                       0.00000  0.000000  0.00000  0.00000  0.999960   \n",
      "artichoke                     0.00000  0.000000  0.99998  0.00000  0.000000   \n",
      "arugula                       0.00000  0.000000  0.99998  0.00000  0.000000   \n",
      "asparagus                     0.00000  0.000000  0.00000  0.00000  0.000000   \n",
      "avocado                       0.00000  0.000000  0.00000  0.00000  0.000000   \n",
      "bacon                         0.00000  0.000000  0.00000  0.00000  0.999980   \n",
      "bacon grease                  0.00000  0.000000  0.00000  0.00000  0.000000   \n",
      "baking powder                 0.00000  0.999980  0.00000  0.99998  0.999960   \n",
      "baking soda                   0.00000  0.999980  0.00000  0.00000  0.999980   \n",
      "balsamic vinegar              0.00000  0.000000  0.00000  0.00000  0.000000   \n",
      "banana                        0.00000  0.999980  0.00000  0.00000  0.999980   \n",
      "bananas                       0.00000  0.999980  0.00000  0.00000  0.000000   \n",
      "barbecue sauce                0.00000  0.000000  0.00000  0.00000  0.000000   \n",
      "barley                        0.00000  0.000000  0.00000  0.00000  0.000000   \n",
      "basil                         0.00000  0.000000  0.00000  0.00000  0.000000   \n",
      "bay leaf                      0.00000  0.000000  0.00000  0.00000  0.000000   \n",
      "...                               ...       ...      ...      ...       ...   \n",
      "tortillas                     0.00000  0.000000  0.00000  0.00000  0.000000   \n",
      "tuna                          0.00000  0.000000  0.99996  0.00000  0.000000   \n",
      "turkey                        0.00000  0.000000  0.00000  0.00000  0.000000   \n",
      "turkey breast                 0.00000  0.000000  0.00000  0.00000  0.000000   \n",
      "turmeric                      0.00000  0.000000  0.00000  0.00000  0.000000   \n",
      "turnip                        0.00000  0.000000  0.00000  0.00000  0.000000   \n",
      "turnips                       0.00000  0.000000  0.00000  0.00000  0.000000   \n",
      "unsweetened chocolate         0.00000  0.000000  0.00000  0.00000  0.000000   \n",
      "vanilla                       0.00000  0.999960  0.00000  0.00000  0.999921   \n",
      "vanilla extract               0.00000  0.999980  0.00000  0.00000  0.000000   \n",
      "veal                          0.00000  0.000000  0.00000  0.00000  0.000000   \n",
      "vermouth                      0.00000  0.000000  0.99998  0.00000  0.000000   \n",
      "vidalia onion                 0.00000  0.000000  0.00000  0.00000  0.000000   \n",
      "vinegar                       0.00000  0.000000  0.99996  0.00000  0.999921   \n",
      "walnut                        0.00000  0.999980  0.00000  0.00000  0.999960   \n",
      "walnuts                       0.00000  0.999980  0.00000  0.00000  0.999960   \n",
      "wasabi                        0.00000  0.000000  0.00000  0.00000  0.000000   \n",
      "water                         0.00000  0.999980  0.00000  0.00000  0.999921   \n",
      "water chestnut                0.00000  0.000000  0.00000  0.00000  0.000000   \n",
      "watermelon                    0.00000  0.000000  0.00000  0.00000  0.000000   \n",
      "wheat                         0.00000  0.999980  0.00000  0.00000  0.000000   \n",
      "wheat germ                    0.00000  0.999980  0.00000  0.00000  0.000000   \n",
      "white bean                    0.00000  0.000000  0.00000  0.00000  0.000000   \n",
      "white chocolate               0.00000  0.000000  0.00000  0.00000  0.000000   \n",
      "white vinegar                 0.00000  0.000000  0.00000  0.00000  0.000000   \n",
      "white wine                    0.00000  0.000000  0.00000  0.00000  0.000000   \n",
      "wild rice                     0.00000  0.000000  0.00000  0.00000  0.000000   \n",
      "wine                          0.00000  0.000000  0.99994  0.00000  0.999980   \n",
      "worcestershire sauce          0.00000  0.000000  0.99998  0.00000  0.999980   \n",
      "yeast                         0.00000  0.000000  0.00000  0.00000  0.000000   \n",
      "\n",
      "                         ...       wheat  wheat germ  white bean  \\\n",
      "absinthe                 ...     0.00000     0.00000     0.00000   \n",
      "adobo                    ...     0.00000     0.00000     0.00000   \n",
      "ale                      ...     0.00000     0.00000     0.00000   \n",
      "allspice                 ...     0.00000     0.00000     0.00000   \n",
      "almond                   ...     0.99998     0.99998     0.00000   \n",
      "almond extract           ...     0.00000     0.00000     0.00000   \n",
      "almonds                  ...     0.99998     0.99998     0.00000   \n",
      "anchovy                  ...     0.00000     0.00000     0.00000   \n",
      "anise                    ...     0.00000     0.00000     0.00000   \n",
      "apple                    ...     0.00000     0.00000     0.00000   \n",
      "apple cider vinegar      ...     0.00000     0.00000     0.00000   \n",
      "apple pie spice          ...     0.00000     0.00000     0.00000   \n",
      "apples                   ...     0.00000     0.00000     0.00000   \n",
      "applesauce               ...     0.00000     0.00000     0.00000   \n",
      "apricot                  ...     0.00000     0.00000     0.00000   \n",
      "artichoke                ...     0.00000     0.00000     0.00000   \n",
      "arugula                  ...     0.00000     0.00000     0.00000   \n",
      "asparagus                ...     0.00000     0.00000     0.00000   \n",
      "avocado                  ...     0.00000     0.00000     0.00000   \n",
      "bacon                    ...     0.00000     0.00000     0.00000   \n",
      "bacon grease             ...     0.00000     0.00000     0.00000   \n",
      "baking powder            ...     0.00000     0.00000     0.00000   \n",
      "baking soda              ...     0.00000     0.00000     0.00000   \n",
      "balsamic vinegar         ...     0.00000     0.00000     0.00000   \n",
      "banana                   ...     0.00000     0.00000     0.00000   \n",
      "bananas                  ...     0.00000     0.00000     0.00000   \n",
      "barbecue sauce           ...     0.00000     0.00000     0.00000   \n",
      "barley                   ...     0.00000     0.00000     0.00000   \n",
      "basil                    ...     0.00000     0.00000     0.99998   \n",
      "bay leaf                 ...     0.00000     0.00000     0.00000   \n",
      "...                      ...         ...         ...         ...   \n",
      "tortillas                ...     0.00000     0.00000     0.00000   \n",
      "tuna                     ...     0.00000     0.00000     0.00000   \n",
      "turkey                   ...     0.00000     0.00000     0.00000   \n",
      "turkey breast            ...     0.00000     0.00000     0.00000   \n",
      "turmeric                 ...     0.00000     0.00000     0.00000   \n",
      "turnip                   ...     0.00000     0.00000     0.00000   \n",
      "turnips                  ...     0.00000     0.00000     0.00000   \n",
      "unsweetened chocolate    ...     0.00000     0.00000     0.00000   \n",
      "vanilla                  ...     0.00000     0.00000     0.00000   \n",
      "vanilla extract          ...     0.00000     0.00000     0.00000   \n",
      "veal                     ...     0.00000     0.00000     0.00000   \n",
      "vermouth                 ...     0.00000     0.00000     0.00000   \n",
      "vidalia onion            ...     0.00000     0.00000     0.00000   \n",
      "vinegar                  ...     0.00000     0.00000     0.00000   \n",
      "walnut                   ...     0.00000     0.00000     0.00000   \n",
      "walnuts                  ...     0.00000     0.00000     0.00000   \n",
      "wasabi                   ...     0.00000     0.00000     0.00000   \n",
      "water                    ...     0.99998     0.99998     0.99998   \n",
      "water chestnut           ...     0.00000     0.00000     0.00000   \n",
      "watermelon               ...     0.00000     0.00000     0.00000   \n",
      "wheat                    ...     0.00000     0.99998     0.00000   \n",
      "wheat germ               ...     0.99998     0.00000     0.00000   \n",
      "white bean               ...     0.00000     0.00000     0.00000   \n",
      "white chocolate          ...     0.00000     0.00000     0.00000   \n",
      "white vinegar            ...     0.00000     0.00000     0.00000   \n",
      "white wine               ...     0.00000     0.00000     0.00000   \n",
      "wild rice                ...     0.00000     0.00000     0.00000   \n",
      "wine                     ...     0.00000     0.00000     0.00000   \n",
      "worcestershire sauce     ...     0.00000     0.00000     0.00000   \n",
      "yeast                    ...     0.00000     0.00000     0.00000   \n",
      "\n",
      "                       white chocolate  white vinegar  white wine  wild rice  \\\n",
      "absinthe                       0.00000        0.00000    0.000000    0.00000   \n",
      "adobo                          0.00000        0.00000    0.000000    0.00000   \n",
      "ale                            0.00000        0.00000    0.000000    0.00000   \n",
      "allspice                       0.00000        0.99998    0.000000    0.00000   \n",
      "almond                         0.00000        0.00000    0.000000    0.00000   \n",
      "almond extract                 0.00000        0.00000    0.000000    0.00000   \n",
      "almonds                        0.00000        0.00000    0.000000    0.00000   \n",
      "anchovy                        0.00000        0.00000    0.000000    0.00000   \n",
      "anise                          0.00000        0.00000    0.000000    0.00000   \n",
      "apple                          0.00000        0.00000    0.000000    0.00000   \n",
      "apple cider vinegar            0.00000        0.00000    0.000000    0.00000   \n",
      "apple pie spice                0.00000        0.00000    0.000000    0.00000   \n",
      "apples                         0.00000        0.00000    0.000000    0.00000   \n",
      "applesauce                     0.00000        0.00000    0.000000    0.00000   \n",
      "apricot                        0.00000        0.00000    0.000000    0.00000   \n",
      "artichoke                      0.00000        0.00000    0.000000    0.00000   \n",
      "arugula                        0.00000        0.00000    0.000000    0.00000   \n",
      "asparagus                      0.00000        0.00000    0.000000    0.00000   \n",
      "avocado                        0.00000        0.00000    0.000000    0.00000   \n",
      "bacon                          0.00000        0.00000    0.999980    0.00000   \n",
      "bacon grease                   0.00000        0.00000    0.000000    0.00000   \n",
      "baking powder                  0.00000        0.00000    0.000000    0.00000   \n",
      "baking soda                    0.99998        0.00000    0.000000    0.00000   \n",
      "balsamic vinegar               0.00000        0.00000    0.000000    0.00000   \n",
      "banana                         0.00000        0.99998    0.000000    0.00000   \n",
      "bananas                        0.00000        0.00000    0.000000    0.00000   \n",
      "barbecue sauce                 0.00000        0.00000    0.000000    0.00000   \n",
      "barley                         0.00000        0.00000    0.000000    0.00000   \n",
      "basil                          0.00000        0.00000    0.000000    0.00000   \n",
      "bay leaf                       0.00000        0.00000    0.000000    0.00000   \n",
      "...                                ...            ...         ...        ...   \n",
      "tortillas                      0.00000        0.99998    0.000000    0.00000   \n",
      "tuna                           0.00000        0.00000    0.000000    0.00000   \n",
      "turkey                         0.00000        0.00000    0.000000    0.00000   \n",
      "turkey breast                  0.00000        0.00000    0.000000    0.00000   \n",
      "turmeric                       0.00000        0.00000    0.000000    0.00000   \n",
      "turnip                         0.00000        0.00000    0.000000    0.00000   \n",
      "turnips                        0.00000        0.00000    0.000000    0.00000   \n",
      "unsweetened chocolate          0.00000        0.00000    0.000000    0.00000   \n",
      "vanilla                        0.00000        0.00000    0.000000    0.00000   \n",
      "vanilla extract                0.00000        0.00000    0.000000    0.00000   \n",
      "veal                           0.00000        0.00000    0.000000    0.00000   \n",
      "vermouth                       0.00000        0.00000    0.000000    0.00000   \n",
      "vidalia onion                  0.00000        0.00000    0.000000    0.00000   \n",
      "vinegar                        0.00000        0.99996    0.999960    0.00000   \n",
      "walnut                         0.00000        0.00000    0.000000    0.00000   \n",
      "walnuts                        0.00000        0.00000    0.000000    0.00000   \n",
      "wasabi                         0.00000        0.00000    0.000000    0.00000   \n",
      "water                          0.00000        0.00000    0.999960    0.99998   \n",
      "water chestnut                 0.00000        0.00000    0.000000    0.00000   \n",
      "watermelon                     0.00000        0.00000    0.000000    0.00000   \n",
      "wheat                          0.00000        0.00000    0.000000    0.00000   \n",
      "wheat germ                     0.00000        0.00000    0.000000    0.00000   \n",
      "white bean                     0.00000        0.00000    0.000000    0.00000   \n",
      "white chocolate                0.00000        0.00000    0.000000    0.00000   \n",
      "white vinegar                  0.00000        0.00000    0.000000    0.00000   \n",
      "white wine                     0.00000        0.00000    0.000000    0.00000   \n",
      "wild rice                      0.00000        0.00000    0.000000    0.00000   \n",
      "wine                           0.00000        0.00000    0.999881    0.00000   \n",
      "worcestershire sauce           0.00000        0.00000    0.000000    0.00000   \n",
      "yeast                          0.00000        0.00000    0.000000    0.00000   \n",
      "\n",
      "                           wine  worcestershire sauce     yeast  \n",
      "absinthe               0.000000               0.00000  0.000000  \n",
      "adobo                  0.999980               0.00000  0.000000  \n",
      "ale                    0.999980               0.00000  0.000000  \n",
      "allspice               0.000000               0.00000  0.000000  \n",
      "almond                 0.000000               0.00000  0.000000  \n",
      "almond extract         0.000000               0.00000  0.000000  \n",
      "almonds                0.000000               0.00000  0.000000  \n",
      "anchovy                0.999940               0.99998  0.000000  \n",
      "anise                  0.000000               0.00000  0.000000  \n",
      "apple                  0.999980               0.99998  0.000000  \n",
      "apple cider vinegar    0.000000               0.99998  0.000000  \n",
      "apple pie spice        0.000000               0.00000  0.000000  \n",
      "apples                 0.000000               0.00000  0.000000  \n",
      "applesauce             0.000000               0.00000  0.000000  \n",
      "apricot                0.000000               0.00000  0.000000  \n",
      "artichoke              0.000000               0.00000  0.000000  \n",
      "arugula                0.999980               0.00000  0.000000  \n",
      "asparagus              0.999980               0.00000  0.000000  \n",
      "avocado                0.999980               0.00000  0.000000  \n",
      "bacon                  0.999980               0.00000  0.000000  \n",
      "bacon grease           0.000000               0.00000  0.000000  \n",
      "baking powder          0.999980               0.00000  0.000000  \n",
      "baking soda            0.000000               0.00000  0.000000  \n",
      "balsamic vinegar       0.999980               0.99998  0.000000  \n",
      "banana                 0.000000               0.00000  0.000000  \n",
      "bananas                0.000000               0.00000  0.000000  \n",
      "barbecue sauce         0.000000               0.99998  0.000000  \n",
      "barley                 0.000000               0.00000  0.000000  \n",
      "basil                  0.999940               0.00000  0.000000  \n",
      "bay leaf               0.999980               0.00000  0.000000  \n",
      "...                         ...                   ...       ...  \n",
      "tortillas              0.000000               0.00000  0.000000  \n",
      "tuna                   0.999960               0.00000  0.000000  \n",
      "turkey                 0.000000               0.00000  0.000000  \n",
      "turkey breast          0.000000               0.00000  0.000000  \n",
      "turmeric               0.000000               0.00000  0.000000  \n",
      "turnip                 0.000000               0.00000  0.000000  \n",
      "turnips                0.000000               0.00000  0.000000  \n",
      "unsweetened chocolate  0.000000               0.00000  0.000000  \n",
      "vanilla                0.000000               0.00000  0.000000  \n",
      "vanilla extract        0.000000               0.00000  0.000000  \n",
      "veal                   0.000000               0.00000  0.000000  \n",
      "vermouth               0.999960               0.99998  0.000000  \n",
      "vidalia onion          0.999980               0.00000  0.000000  \n",
      "vinegar                0.999762               0.99994  0.000000  \n",
      "walnut                 0.000000               0.00000  0.000000  \n",
      "walnuts                0.000000               0.00000  0.000000  \n",
      "wasabi                 0.000000               0.00000  0.000000  \n",
      "water                  0.999881               0.99996  0.999881  \n",
      "water chestnut         0.000000               0.00000  0.000000  \n",
      "watermelon             0.000000               0.00000  0.000000  \n",
      "wheat                  0.000000               0.00000  0.000000  \n",
      "wheat germ             0.000000               0.00000  0.000000  \n",
      "white bean             0.000000               0.00000  0.000000  \n",
      "white chocolate        0.000000               0.00000  0.000000  \n",
      "white vinegar          0.000000               0.00000  0.000000  \n",
      "white wine             0.999881               0.00000  0.000000  \n",
      "wild rice              0.000000               0.00000  0.000000  \n",
      "wine                   0.000000               0.99998  0.000000  \n",
      "worcestershire sauce   0.999980               0.00000  0.000000  \n",
      "yeast                  0.000000               0.00000  0.000000  \n",
      "\n",
      "[371 rows x 371 columns]\n",
      "['absinthe', 'adobo', 'ale', 'allspice', 'almond', 'almond extract', 'almonds', 'anchovy', 'anise', 'apple', 'apple cider vinegar', 'apple pie spice', 'apples', 'applesauce', 'apricot', 'artichoke', 'arugula', 'asparagus', 'avocado', 'bacon', 'bacon grease', 'baking powder', 'baking soda', 'balsamic vinegar', 'banana', 'bananas', 'barbecue sauce', 'barley', 'basil', 'bay leaf', 'bean', 'beans', 'beat', 'beef', 'beer', 'berries', 'berry', 'black bean', 'black beans', 'black olive', 'black olives', 'blueberries', 'bouillon', 'bourbon', 'brandy', 'bread', 'broccoli', 'broccoli raab', 'broth', 'brown sugar', 'butter', 'buttermilk', 'cabbage', 'canola oil', 'caper', 'capers', 'cardamom', 'carrot', 'carrots', 'cayenne pepper', 'celery', 'celery seeds', 'cheddar cheese', 'cheese', 'cherries', 'cherry', 'chervil', 'chestnut', 'chicken', 'chicken breast', 'chicken thigh', 'chile', 'chiles', 'chili', 'chili powder', 'chili sauce', 'chipotle', 'chives', 'chocolate', 'cider', 'cilantro', 'cinnamon', 'clove', 'cloves', 'cocoa', 'cocoa powder', 'coconut', 'coffee', 'condensed milk', 'cool whip', 'coriander', 'corn', 'corn syrup', 'corned beef', 'cornstarch', 'cottage cheese', 'crab', 'craisin', 'cranberries', 'cranberry', 'cream', 'cream cheese', 'cream of tartar', 'crouton', 'cucumber', 'cumin', 'currant', 'currants', 'curry powder', 'dijon mustard', 'dill', 'eel', 'egg', 'egg substitute', 'egg white', 'egg whites', 'egg yolk', 'egg yolks', 'eggplant', 'eggplants', 'eggs', 'epazote', 'evaporated milk', 'fava bean', 'fava beans', 'fennel', 'feta', 'fish sauce', 'flour', 'garlic', 'garlic powder', 'gelatin', 'ginger', 'ginger ale', 'goose', 'graham cracker', 'graham crackers', 'grape', 'grapefruit', 'green bean', 'green beans', 'green onion', 'green onions', 'greens', 'ground beef', 'ground turkey', 'habanero', 'halibut', 'ham', 'ham hock', 'hamachi', 'hamburger', 'hash browns', 'heavy cream', 'hoisin', 'honey', 'horseradish', 'hot sauce', 'hungarian wax pepper', 'ice cream', 'jasmine rice', 'jicama', 'kale', 'ketchup', 'kidney bean', 'kidney beans', 'kielbasa', 'kiwi', 'lamb', 'lardon', 'lardons', 'leek', 'leeks', 'lemon', 'lemon juice', 'lemons', 'lettuce', 'light cream', 'lima bean', 'lima beans', 'lime', 'lime juice', 'limes', 'liquid smoke', 'liver', 'macadamia nut', 'macadamia nuts', 'macaroni', 'mace', 'mandarin orange', 'mandarin oranges', 'maple syrup', 'maraschino', 'margarine', 'marjoram', 'marshmallow', 'marshmallows', 'mayo', 'mayonnaise', 'melon', 'milk', 'mint', 'miracle whip', 'molasses', 'morel', 'mortadella', 'mozzarella', 'mushroom', 'mushrooms', 'mussel', 'mussels', 'mustard', 'nutmeg', 'oatmeal', 'octopus', 'olive', 'olive oil', 'olives', 'onion', 'onion powder', 'onions', 'orange', 'orange peel', 'oranges', 'oregano', 'paprika', 'parmesan cheese', 'parsley', 'parsnip', 'parsnips', 'pasta', 'pea', 'peach', 'peaches', 'peanut', 'peanut butter', 'peanuts', 'pear', 'pears', 'peas', 'pecan', 'pecans', 'pepper', 'peppers', 'pesto', 'pickle', 'pimiento', 'pine nut', 'pine nuts', 'pineapple', 'pinto bean', 'pinto beans', 'pistachio', 'poblano', 'poblano pepper', 'ponzu', 'poppy seed', 'poppy seeds', 'pork', 'potato', 'powdered sugar', 'prosciutto', 'pudding', 'pumpkin', 'pumpkin pie spice', 'queso', 'radish', 'radishes', 'raisin', 'raisins', 'ramp', 'ramps', 'raspberries', 'raspberry', 'red onion', 'red onions', 'red pepper', 'red pepper flakes', 'red wine', 'red wine vinegar', 'rhubarb', 'rice', 'rice vinegar', 'ricotta cheese', 'romaine lettuce', 'romano cheese', 'rosemary', 'rum', 'saffron', 'sage', 'salmon', 'salsa', 'salt', 'salt pork', 'sambal', 'sauerkraut', 'sausage', 'sausages', 'scallop', 'scallops', 'seed', 'seeds', 'semolina', 'sesame seed', 'sesame seeds', 'seville orange', 'shallot', 'shallots', 'sherry', 'shortening', 'shrimp', 'snap pea', 'snap peas', 'sour cream', 'soy sauce', 'spaetzle', 'spinach', 'split pea', 'split peas', 'squash', 'squid', 'steak', 'strawberries', 'strawberry', 'stuffing', 'sugar', 'sweet onion', 'sweet potato', 'sweet potatoes', 'sweetened condensed milk', 'swiss cheese', 'tabasco sauce', 'tapioca', 'tea', 'thyme', 'tofu', 'tomato', 'tomato paste', 'tomato sauce', 'tomatoes', 'tortilla', 'tortillas', 'tuna', 'turkey', 'turkey breast', 'turmeric', 'turnip', 'turnips', 'unsweetened chocolate', 'vanilla', 'vanilla extract', 'veal', 'vermouth', 'vidalia onion', 'vinegar', 'walnut', 'walnuts', 'wasabi', 'water', 'water chestnut', 'watermelon', 'wheat', 'wheat germ', 'white bean', 'white chocolate', 'white vinegar', 'white wine', 'wild rice', 'wine', 'worcestershire sauce', 'yeast']\n"
     ]
    }
   ],
   "source": [
    "#\n",
    "# Manipulate data\n",
    "#\n",
    "# Now need to remove row and columns that have all 0s\n",
    "df = df.loc[:, (df != 0).any(axis=0)]\n",
    "df = df.loc[(df != 0).any(axis=1), :]\n",
    "print(df.shape) # -> (371, 371)\n",
    "\n",
    "# convert values to probability\n",
    "all = df.sum().sum() # total sum of df\n",
    "print('TOTAL', all)\n",
    "df = df.divide(float(-all)).add(1)\n",
    "df = df.replace(1.0, 0.0)\n",
    "print(df)\n",
    "\n",
    "# get new column names, will need later\n",
    "new_cols = list(df.columns.values)\n",
    "print(new_cols)"
   ]
  },
  {
   "cell_type": "code",
   "execution_count": 9,
   "metadata": {
    "collapsed": false,
    "scrolled": true
   },
   "outputs": [],
   "source": [
    "import math\n",
    "from heapq import *\n",
    "\n",
    "def Dijkstras(AdjMat, start):\n",
    "    # Initialize single source\n",
    "    dist = {}\n",
    "    prev = {}\n",
    "    Q = []\n",
    "    for v in list(AdjMat.columns.values):\n",
    "        if v == start:\n",
    "            dist[v] = 0\n",
    "        else:\n",
    "            dist[v] = math.inf\n",
    "            prev[v] = None\n",
    "        heappush(Q, [ dist[v], v ])\n",
    "        \n",
    "    while Q:\n",
    "        thru_me = heappop(Q)[1]\n",
    "        for neighbor in list(AdjMat.index[(AdjMat > 0)[thru_me]]): \n",
    "            new_path_dist = dist[thru_me] + AdjMat.loc[thru_me, neighbor] # matrix is symmetric\n",
    "            # Relaxtion\n",
    "            if new_path_dist < dist[neighbor]:\n",
    "                dist[neighbor] = new_path_dist\n",
    "                prev[neighbor] = thru_me\n",
    "                # Decrease priority\n",
    "                for node in Q:\n",
    "                    if node[1] == neighbor:\n",
    "                        node[0] = new_path_dist\n",
    "\n",
    "                        \n",
    "                \n",
    "    return {'dist': dist, 'prev': prev}\n",
    "\n",
    "D = Dijkstras(df, 'apple')\n",
    "Dijkstra_paths = D['prev']\n",
    "# D_dist = D['dist']"
   ]
  },
  {
   "cell_type": "code",
   "execution_count": 10,
   "metadata": {
    "collapsed": false
   },
   "outputs": [
    {
     "name": "stdout",
     "output_type": "stream",
     "text": [
      "{'currant': 'sugar', 'egg yolks': 'sugar', 'bacon': 'apple', 'seeds': 'apple', 'eggplant': 'salt', 'fennel': 'sugar', 'radishes': 'salt', 'vanilla': 'apple', 'bread': 'apple', 'seed': 'apple', 'vanilla extract': 'sugar', 'pecans': 'apple', 'unsweetened chocolate': 'sugar', 'tuna': 'salt', 'oranges': 'apple', 'olive': 'salt', 'baking soda': 'apple', 'feta': 'salt', 'sesame seed': 'salt', 'pears': 'apple', 'pepper': 'apple', 'cayenne pepper': 'apple', 'green onion': 'apple', 'basil': 'clove', 'egg whites': 'apple', 'almond extract': 'sugar', 'ice cream': 'apple', 'mint': 'sugar', 'cumin': 'apple', 'cherry': 'sugar', 'sesame seeds': 'salt', 'egg substitute': 'salt', 'pinto beans': 'salt', 'wasabi': 'salt', 'ginger': 'apple', 'kidney beans': 'water', 'squash': 'butter', 'poblano pepper': 'salt', 'chives': 'sugar', 'tortillas': 'salt', 'egg white': 'apple', 'sausages': 'salt', 'strawberry': 'salt', 'graham cracker': 'sugar', 'flour': 'apple', 'ground turkey': 'water', 'swiss cheese': 'butter', 'ale': 'apple', 'cinnamon': 'apple', 'ham hock': 'sugar', 'lardon': 'apple', 'lemon': 'apple', 'asparagus': 'sugar', 'chili sauce': 'apple', 'bourbon': 'sugar', 'peas': 'sugar', 'beat': 'apple', 'chipotle': 'salt', 'chicken breast': 'sugar', 'wheat germ': 'salt', 'celery': 'apple', 'raspberry': 'apple', 'cilantro': 'apple', 'split pea': 'salt', 'tomato': 'onion', 'greens': 'salt', 'seville orange': 'salt', 'tofu': 'apple', 'sausage': 'salt', 'parsnips': 'pepper', 'light cream': 'butter', 'absinthe': 'pea', 'pine nut': 'apple', 'ham': 'sugar', 'red onions': 'pepper', 'cloves': 'apple', 'lime': 'apple', 'garlic': 'apple', 'cucumber': 'sugar', 'spinach': 'sugar', 'ketchup': 'apple', 'butter': 'apple', 'ginger ale': 'apple', 'kale': 'sugar', 'mustard': 'apple', 'apple cider vinegar': 'apple', 'chicken thigh': 'apple', 'berries': 'apple', 'maraschino': 'apple', 'vidalia onion': 'salt', 'cocoa powder': 'sugar', 'onion powder': 'apple', 'currants': 'sugar', 'honey': 'sugar', 'corn': 'apple', 'raspberries': 'orange', 'dijon mustard': 'salt', 'poppy seed': 'butter', 'kielbasa': 'salt', 'green beans': 'sugar', 'mace': 'sugar', 'beans': 'salt', 'sweet potatoes': 'sugar', 'limes': 'sugar', 'apples': 'apple', 'sambal': 'apple', 'epazote': 'salt', 'rosemary': 'salt', 'grapefruit': 'salt', 'coriander': 'apple', 'eel': 'apple', 'marjoram': 'butter', 'turkey': 'salt', 'lemon juice': 'apple', 'vermouth': 'sugar', 'water': 'apple', 'pasta': 'salt', 'lima beans': 'butter', 'broccoli': 'salt', 'lime juice': 'sugar', 'leek': 'sugar', 'cream': 'apple', 'cider': 'apple', 'pimiento': 'butter', 'salsa': 'salt', 'raisins': 'apple', 'hungarian wax pepper': 'salt', 'bay leaf': 'sugar', 'cream of tartar': 'sugar', 'tomato paste': 'salt', 'black bean': 'salt', 'semolina': 'sugar', 'rice': 'salt', 'shrimp': 'pepper', 'sage': 'salt', 'canola oil': 'salt', 'sauerkraut': 'butter', 'white vinegar': 'salt', 'pumpkin pie spice': 'apple', 'octopus': 'salt', 'miracle whip': 'salt', 'mayo': 'sugar', 'red wine': 'salt', 'beer': 'sugar', 'gelatin': 'apple', 'hash browns': 'salt', 'orange': 'apple', 'peanut butter': 'sugar', 'cranberries': 'apple', 'cheese': 'apple', 'cardamom': 'sugar', 'lettuce': 'apple', 'arugula': 'salt', 'coconut': 'sugar', 'chocolate': 'sugar', 'mushroom': 'apple', 'radish': 'sugar', 'hamachi': 'salt', 'cheddar cheese': 'cheese', 'milk': 'apple', 'ricotta cheese': 'butter', 'pudding': 'apple', 'broccoli raab': 'salt', 'cabbage': 'apple', 'peanuts': 'sugar', 'dill': 'salt', 'salmon': 'salt', 'pesto': 'tea', 'watermelon': 'salt', 'lima bean': 'butter', 'fish sauce': 'apple', 'balsamic vinegar': 'sugar', 'craisin': 'sugar', 'pork': 'apple', 'strawberries': 'apple', 'salt pork': 'apple', 'lardons': 'apple', 'ramps': 'salt', 'stuffing': 'water', 'broth': 'pepper', 'scallops': 'salt', 'chicken': 'apple', 'ponzu': 'salt', 'raisin': 'apple', 'tortilla': 'salt', 'macadamia nut': 'salt', 'sherry': 'apple', 'cranberry': 'apple', 'worcestershire sauce': 'apple', 'jicama': 'apple', 'peaches': 'apple', 'horseradish': 'sugar', 'onions': 'apple', 'sweetened condensed milk': 'sugar', 'macadamia nuts': 'salt', 'bean': 'salt', 'hamburger': 'pepper', 'vinegar': 'apple', 'prosciutto': 'butter', 'margarine': 'butter', 'water chestnut': 'water', 'clove': 'apple', 'allspice': 'apple', 'melon': 'salt', 'egg yolk': 'sugar', 'pickle': 'sugar', 'turnips': 'butter', 'goose': 'salt', 'sweet potato': 'sugar', 'anise': 'sugar', 'snap peas': 'sugar', 'lemons': 'sugar', 'salt': 'apple', 'egg': 'apple', 'brandy': 'apple', 'eggs': 'apple', 'chile': 'sugar', 'wheat': 'salt', 'pumpkin': 'apple', 'adobo': 'salt', 'fava bean': 'sugar', 'corn syrup': 'sugar', 'caper': 'salt', 'saffron': 'butter', 'cocoa': 'sugar', 'mayonnaise': 'sugar', 'black olive': 'sugar', 'habanero': 'salt', 'mandarin orange': 'apple', 'brown sugar': 'apple', 'black olives': 'sugar', 'pinto bean': 'salt', 'crouton': 'butter', 'condensed milk': 'sugar', 'yeast': 'sugar', 'rum': 'salt', 'thyme': 'apple', 'banana': 'apple', 'walnuts': 'apple', 'veal': 'salt', 'sweet onion': 'salt', 'buttermilk': 'apple', 'artichoke': 'tea', 'carrot': 'apple', 'baking powder': 'apple', 'chili powder': 'sugar', 'queso': 'water', 'rice vinegar': 'vinegar', 'corned beef': 'butter', 'mussels': 'salt', 'cream cheese': 'apple', 'tabasco sauce': 'salt', 'coffee': 'sugar', 'poppy seeds': 'butter', 'eggplants': 'salt', 'mozzarella': 'sugar', 'beef': 'apple', 'crab': 'salt', 'red wine vinegar': 'salt', 'white wine': 'sugar', 'shallots': 'salt', 'apricot': 'apple', 'chiles': 'sugar', 'blueberries': 'sugar', 'liver': 'sugar', 'oatmeal': 'sugar', 'graham crackers': 'sugar', 'white bean': 'pepper', 'grape': 'salt', 'chili': 'apple', 'bananas': 'sugar', 'apple pie spice': 'apple', 'heavy cream': 'sugar', 'poblano': 'salt', 'morel': 'sugar', 'fava beans': 'sugar', 'sour cream': 'sugar', 'hoisin': 'apple', 'red pepper flakes': 'apple', 'orange peel': 'sugar', 'cornstarch': 'apple', 'pistachio': 'butter', 'almond': 'sugar', 'pecan': 'apple', 'curry powder': 'pepper', 'ground beef': 'sugar', 'onion': 'apple', 'celery seeds': 'salt', 'almonds': 'sugar', 'molasses': 'apple', 'shortening': 'sugar', 'shallot': 'salt', 'mortadella': 'tea', 'white chocolate': 'sugar', 'hot sauce': 'sugar', 'mandarin oranges': 'apple', 'peppers': 'apple', 'turnip': 'salt', 'berry': 'apple', 'pineapple': 'apple', 'snap pea': 'sugar', 'tomatoes': 'salt', 'capers': 'salt', 'carrots': 'apple', 'barley': 'salt', 'applesauce': 'apple', 'bacon grease': 'butter', 'liquid smoke': 'sugar', 'mushrooms': 'apple', 'mussel': 'salt', 'pine nuts': 'apple', 'black beans': 'salt', 'chervil': 'butter', 'cool whip': 'apple', 'powdered sugar': 'sugar', 'macaroni': 'butter', 'tomato sauce': 'sugar', 'tapioca': 'sugar', 'scallop': 'salt', 'marshmallow': 'apple', 'anchovy': 'salt', 'garlic powder': 'apple', 'paprika': 'apple', 'oregano': 'apple', 'evaporated milk': 'sugar', 'cherries': 'apple', 'maple syrup': 'sugar', 'sugar': 'apple', 'jasmine rice': 'sugar', 'marshmallows': 'apple', 'red pepper': 'apple', 'peach': 'apple', 'red onion': 'pepper', 'soy sauce': 'apple', 'green onions': 'apple', 'parsnip': 'salt', 'cottage cheese': 'apple', 'squid': 'salt', 'ramp': 'salt', 'walnut': 'apple', 'chestnut': 'pepper', 'peanut': 'sugar', 'kiwi': 'apple', 'romano cheese': 'sugar', 'kidney bean': 'water', 'green bean': 'sugar', 'lamb': 'butter', 'potato': 'apple', 'spaetzle': 'salt', 'romaine lettuce': 'salt', 'steak': 'apple', 'barbecue sauce': 'sugar', 'rhubarb': 'sugar', 'olive oil': 'salt', 'wild rice': 'salt', 'pear': 'apple', 'avocado': 'salt', 'parmesan cheese': 'butter', 'halibut': 'salt', 'olives': 'sugar', 'turmeric': 'sugar', 'turkey breast': 'salt', 'tea': 'apple', 'leeks': 'sugar', 'split peas': 'salt', 'pea': 'apple', 'wine': 'apple', 'nutmeg': 'sugar', 'parsley': 'apple', 'bouillon': 'sugar'}\n"
     ]
    }
   ],
   "source": [
    "print(Dijkstra_paths)"
   ]
  },
  {
   "cell_type": "code",
   "execution_count": 45,
   "metadata": {
    "collapsed": false
   },
   "outputs": [
    {
     "name": "stdout",
     "output_type": "stream",
     "text": [
      "{'start': 'octopus', 'path': ['octopus', 'salt', 'apple'], 'end': 'apple'}\n"
     ]
    }
   ],
   "source": [
    "# print(D_prev)\n",
    "# We would loop through and `start` would be different every time.\n",
    "# In this case, `end` is `apple`, but would be the vertex of the outer\n",
    "# for loop.\n",
    "\n",
    "def get_path(start, end, all_paths):\n",
    "    def helper(start, end, start_to_end=[]):\n",
    "        start_to_end.append(start)\n",
    "\n",
    "        if (start == end):\n",
    "#             print('returned')\n",
    "            return start_to_end;\n",
    "\n",
    "#         print(start)\n",
    "#         print(all_paths[start])\n",
    "        next = all_paths[start]\n",
    "        return helper(next, end, start_to_end)\n",
    "\n",
    "    return {'start': start, 'end': end, 'path': helper(start, end)}\n",
    "    \n",
    "    \n",
    "#\n",
    "a_b = get_path('octopus', 'apple', Dijkstra_paths)\n",
    "print(a_b)\n",
    "# -> {'end': 'apple', 'path': ['octopus', 'chili', 'apple'], 'start': 'octopus'}\n",
    "#\n",
    "# print(get_path('apple', i, Dijkstra_paths)['path']"
   ]
  },
  {
   "cell_type": "code",
   "execution_count": 28,
   "metadata": {
    "collapsed": false
   },
   "outputs": [
    {
     "data": {
      "text/plain": [
       "False"
      ]
     },
     "execution_count": 28,
     "metadata": {},
     "output_type": "execute_result"
    }
   ],
   "source": [
    "'apple' in Dijkstra_paths"
   ]
  },
  {
   "cell_type": "code",
   "execution_count": 48,
   "metadata": {
    "collapsed": false
   },
   "outputs": [
    {
     "name": "stdout",
     "output_type": "stream",
     "text": [
      "{'apple': {'currant': ['currant', 'sugar', 'apple'], 'tomato paste': ['tomato paste', 'salt', 'apple'], 'bacon': ['bacon', 'apple'], 'seeds': ['seeds', 'apple'], 'eggplant': ['eggplant', 'salt', 'apple'], 'fennel': ['fennel', 'sugar', 'apple'], 'radishes': ['radishes', 'salt', 'apple'], 'vanilla': ['vanilla', 'apple'], 'bread': ['bread', 'apple'], 'ketchup': ['ketchup', 'apple'], 'pecans': ['pecans', 'apple'], 'oranges': ['oranges', 'apple'], 'olive': ['olive', 'salt', 'apple'], 'baking soda': ['baking soda', 'apple'], 'feta': ['feta', 'salt', 'apple'], 'sesame seed': ['sesame seed', 'salt', 'apple'], 'pears': ['pears', 'apple'], 'pepper': ['pepper', 'apple'], 'cayenne pepper': ['cayenne pepper', 'apple'], 'green onion': ['green onion', 'apple'], 'basil': ['basil', 'clove', 'apple'], 'egg whites': ['egg whites', 'apple'], 'mushrooms': ['mushrooms', 'apple'], 'ice cream': ['ice cream', 'apple'], 'mint': ['mint', 'sugar', 'apple'], 'cumin': ['cumin', 'apple'], 'cherry': ['cherry', 'sugar', 'apple'], 'sesame seeds': ['sesame seeds', 'salt', 'apple'], 'egg substitute': ['egg substitute', 'salt', 'apple'], 'pinto beans': ['pinto beans', 'salt', 'apple'], 'wasabi': ['wasabi', 'salt', 'apple'], 'ginger': ['ginger', 'apple'], 'kidney beans': ['kidney beans', 'water', 'apple'], 'squash': ['squash', 'butter', 'apple'], 'poblano pepper': ['poblano pepper', 'salt', 'apple'], 'chives': ['chives', 'sugar', 'apple'], 'tortillas': ['tortillas', 'salt', 'apple'], 'egg white': ['egg white', 'apple'], 'sausages': ['sausages', 'salt', 'apple'], 'strawberry': ['strawberry', 'salt', 'apple'], 'graham cracker': ['graham cracker', 'sugar', 'apple'], 'flour': ['flour', 'apple'], 'ground turkey': ['ground turkey', 'water', 'apple'], 'swiss cheese': ['swiss cheese', 'butter', 'apple'], 'ale': ['ale', 'apple'], 'cinnamon': ['cinnamon', 'apple'], 'ham hock': ['ham hock', 'sugar', 'apple'], 'lardon': ['lardon', 'apple'], 'lemon': ['lemon', 'apple'], 'asparagus': ['asparagus', 'sugar', 'apple'], 'chili sauce': ['chili sauce', 'apple'], 'bourbon': ['bourbon', 'sugar', 'apple'], 'peas': ['peas', 'sugar', 'apple'], 'chipotle': ['chipotle', 'salt', 'apple'], 'chicken breast': ['chicken breast', 'sugar', 'apple'], 'wheat germ': ['wheat germ', 'salt', 'apple'], 'celery': ['celery', 'apple'], 'raspberry': ['raspberry', 'apple'], 'cilantro': ['cilantro', 'apple'], 'prosciutto': ['prosciutto', 'butter', 'apple'], 'tomato': ['tomato', 'onion', 'apple'], 'octopus': ['octopus', 'salt', 'apple'], 'seville orange': ['seville orange', 'salt', 'apple'], 'tofu': ['tofu', 'apple'], 'sausage': ['sausage', 'salt', 'apple'], 'parsnips': ['parsnips', 'pepper', 'apple'], 'light cream': ['light cream', 'butter', 'apple'], 'absinthe': ['absinthe', 'pea', 'apple'], 'pine nut': ['pine nut', 'apple'], 'ham': ['ham', 'sugar', 'apple'], 'red onions': ['red onions', 'pepper', 'apple'], 'cloves': ['cloves', 'apple'], 'lime': ['lime', 'apple'], 'apples': ['apples', 'apple'], 'turkey': ['turkey', 'salt', 'apple'], 'cucumber': ['cucumber', 'sugar', 'apple'], 'spinach': ['spinach', 'sugar', 'apple'], 'seed': ['seed', 'apple'], 'butter': ['butter', 'apple'], 'ginger ale': ['ginger ale', 'apple'], 'kale': ['kale', 'sugar', 'apple'], 'watermelon': ['watermelon', 'salt', 'apple'], 'apricot': ['apricot', 'apple'], 'chicken thigh': ['chicken thigh', 'apple'], 'berries': ['berries', 'apple'], 'maraschino': ['maraschino', 'apple'], 'vidalia onion': ['vidalia onion', 'salt', 'apple'], 'cocoa powder': ['cocoa powder', 'sugar', 'apple'], 'onion powder': ['onion powder', 'apple'], 'currants': ['currants', 'sugar', 'apple'], 'honey': ['honey', 'sugar', 'apple'], 'corn': ['corn', 'apple'], 'raspberries': ['raspberries', 'orange', 'apple'], 'dijon mustard': ['dijon mustard', 'salt', 'apple'], 'poppy seed': ['poppy seed', 'butter', 'apple'], 'kielbasa': ['kielbasa', 'salt', 'apple'], 'green beans': ['green beans', 'sugar', 'apple'], 'mace': ['mace', 'sugar', 'apple'], 'beans': ['beans', 'salt', 'apple'], 'sweet potatoes': ['sweet potatoes', 'sugar', 'apple'], 'coffee': ['coffee', 'sugar', 'apple'], 'paprika': ['paprika', 'apple'], 'pickle': ['pickle', 'sugar', 'apple'], 'epazote': ['epazote', 'salt', 'apple'], 'rosemary': ['rosemary', 'salt', 'apple'], 'grapefruit': ['grapefruit', 'salt', 'apple'], 'coriander': ['coriander', 'apple'], 'eel': ['eel', 'apple'], 'marjoram': ['marjoram', 'butter', 'apple'], 'garlic': ['garlic', 'apple'], 'lemon juice': ['lemon juice', 'apple'], 'water': ['water', 'apple'], 'pasta': ['pasta', 'salt', 'apple'], 'lima beans': ['lima beans', 'butter', 'apple'], 'macaroni': ['macaroni', 'butter', 'apple'], 'lime juice': ['lime juice', 'sugar', 'apple'], 'leek': ['leek', 'sugar', 'apple'], 'pistachio': ['pistachio', 'butter', 'apple'], 'olive oil': ['olive oil', 'salt', 'apple'], 'cider': ['cider', 'apple'], 'pimiento': ['pimiento', 'butter', 'apple'], 'raisins': ['raisins', 'apple'], 'hungarian wax pepper': ['hungarian wax pepper', 'salt', 'apple'], 'bay leaf': ['bay leaf', 'sugar', 'apple'], 'cream of tartar': ['cream of tartar', 'sugar', 'apple'], 'egg yolks': ['egg yolks', 'sugar', 'apple'], 'black bean': ['black bean', 'salt', 'apple'], 'semolina': ['semolina', 'sugar', 'apple'], 'rice': ['rice', 'salt', 'apple'], 'shrimp': ['shrimp', 'pepper', 'apple'], 'sage': ['sage', 'salt', 'apple'], 'canola oil': ['canola oil', 'salt', 'apple'], 'sauerkraut': ['sauerkraut', 'butter', 'apple'], 'white vinegar': ['white vinegar', 'salt', 'apple'], 'pumpkin pie spice': ['pumpkin pie spice', 'apple'], 'beat': ['beat', 'apple'], 'miracle whip': ['miracle whip', 'salt', 'apple'], 'mayo': ['mayo', 'sugar', 'apple'], 'greens': ['greens', 'salt', 'apple'], 'red wine': ['red wine', 'salt', 'apple'], 'beer': ['beer', 'sugar', 'apple'], 'gelatin': ['gelatin', 'apple'], 'hash browns': ['hash browns', 'salt', 'apple'], 'eggs': ['eggs', 'apple'], 'peanut butter': ['peanut butter', 'sugar', 'apple'], 'lettuce': ['lettuce', 'apple'], 'tortilla': ['tortilla', 'salt', 'apple'], 'cheese': ['cheese', 'apple'], 'cardamom': ['cardamom', 'sugar', 'apple'], 'cranberries': ['cranberries', 'apple'], 'arugula': ['arugula', 'salt', 'apple'], 'coconut': ['coconut', 'sugar', 'apple'], 'chocolate': ['chocolate', 'sugar', 'apple'], 'mushroom': ['mushroom', 'apple'], 'radish': ['radish', 'sugar', 'apple'], 'hamachi': ['hamachi', 'salt', 'apple'], 'cheddar cheese': ['cheddar cheese', 'cheese', 'apple'], 'milk': ['milk', 'apple'], 'horseradish': ['horseradish', 'sugar', 'apple'], 'pudding': ['pudding', 'apple'], 'broccoli raab': ['broccoli raab', 'salt', 'apple'], 'cabbage': ['cabbage', 'apple'], 'peanuts': ['peanuts', 'sugar', 'apple'], 'dill': ['dill', 'salt', 'apple'], 'veal': ['veal', 'salt', 'apple'], 'pesto': ['pesto', 'tea', 'apple'], 'mustard': ['mustard', 'apple'], 'lima bean': ['lima bean', 'butter', 'apple'], 'cream': ['cream', 'apple'], 'fish sauce': ['fish sauce', 'apple'], 'balsamic vinegar': ['balsamic vinegar', 'sugar', 'apple'], 'craisin': ['craisin', 'sugar', 'apple'], 'pork': ['pork', 'apple'], 'ground beef': ['ground beef', 'sugar', 'apple'], 'salt pork': ['salt pork', 'apple'], 'lardons': ['lardons', 'apple'], 'molasses': ['molasses', 'apple'], 'stuffing': ['stuffing', 'water', 'apple'], 'broth': ['broth', 'pepper', 'apple'], 'scallops': ['scallops', 'salt', 'apple'], 'chicken': ['chicken', 'apple'], 'ponzu': ['ponzu', 'salt', 'apple'], 'maple syrup': ['maple syrup', 'sugar', 'apple'], 'soy sauce': ['soy sauce', 'apple'], 'macadamia nut': ['macadamia nut', 'salt', 'apple'], 'pumpkin': ['pumpkin', 'apple'], 'cranberry': ['cranberry', 'apple'], 'worcestershire sauce': ['worcestershire sauce', 'apple'], 'jicama': ['jicama', 'apple'], 'ricotta cheese': ['ricotta cheese', 'butter', 'apple'], 'onions': ['onions', 'apple'], 'sweetened condensed milk': ['sweetened condensed milk', 'sugar', 'apple'], 'macadamia nuts': ['macadamia nuts', 'salt', 'apple'], 'bean': ['bean', 'salt', 'apple'], 'hamburger': ['hamburger', 'pepper', 'apple'], 'vinegar': ['vinegar', 'apple'], 'split pea': ['split pea', 'salt', 'apple'], 'steak': ['steak', 'apple'], 'margarine': ['margarine', 'butter', 'apple'], 'water chestnut': ['water chestnut', 'water', 'apple'], 'clove': ['clove', 'apple'], 'salsa': ['salsa', 'salt', 'apple'], 'melon': ['melon', 'salt', 'apple'], 'egg yolk': ['egg yolk', 'sugar', 'apple'], 'sambal': ['sambal', 'apple'], 'turnips': ['turnips', 'butter', 'apple'], 'goose': ['goose', 'salt', 'apple'], 'sweet potato': ['sweet potato', 'sugar', 'apple'], 'anise': ['anise', 'sugar', 'apple'], 'snap peas': ['snap peas', 'sugar', 'apple'], 'lemons': ['lemons', 'sugar', 'apple'], 'salt': ['salt', 'apple'], 'egg': ['egg', 'apple'], 'brandy': ['brandy', 'apple'], 'tuna': ['tuna', 'salt', 'apple'], 'wheat': ['wheat', 'salt', 'apple'], 'sherry': ['sherry', 'apple'], 'peaches': ['peaches', 'apple'], 'chile': ['chile', 'sugar', 'apple'], 'fava bean': ['fava bean', 'sugar', 'apple'], 'kidney bean': ['kidney bean', 'water', 'apple'], 'caper': ['caper', 'salt', 'apple'], 'saffron': ['saffron', 'butter', 'apple'], 'cocoa': ['cocoa', 'sugar', 'apple'], 'mayonnaise': ['mayonnaise', 'sugar', 'apple'], 'black olive': ['black olive', 'sugar', 'apple'], 'yeast': ['yeast', 'sugar', 'apple'], 'mandarin orange': ['mandarin orange', 'apple'], 'parsley': ['parsley', 'apple'], 'orange': ['orange', 'apple'], 'brown sugar': ['brown sugar', 'apple'], 'crab': ['crab', 'salt', 'apple'], 'pinto bean': ['pinto bean', 'salt', 'apple'], 'crouton': ['crouton', 'butter', 'apple'], 'condensed milk': ['condensed milk', 'sugar', 'apple'], 'habanero': ['habanero', 'salt', 'apple'], 'rum': ['rum', 'salt', 'apple'], 'thyme': ['thyme', 'apple'], 'banana': ['banana', 'apple'], 'walnuts': ['walnuts', 'apple'], 'salmon': ['salmon', 'salt', 'apple'], 'sweet onion': ['sweet onion', 'salt', 'apple'], 'buttermilk': ['buttermilk', 'apple'], 'artichoke': ['artichoke', 'tea', 'apple'], 'carrot': ['carrot', 'apple'], 'baking powder': ['baking powder', 'apple'], 'chili powder': ['chili powder', 'sugar', 'apple'], 'raisin': ['raisin', 'apple'], 'queso': ['queso', 'water', 'apple'], 'rice vinegar': ['rice vinegar', 'vinegar', 'apple'], 'corned beef': ['corned beef', 'butter', 'apple'], 'mussels': ['mussels', 'salt', 'apple'], 'tabasco sauce': ['tabasco sauce', 'salt', 'apple'], 'limes': ['limes', 'sugar', 'apple'], 'poppy seeds': ['poppy seeds', 'butter', 'apple'], 'eggplants': ['eggplants', 'salt', 'apple'], 'mozzarella': ['mozzarella', 'sugar', 'apple'], 'beef': ['beef', 'apple'], 'black olives': ['black olives', 'sugar', 'apple'], 'red wine vinegar': ['red wine vinegar', 'salt', 'apple'], 'white wine': ['white wine', 'sugar', 'apple'], 'shallots': ['shallots', 'salt', 'apple'], 'apple cider vinegar': ['apple cider vinegar', 'apple'], 'chiles': ['chiles', 'sugar', 'apple'], 'blueberries': ['blueberries', 'sugar', 'apple'], 'liver': ['liver', 'sugar', 'apple'], 'oatmeal': ['oatmeal', 'sugar', 'apple'], 'graham crackers': ['graham crackers', 'sugar', 'apple'], 'white bean': ['white bean', 'pepper', 'apple'], 'grape': ['grape', 'salt', 'apple'], 'chili': ['chili', 'apple'], 'bananas': ['bananas', 'sugar', 'apple'], 'apple pie spice': ['apple pie spice', 'apple'], 'heavy cream': ['heavy cream', 'sugar', 'apple'], 'poblano': ['poblano', 'salt', 'apple'], 'morel': ['morel', 'sugar', 'apple'], 'fava beans': ['fava beans', 'sugar', 'apple'], 'sour cream': ['sour cream', 'sugar', 'apple'], 'hoisin': ['hoisin', 'apple'], 'red pepper flakes': ['red pepper flakes', 'apple'], 'orange peel': ['orange peel', 'sugar', 'apple'], 'cornstarch': ['cornstarch', 'apple'], 'red pepper': ['red pepper', 'apple'], 'almond': ['almond', 'sugar', 'apple'], 'pecan': ['pecan', 'apple'], 'curry powder': ['curry powder', 'pepper', 'apple'], 'strawberries': ['strawberries', 'apple'], 'onion': ['onion', 'apple'], 'celery seeds': ['celery seeds', 'salt', 'apple'], 'almonds': ['almonds', 'sugar', 'apple'], 'ramps': ['ramps', 'salt', 'apple'], 'shortening': ['shortening', 'sugar', 'apple'], 'shallot': ['shallot', 'salt', 'apple'], 'mortadella': ['mortadella', 'tea', 'apple'], 'white chocolate': ['white chocolate', 'sugar', 'apple'], 'hot sauce': ['hot sauce', 'sugar', 'apple'], 'mandarin oranges': ['mandarin oranges', 'apple'], 'peppers': ['peppers', 'apple'], 'turnip': ['turnip', 'salt', 'apple'], 'berry': ['berry', 'apple'], 'pineapple': ['pineapple', 'apple'], 'snap pea': ['snap pea', 'sugar', 'apple'], 'tomatoes': ['tomatoes', 'salt', 'apple'], 'capers': ['capers', 'salt', 'apple'], 'carrots': ['carrots', 'apple'], 'barley': ['barley', 'salt', 'apple'], 'applesauce': ['applesauce', 'apple'], 'bacon grease': ['bacon grease', 'butter', 'apple'], 'liquid smoke': ['liquid smoke', 'sugar', 'apple'], 'almond extract': ['almond extract', 'sugar', 'apple'], 'mussel': ['mussel', 'salt', 'apple'], 'pine nuts': ['pine nuts', 'apple'], 'black beans': ['black beans', 'salt', 'apple'], 'chervil': ['chervil', 'butter', 'apple'], 'cool whip': ['cool whip', 'apple'], 'broccoli': ['broccoli', 'salt', 'apple'], 'tomato sauce': ['tomato sauce', 'sugar', 'apple'], 'adobo': ['adobo', 'salt', 'apple'], 'tapioca': ['tapioca', 'sugar', 'apple'], 'scallop': ['scallop', 'salt', 'apple'], 'marshmallow': ['marshmallow', 'apple'], 'anchovy': ['anchovy', 'salt', 'apple'], 'garlic powder': ['garlic powder', 'apple'], 'powdered sugar': ['powdered sugar', 'sugar', 'apple'], 'oregano': ['oregano', 'apple'], 'evaporated milk': ['evaporated milk', 'sugar', 'apple'], 'cherries': ['cherries', 'apple'], 'vermouth': ['vermouth', 'sugar', 'apple'], 'sugar': ['sugar', 'apple'], 'jasmine rice': ['jasmine rice', 'sugar', 'apple'], 'marshmallows': ['marshmallows', 'apple'], 'unsweetened chocolate': ['unsweetened chocolate', 'sugar', 'apple'], 'peach': ['peach', 'apple'], 'red onion': ['red onion', 'pepper', 'apple'], 'vanilla extract': ['vanilla extract', 'sugar', 'apple'], 'green onions': ['green onions', 'apple'], 'parsnip': ['parsnip', 'salt', 'apple'], 'cottage cheese': ['cottage cheese', 'apple'], 'squid': ['squid', 'salt', 'apple'], 'ramp': ['ramp', 'salt', 'apple'], 'walnut': ['walnut', 'apple'], 'chestnut': ['chestnut', 'pepper', 'apple'], 'peanut': ['peanut', 'sugar', 'apple'], 'kiwi': ['kiwi', 'apple'], 'romano cheese': ['romano cheese', 'sugar', 'apple'], 'corn syrup': ['corn syrup', 'sugar', 'apple'], 'green bean': ['green bean', 'sugar', 'apple'], 'lamb': ['lamb', 'butter', 'apple'], 'potato': ['potato', 'apple'], 'spaetzle': ['spaetzle', 'salt', 'apple'], 'cream cheese': ['cream cheese', 'apple'], 'barbecue sauce': ['barbecue sauce', 'sugar', 'apple'], 'rhubarb': ['rhubarb', 'sugar', 'apple'], 'romaine lettuce': ['romaine lettuce', 'salt', 'apple'], 'wild rice': ['wild rice', 'salt', 'apple'], 'pear': ['pear', 'apple'], 'avocado': ['avocado', 'salt', 'apple'], 'parmesan cheese': ['parmesan cheese', 'butter', 'apple'], 'halibut': ['halibut', 'salt', 'apple'], 'olives': ['olives', 'sugar', 'apple'], 'turmeric': ['turmeric', 'sugar', 'apple'], 'allspice': ['allspice', 'apple'], 'tea': ['tea', 'apple'], 'leeks': ['leeks', 'sugar', 'apple'], 'split peas': ['split peas', 'salt', 'apple'], 'pea': ['pea', 'apple'], 'wine': ['wine', 'apple'], 'nutmeg': ['nutmeg', 'sugar', 'apple'], 'turkey breast': ['turkey breast', 'salt', 'apple'], 'bouillon': ['bouillon', 'sugar', 'apple']}}\n"
     ]
    }
   ],
   "source": [
    "# structure of precomputed:\n",
    "# { \n",
    "#   source_i: {\n",
    "#      rum: [...list of ing]\n",
    "#   }\n",
    "# }\n",
    "\n",
    "# SO THIS IS THE MAIN FILE\n",
    "table = {}\n",
    "for end in ['apple']: # will eventually be new_cols \n",
    "    temp = {}\n",
    "#     prevs = Dijkstras(df, start)[prev] #keep this, eventually it will be this\n",
    "    prevs = Dijkstra_paths # this is just for now\n",
    "    for i in prevs:\n",
    "        temp[i] = get_path(i, end, Dijkstra_paths)['path']\n",
    "    table[end] = temp\n",
    "print(table)\n",
    "\n",
    "# THEN STORE TO MONGODB\n",
    "    "
   ]
  },
  {
   "cell_type": "code",
   "execution_count": null,
   "metadata": {
    "collapsed": true
   },
   "outputs": [],
   "source": [
    "test = pd.Series()"
   ]
  },
  {
   "cell_type": "code",
   "execution_count": null,
   "metadata": {
    "collapsed": false
   },
   "outputs": [],
   "source": [
    "import heapq as pq\n",
    "h = [[5, 'write code'], [7, 'release product'], [1, 'write spec'], [3, 'create tests']]\n",
    "pq.heapify(h)\n",
    "pq.heappop(h)[1]\n",
    "print(h)\n",
    "pq.heappush(h, [2, 'create tests'])\n",
    "print(h)\n",
    "\n",
    "\n"
   ]
  },
  {
   "cell_type": "code",
   "execution_count": null,
   "metadata": {
    "collapsed": false
   },
   "outputs": [],
   "source": [
    "%matplotlib notebook\n",
    "\n",
    "import matplotlib.pyplot as plt\n",
    "import numpy as np\n",
    "\n",
    "\n",
    "\n",
    "nparray = df.as_matrix()\n",
    "\n",
    "plt.matshow(nparray, interpolation='none') # when more data, try without interpolation"
   ]
  },
  {
   "cell_type": "code",
   "execution_count": null,
   "metadata": {
    "collapsed": false
   },
   "outputs": [],
   "source": [
    "columns = ['a', 'b', 'c']\n",
    "df = pd.DataFrame([[1, 0, 1], [0, 1, 0], [3, 5, 2]], index=columns, columns=columns)\n",
    "print(df)\n",
    "\n",
    "print(np.arange(3))\n",
    "df.values[[np.arange(len(columns))]*2] -= 1\n",
    "print(df)\n",
    "\n",
    "print('-------------')\n",
    "a = df.index[(df != 0)['c']]\n",
    "for i in a:\n",
    "    print(i, type(i))\n"
   ]
  },
  {
   "cell_type": "code",
   "execution_count": null,
   "metadata": {
    "collapsed": false
   },
   "outputs": [],
   "source": [
    "a=[1,2,3,1,3,2,1,1]\n",
    "a = [4 if x==1 else x for x in a]\n",
    "print(a)"
   ]
  },
  {
   "cell_type": "code",
   "execution_count": null,
   "metadata": {
    "collapsed": false
   },
   "outputs": [],
   "source": [
    "D_prev"
   ]
  },
  {
   "cell_type": "code",
   "execution_count": 25,
   "metadata": {
    "collapsed": false
   },
   "outputs": [
    {
     "name": "stdout",
     "output_type": "stream",
     "text": [
      "{'a': 10}\n",
      "{'a': 10, 'apple': 10}\n"
     ]
    }
   ],
   "source": [
    "tst = {}\n",
    "# tst['a']['b'] = [1,2,3]\n",
    "# print(tst)\n",
    "a = 'a'\n",
    "tst[a] = 10\n",
    "print(tst)\n",
    "\n",
    "tst['apple'] = 10\n",
    "print(tst)"
   ]
  },
  {
   "cell_type": "code",
   "execution_count": null,
   "metadata": {
    "collapsed": true
   },
   "outputs": [],
   "source": []
  },
  {
   "cell_type": "code",
   "execution_count": null,
   "metadata": {
    "collapsed": true
   },
   "outputs": [],
   "source": []
  },
  {
   "cell_type": "code",
   "execution_count": null,
   "metadata": {
    "collapsed": true
   },
   "outputs": [],
   "source": []
  },
  {
   "cell_type": "code",
   "execution_count": null,
   "metadata": {
    "collapsed": true
   },
   "outputs": [],
   "source": []
  }
 ],
 "metadata": {
  "kernelspec": {
   "display_name": "Python 3",
   "language": "python",
   "name": "python3"
  },
  "language_info": {
   "codemirror_mode": {
    "name": "ipython",
    "version": 3
   },
   "file_extension": ".py",
   "mimetype": "text/x-python",
   "name": "python",
   "nbconvert_exporter": "python",
   "pygments_lexer": "ipython3",
   "version": "3.5.1"
  }
 },
 "nbformat": 4,
 "nbformat_minor": 0
}
