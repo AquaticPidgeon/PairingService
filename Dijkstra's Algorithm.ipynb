{
 "cells": [
  {
   "cell_type": "markdown",
   "metadata": {},
   "source": [
    "Input: adjacency matrix\n"
   ]
  },
  {
   "cell_type": "code",
   "execution_count": 90,
   "metadata": {
    "collapsed": false
   },
   "outputs": [
    {
     "name": "stdout",
     "output_type": "stream",
     "text": [
      "[['ponzu', 'shallot', 'mustard', 'olive', 'olive oil', 'wasabi', 'steak', 'tea', 'cucumber', 'salt'], ['rice', 'vinegar', 'rice vinegar', 'lemon', 'lime', 'lime juice', 'soy sauce'], ['paprika', 'sugar', 'brown sugar', 'salt', 'mustard', 'seed', 'garlic', 'garlic powder', 'onion', 'onion powder', 'oregano', 'coriander', 'cumin', 'tea', 'pepper', 'red pepper flakes', 'red pepper', 'ketchup', 'molasses', 'worcestershire sauce', 'apple', 'cider', 'vinegar', 'apple cider vinegar', 'pork'], ['flour', 'sugar', 'salt', 'tea', 'butter', 'water'], ['pepper', 'poblano', 'poblano pepper', 'potato', 'salt', 'vinegar', 'white vinegar', 'onion', 'red onion', 'tea', 'thyme', 'cilantro', 'parsley'], ['lemon', 'lemons', 'sugar', 'tea'], ['lemon', 'lemons', 'sugar', 'water'], ['water', 'tea'], ['bean', 'beans', 'pinto bean', 'pinto beans', 'salt', 'bacon', 'onion', 'chili', 'seed', 'seeds', 'clove', 'cloves', 'garlic', 'tomato', 'tomatoes', 'chicken', 'epazote', 'cilantro'], ['coffee', 'tea', 'chocolate', 'cocoa', 'cocoa powder', 'butter', 'salt', 'sugar', 'brown sugar', 'baking powder', 'vanilla extract', 'vanilla', 'egg', 'flour', 'cherry', 'cream', 'cool whip'], ['mayo', 'mayonnaise', 'cream', 'sour cream', 'ketchup', 'dill', 'pickle', 'lemon', 'horseradish', 'radish', 'tea', 'pepper', 'salt', 'beef', 'corn', 'corned beef', 'sauerkraut', 'bread', 'butter', 'cheese', 'swiss cheese'], ['cherry', 'cherries', 'heavy cream', 'cream', 'sugar', 'salt', 'tea'], ['onion', 'red onion', 'vinegar', 'red wine vinegar', 'wine', 'red wine', 'tuna', 'mayo', 'mayonnaise', 'celery', 'parsley', 'anchovy', 'fish sauce', 'tea', 'pepper', 'salt', 'bread', 'lettuce', 'romaine lettuce'], ['onion', 'red onion', 'vinegar', 'red wine vinegar', 'wine', 'red wine', 'tuna', 'celery', 'fennel', 'parsley', 'caper', 'capers', 'olive', 'olives', 'olive oil', 'lemon', 'anchovy', 'fish sauce', 'tea', 'pepper', 'salt', 'bread', 'arugula'], ['melon', 'seed', 'water', 'watermelon', 'eel', 'lemon', 'olive', 'olive oil', 'mint', 'arugula', 'pepper', 'salt', 'cheese', 'feta'], ['olive', 'olives', 'lime', 'fennel'], ['ham', 'hamachi', 'onion', 'sweet onion', 'cucumber', 'eel', 'seed', 'seeds', 'avocado', 'chili', 'lemon', 'sesame seed', 'sesame seeds', 'tea', 'soy sauce', 'olive', 'olive oil', 'salt', 'rice'], ['octopus', 'onion', 'sweet onion', 'soy sauce', 'tea', 'honey', 'chili', 'salt', 'rice'], ['canola oil', 'macadamia nut', 'macadamia nuts', 'salmon', 'onion', 'sweet onion', 'seed', 'seeds', 'sesame seed', 'sesame seeds', 'tea', 'shallot', 'shallots', 'soy sauce', 'garlic', 'chili', 'salt', 'rice'], ['tea', 'tuna', 'onion', 'sweet onion', 'seed', 'seeds', 'sesame seed', 'sesame seeds', 'soy sauce', 'honey', 'pepper', 'red pepper', 'salt', 'rice'], ['olive', 'olive oil', 'egg', 'eggs', 'pepper', 'salt'], ['octopus', 'salt'], ['lemon', 'pistachio', 'butter', 'buttermilk', 'milk', 'lemon juice', 'salt', 'tea', 'poppy seed', 'poppy seeds', 'seed', 'seeds', 'pepper'], ['rhubarb', 'berries', 'strawberries', 'sugar', 'fennel', 'seed', 'seeds', 'tea', 'salt'], ['lemon', 'mustard', 'dijon mustard', 'tea', 'olive', 'olive oil', 'pepper', 'salt', 'radish', 'radishes', 'green bean', 'green beans', 'bean', 'beans', 'parsley'], ['salt', 'olive', 'olive oil', 'pepper'], ['salt', 'olive', 'olive oil', 'clove', 'cloves', 'garlic', 'pepper', 'red pepper flakes', 'red pepper', 'broccoli'], ['asparagus', 'pepper', 'salt'], ['fava bean', 'bean', 'salt', 'carrot', 'carrots', 'greens', 'olive', 'olive oil', 'lemon', 'shallot', 'pepper', 'cheese', 'ricotta cheese'], ['clove', 'cloves', 'garlic', 'eel', 'ginger', 'cilantro', 'chili', 'salt', 'coconut', 'milk', 'ale', 'tea', 'turmeric', 'water', 'potato', 'sweet potato', 'sweet potatoes', 'pea', 'peanut', 'peanuts', 'sugar', 'kale', 'lime', 'limes', 'pepper', 'hot sauce', 'rice'], ['salt', 'sugar', 'brown sugar', 'pepper', 'cayenne pepper', 'coriander', 'tea', 'fennel', 'seed', 'paprika', 'cumin', 'pork', 'ketchup', 'molasses', 'worcestershire sauce', 'liquid smoke', 'mustard', 'hot sauce', 'cider', 'vinegar', 'onion', 'bourbon', 'chicken', 'water'], ['chicken', 'gelatin', 'beef', 'steak', 'tea', 'pepper', 'salt', 'carrot', 'carrots', 'celery', 'onion', 'peppers', 'clove', 'cloves', 'garlic', 'paprika', 'soy sauce', 'fish sauce', 'thyme', 'flour', 'eel', 'potato', 'apple', 'cider', 'vinegar', 'apple cider vinegar', 'parsley'], ['chicken', 'gelatin', 'tomato', 'tomato paste', 'soy sauce', 'anchovy', 'salt', 'fish sauce', 'worcestershire sauce', 'beef', 'steak', 'tea', 'pepper', 'mushroom', 'carrot', 'carrots', 'eel', 'onion', 'onions', 'pea', 'pear', 'celery', 'clove', 'cloves', 'garlic', 'sherry', 'vermouth', 'wine', 'red wine', 'flour', 'thyme', 'potato', 'peas'], ['chicken', 'chicken thigh', 'pepper', 'salt', 'bacon', 'lardon', 'lardons', 'pork', 'salt pork', 'onion', 'cabbage', 'mustard', 'apple', 'cider', 'vinegar', 'apple cider vinegar', 'sugar', 'thyme', 'butter'], ['goose', 'salt', 'baking powder', 'broth', 'chicken', 'gelatin', 'tea', 'onion', 'carrot', 'carrots', 'eel', 'celery', 'tomato', 'tomato paste', 'wine', 'red wine', 'parsley', 'thyme', 'bay leaf', 'flour', 'sherry', 'pepper'], ['chicken', 'gelatin', 'tea', 'rum', 'pepper', 'salt', 'onion', 'paprika', 'bay leaf', 'cream', 'sour cream', 'fish sauce', 'lemon', 'dill', 'parsley', 'egg', 'potato', 'spaetzle'], ['onion', 'salt', 'paprika', 'chicken', 'rum', 'cream', 'sour cream', 'egg', 'potato', 'spaetzle', 'dill', 'parsley'], ['gelatin', 'tea', 'water', 'milk', 'vanilla extract', 'vanilla', 'corn', 'corn syrup', 'sugar', 'salt', 'heavy cream', 'cream'], ['bread', 'flour', 'salt', 'tea', 'yeast', 'olive', 'olive oil', 'water', 'clove', 'cloves', 'garlic', 'oregano', 'pepper', 'red pepper flakes', 'red pepper', 'eel', 'tomato', 'tomatoes', 'sugar', 'cheese', 'mozzarella', 'romano cheese'], ['egg', 'eggs', 'salt', 'asparagus', 'olive', 'olive oil', 'ramp', 'ramps', 'tea', 'thyme', 'pepper'], ['scallop', 'scallops', 'lemon', 'lemons', 'tea', 'eel', 'shrimp', 'salt', 'baking soda', 'clove', 'cloves', 'garlic', 'olive', 'olive oil', 'mussel', 'mussels', 'corn', 'pepper', 'squid', 'parsley', 'cayenne pepper', 'coriander', 'seed', 'celery', 'fennel'], ['rice', 'chicken', 'olive', 'olive oil', 'onion', 'wine', 'white wine', 'saffron', 'salt', 'butter', 'cheese', 'egg', 'heavy cream', 'cream', 'pea'], ['olive', 'olive oil', 'bread', 'anchovy', 'mozzarella', 'pesto', 'tea', 'artichoke', 'mortadella'], ['salt', 'asparagus', 'fava bean', 'fava beans', 'bean', 'beans', 'pea', 'peas', 'snap pea', 'snap peas', 'sugar', 'morel', 'mushroom', 'mushrooms', 'chili', 'corn', 'pepper', 'tea', 'olive', 'olives', 'black olive', 'black olives', 'clove', 'cloves', 'garlic', 'eel', 'ginger', 'sherry', 'wine', 'soy sauce', 'cilantro', 'mint'], ['tofu', 'sherry', 'wine', 'soy sauce', 'cider', 'tea', 'vinegar', 'hoisin', 'sambal', 'chili', 'chili sauce', 'corn', 'cornstarch', 'pine nut', 'pine nuts', 'mushroom', 'mushrooms', 'ale', 'clove', 'cloves', 'garlic', 'ginger', 'apple', 'eel', 'jicama', 'celery', 'cilantro', 'salt', 'pepper', 'lettuce', 'water'], ['rice', 'jasmine rice', 'green bean', 'green beans', 'bean', 'beans', 'clove', 'cloves', 'garlic', 'tea', 'chili', 'soy sauce', 'fish sauce', 'egg', 'salt', 'basil', 'pepper', 'sugar', 'lime', 'cucumber'], ['clove', 'cloves', 'eel', 'garlic', 'seed', 'seeds', 'oregano', 'cinnamon', 'corn', 'pepper', 'cumin', 'allspice', 'berries', 'grape', 'grapefruit', 'lime', 'orange', 'vinegar', 'white vinegar', 'soy sauce', 'salt', 'pork', 'banana', 'tomato', 'tomatoes', 'onion', 'tortilla', 'tortillas', 'onions', 'pickle', 'salsa'], ['chile', 'chiles', 'chili', 'lime', 'limes', 'grape', 'grapefruit', 'orange', 'salt'], ['pork', 'pepper', 'salt', 'clove', 'cloves', 'orange', 'seville orange', 'cinnamon', 'garlic', 'cheese', 'mozzarella', 'corn', 'tortilla', 'tortillas', 'habanero', 'salsa', 'lime', 'cilantro'], ['clove', 'cloves', 'eel', 'garlic', 'habanero', 'chili', 'grape', 'grapefruit', 'orange', 'lime', 'limes', 'salt'], ['lime', 'limes', 'grape', 'grapefruit', 'eel', 'onion', 'chicken', 'chicken breast', 'turkey', 'turkey breast', 'clove', 'cloves', 'garlic', 'cinnamon', 'allspice', 'berries', 'corn', 'pepper', 'oregano', 'tomato', 'tomatoes', 'hungarian wax pepper', 'salt', 'tortilla', 'tortillas', 'cilantro'], ['cumin', 'pepper', 'seed', 'seeds', 'water', 'sugar', 'corn', 'apple', 'eel', 'pineapple', 'lime', 'cayenne pepper'], ['cardamom', 'ginger', 'eel', 'water', 'sugar', 'wine', 'red wine', 'orange', 'oranges', 'vermouth'], ['rum', 'pea', 'absinthe'], ['bourbon', 'lemon juice', 'lemon'], ['rum', 'lime', 'limes', 'maple syrup', 'pea', 'eel']]\n"
     ]
    }
   ],
   "source": [
    "import json\n",
    "\n",
    "with open('recipes-1.JSON') as recipes:\n",
    "    data = json.load(recipes)\n",
    "# print(data)\n",
    "\n",
    "ingrs_per_recipe = []\n",
    "for obj in data:\n",
    "    ingrs_per_recipe.append(obj[\"ingredients\"])\n",
    "print(ingrs_per_recipe)"
   ]
  },
  {
   "cell_type": "code",
   "execution_count": 129,
   "metadata": {
    "collapsed": false
   },
   "outputs": [
    {
     "name": "stdout",
     "output_type": "stream",
     "text": [
      "['abalone', 'absinthe', 'achar', 'ackee', 'adobo', 'advieh', 'agar', 'aioli', 'ajowan', 'ale', 'alitame', 'alligator', 'allspice', 'almond', 'almonds', 'almond bark', 'almond butter', 'alum', 'amaranth', 'amaretti', 'amaretto', 'amla', 'anchovette', 'anchovy', 'anchovies', 'angelica', 'anise', 'apple', 'apples', 'apple butter', 'apple jelly', 'apricot', 'apricots', 'apricot jelly', 'apricot jam', 'aquavit', 'arak', 'arrowroot', 'artichoke', 'arugula', 'asadero', 'asafetida', 'asiago cheese', 'asparagus', 'aspic', 'avocado', 'avocados', 'baba', 'babaco', 'babka', 'bacon', 'bagel', 'bagels', 'bagna cauda', 'bagoong', 'baguette', 'baguettes', 'baharat', 'baklava', 'banger', 'banana', 'bananas', 'bard', 'barley', 'baron', 'basil', 'bass', 'beat', 'bechamel', 'beef', 'beer', 'beet', 'beets', 'bento', 'berbere', 'berry', 'berries', 'biltong', 'bisque', 'blackberry', 'blackberries', 'beurre blanc', 'blueberry', 'blueberries', 'boerewors', 'bok choy', 'borage', 'borscht', 'bottarga', 'bouillon', 'bourbon', 'boursin cheese', 'braai', 'brandy', 'bread', 'breadcrumb', 'breadcrumbs', 'breadfruit', 'bresaola', 'broccoli', 'broth', 'brunoise', 'bruschetta', 'buckwheat', 'butter', 'buttermilk', 'cabbage', 'cacao', 'cachaca', 'cactus', 'caerphilly', 'calabaza', 'callaloo', 'calvados', 'canadian bacon', 'cantaloupe', 'cantaloupes', 'caper', 'capers', 'capsicum', 'carambola', 'carbalose', 'carboy', 'carbquik', 'cardamom', 'carob', 'carrageen', 'carrot', 'carrots', 'cassava', 'casserole', 'catfish', 'caul fat', 'cauliflower', 'caviar', 'celeriac', 'celery', 'chai', 'chambord', 'chard', 'chayote', 'cheese', 'cheeses', 'cheddar cheese', 'beer cheese', 'blue cheese', 'brick cheese', 'buxton blue cheese', 'banon cheese', 'basket cheese', 'chendol', 'cherimoya', 'cherry', 'cherries', 'amarena cherry', 'amarena cherries', 'chervil', 'cheshire cheese', 'chestnut', 'chickpea', 'chicory', 'chinese cabbage', 'chives', 'chicken', 'chicken breast', 'chicken thigh', 'chinese date', 'chocolate', 'chowder', 'chutney', 'cider', 'cilantro', 'cinnamon', 'citron', 'clafouti', 'clam', 'clams', 'clarified butter', 'clove', 'cloves', 'cocoa', 'cocoa powder', 'coconut', 'coconuts', 'cod', 'coffee', 'colby', 'confit', 'cookie', 'cookies', 'copha', 'coriander', 'corn', 'corned beef', 'cornichon', 'cornmeal', 'cornstarch', 'cottage cheese', 'coulis', 'couscous', 'crab', 'crabs', 'cranberry', 'craisin', 'cranberries', 'crayfish', 'cream cheese', 'creme brulee', 'crostini', 'crouton', 'crozzled', 'cucumber', 'cucumbers', 'cucuzza', 'cumin', 'curacao', 'currant', 'currants', 'custard', 'date', 'creme de cassis', 'creme de cacao', 'derby cheese', 'dill', 'dovedale cheese', 'dragee', 'duck', 'ducks', 'duck breast', 'duck leg', 'bombay duck', 'dumpling', 'durian', 'eclair', 'edam', 'edamame', 'eel', 'eels', 'egg', 'eggs', 'eggplant', 'eggplants', 'elderberry', 'elderberries', 'endive', 'endives', 'epazote', 'escalope', 'espresso', 'almond extract', 'falafel', 'falernum', 'farina', 'farmer cheese', 'feet', 'feijoa', 'fennel', 'fenugreek', 'feta', 'fig', 'flounder', 'flour', 'corn flour', 'focaccia', 'fontina cheese', 'creme fraiche', 'frangipane', 'frisee', 'french fry', 'french fries', 'galangal', 'garlic', 'ganache', 'bouquet garni', 'baba ghanoush', 'ghee', 'ginger', 'crystalized ginger', 'ginger beer', 'ginger ale', 'demi-glace', 'gochujang', 'goji berry', 'goose', 'geese', 'gooseberry', 'gooseberries', 'gorgonzola', 'gouda', 'graham cracker', 'graham crackers', 'gram flour', 'granola', 'grape', 'grapes', 'grapefruit', 'grapefruits', 'foie gras', 'bacon grease', 'greens', 'grits', 'buckwheat groat', 'grouper', 'gruyere', 'guanbana', 'guava', 'guavas', 'habanero', 'haddock', 'half-and-half', 'halibut', 'ham', 'hamachi', 'hamburger', 'hamburgers', 'hard cheese', 'harissa', 'hash browns', 'havarti', 'hawaij', 'hazelnut', 'heavy cream', 'herbsaint', 'herring', 'ham hock', 'hoki', 'hominy', 'honey', 'horseradish', 'huckleberry', 'hyssop', 'ice cream', 'jack cheese', 'jaggery', 'jamun', 'gelatin', 'jerusalem artichoke', 'jicama', 'kahlua', 'kale', 'black kale', 'kamaboko', 'kasha', 'kashk', 'green kern', 'ketchup', 'kewra essence', 'khus essence', 'kielbasa', 'kirsch', 'kolsch', 'kiwi', 'kiwis', 'kohlrabi', 'kugel', 'kumquat', 'ladyfingers', 'lamb', 'lancashire cheese', 'lardon', 'lardons', 'lavender', 'latte', 'bay leaf', 'curry leaf', 'crema de leche', 'lecithin', 'leek', 'leeks', 'lefse', 'green bean', 'green beans', 'fava bean', 'fava beans', 'black bean', 'black beans', 'kidney bean', 'kidney beans', 'bean', 'beans', 'cannelini bean', 'cannelini beans', 'black bean', 'black beans', 'cranberry bean', 'cranberry beans', 'jelly bean', 'jelly beans', 'azuki bean', 'azuki beans', 'lemon grass', 'lemongrass', 'lemon juice', 'lemon', 'lemons', 'lemon balm', 'lentil', 'lentils', 'lettuce', 'light cream', 'cream', 'lima bean', 'lima beans', 'lime', 'limes', 'lime juice', 'kaffir lime', 'kaffir limes', 'amarula', 'lychee', 'lycees', 'liver', 'chicken liver', 'lobster', 'lobsters', 'longan', 'loquat', 'loquats', 'lotus', 'lovage', 'macaroni', 'mace', 'mackerel', 'madeira', 'mahi mahi', 'mahleb', 'mango', 'mangos', 'mangoes', 'mangosteen', 'beurre manie', 'ketjab manis', 'maraschino', 'margarine', 'marjoram', 'marmalade', 'grand marnier', 'marrow', 'marshmallow', 'marshmallows', 'marula', 'marzipan', 'masa', 'masala', 'masarepa', 'mascarpone', 'mayo', 'mayonnaise', 'matzo', 'melon', 'melons', 'honeydew melon', 'honeydew melons', 'bitter melon', 'bitter melons', 'creme de menthe', 'mesclun', 'mettwurst', 'liverwurst', 'bratwurst', 'knockwurst', 'milk', 'evaporated milk', 'condensed milk', 'mint', 'mirepoix', 'miso', 'bisquik', 'molasses', 'monkfish', 'monosodium glutamate', 'morel', 'moringa', 'mortadella', 'mostaccioli', 'moth bean', 'moth beans', 'mozzarella', 'muffin', 'muffins', 'english muffin', 'english muffins', 'mugwort', 'li hing mui', 'mung bean', 'mung beans', 'muscadine', 'muscovy duck', 'mushroom', 'mushrooms', 'cremini mushroom', 'cremini mushrooms', 'muskmelon', 'muskmelons', 'mussel', 'mussels', 'mustard', 'nasturtium', 'navy bean', 'navy beans', 'nectarine', 'nectarines', 'nopale', 'nori', 'great northern bean', 'great northern beans', 'brazil nut', 'brazil nuts', 'cashew', 'cashews', 'gingko nut', 'gingko nuts', 'macadamia nut', 'macadamia nuts', 'nutmeg', 'oatmeal', 'octopus', 'cream of coconut', 'offal', 'canola oil', 'argan oil', 'coconut oil', 'citrus oil', 'okra', 'olive', 'olives', 'kalamata olive', 'kalamata olives', 'manzanilla olive', 'manzanilla olives', 'olive oil', 'black olive', 'black olives', 'onion', 'onions', 'green onion', 'green onions', 'red onion', 'red onions', 'sweet onion', 'sweet onions', 'orange', 'oranges', 'mandarin orange', 'mandarin oranges', 'oregano', 'palm oil', 'hearts of palm', 'pancetta', 'panir', 'paneer', 'panko', 'panna cotta', 'papaya', 'papayas', 'paprika', 'parmesan cheese', 'parsley', 'parsnip', 'parsnips', 'passion fruit', 'passion fruits', 'pasta', 'pastas', 'pasta filata', 'anchovy paste', 'almond paste', 'curry paste', 'date paste', 'pastis', 'paysanne', 'pea', 'peas', 'pea bean', 'pea beans', 'black-eyed pea', 'black-eyed peas', 'peach', 'peaches', 'peanut', 'peanuts', 'peanut butter', 'pear', 'pears', 'pecan', 'pecans', 'lemon peel', 'lemon peels', 'orange peel', 'orange peels', 'ancho chile', 'pepper', 'peppers', 'cayenne pepper', 'chile', 'chiles', 'chipotle', 'chipotles', 'aleppo pepper', 'aleppo peppers', 'peppadew pepper', 'peppadew peppers', 'african birdseye pepper', 'african birdseye peppers', 'perch', 'periwinkle', 'persimmon', 'persimmons', 'pesto', 'pheasant', 'pheasants', 'phyllo', 'pickle', 'pico de gallo', 'pie melon', 'pierogi', \"pig's cheek\", \"pig's feet\", 'pike', 'piloncillo', 'pimiento', 'pine nut', 'pine nuts', 'pineapple', 'pineapples', 'pink bean', 'pink beans', 'pinto bean', 'pinto beans', 'pistachio', 'pistachios', 'plantain', 'plantains', 'plum', 'plums', 'plumcot', 'plumcots', 'poblano', 'poblanos', 'poblano pepper', 'poblano peppers', 'polenta', 'pomegranate', 'pomegranates', 'pomegranate molasses', 'pomelo', 'pomelos', 'ponzu', 'porcini', 'portabella', 'pork', 'potato', 'potato chips', 'baking powder', 'curry powder', 'garlic powder', 'onion powder', 'amchoor powder', 'dhania-jeera powder', 'chili powder', 'file powder', 'meringue powder', 'prawn', 'prawns', 'dijon mustard', 'preserves', 'preserved lemon', 'processed cheese', 'prosciutto', 'provolone', 'prune', 'prunes', 'pudding', 'puddings', 'puff pastry', 'pumpkin', 'purslane', 'quail', 'quails', 'quenelle', 'queso', 'quince', 'quinces', 'broccoli raab', 'rabbit', 'rabbits', 'radicchio', 'radish', 'radishes', 'raisin', 'raisins', 'ramp', 'ramps', 'rambutan', 'ras el hanout', 'raspberry', 'raspberries', 'red cabbage', 'red cabbages', 'red bean', 'red beans', 'red pepper flakes', 'red chile powder', 'red pepper', 'rhubarb', 'rice', 'arborio rice', 'basmati rice', 'jasmine rice', 'rice paper', 'brown rice', 'ricotta cheese', 'sushi rice', 'romaine lettuce', 'romano cheese', 'rookwurst', 'provel rope cheese', 'rose essence', 'rosemary', 'rotisserie', 'rum', 'rutabaga', 'rusk', 'saffron', 'sage', 'sago', 'salmon', 'salsa', 'salsify', 'salt pork', 'salt', 'sambal', 'sand dab', 'sardine', 'sardines', 'chili', 'chili sauce', 'chili oil', 'hoisin', 'oyster sauce', 'fish sauce', 'applesauce', 'alfredo', 'moambe sauce', 'bean sauce', 'hot sauce', 'sauerkraut', 'saunf', 'sausage', 'sausages', 'creole sausage', 'andouille sausage', 'chaurice sausage', 'savory', 'scallop', 'scallops', 'scotch bonnet', 'scrapple', 'sea cucumber', 'poultry seasoning', 'mrs dash', 'fennel', 'fennel seeds', 'mustard powder', 'mustard seeds', 'caraway seeds', 'celery seeds', 'poppy seed', 'poppy seeds', 'seed', 'seeds', 'annatto seed', 'annatto seeds', 'nigella seed', 'nigella seeds', 'flax seed', 'flax seeds', 'pumpkin seed', 'pumpkin seeds', 'seitan', 'sesame seed', 'sesame seeds', 'semi-hard cheese', 'semisweet chocolate', 'semolina', 'serrano ham', 'seville orange', 'seville oranges', 'shallot', 'shallots', 'sherry', 'shitake', 'bamboo shoot', 'bamboo shoots', 'shortening', 'shrimp', 'shrimp paste', 'smelt', 'smoked salmon', 'smoke seasoning', 'liquid smoke', 'barbecue sauce', 'snap pea', 'snap peas', 'red snapper', 'snapper', 'snoek', 'snow pea', 'snow peas', 'soba', 'baking soda', 'soda crackers', 'saltines', 'sodium citrate', 'soft cheese', 'soft-shell crab', 'sole', 'somen', 'sorghum', 'sorrel', 'sour cream', 'soy sauce', 'soybean', 'soy milk', 'spaetzle', 'spanish cheese', 'spearmint', 'apple pie spice', 'pumpkin pie spice', 'chinese five-spice powder', 'garam masala', 'spinach', 'split pea', 'split peas', 'brussels sprout', 'brussels sprouts', 'bean sprout', 'bean sprouts', 'alfalfa sprout', 'alfalfa sprouts', 'squash', 'acorn squash', 'spaghetti squash', 'squid', 'irish cream', 'star anise', 'potato starch', 'steak', 'stevia', 'rice stick', 'stilton', 'strawberry', 'strawberries', 'stuffing', 'sturgeon', 'haricot verts', 'sucanat', 'egg substitute', 'egg white', 'egg whites', 'egg yolk', 'egg yolks', 'sucralose', 'suet', 'sugar', 'powdered sugar', 'brown sugar', 'raw sugar', 'date sugar', 'icing sugar', 'muscovado sugar', 'barley sugar', 'palm sugar', 'sultana', 'sumac', 'summer squash', 'sweet pepper', 'sweet peppers', 'sweet potato', 'sweet potatoes', 'sweet chili sauce', 'sweetbreads', 'sweetened condensed milk', 'unsweetened chocolate', 'swiss cheese', 'swordfish', 'corn syrup', 'maple syrup', 'golden syrup', 'ginger syrup', 'simple syrup', 'orgeat syrup', 'szechuan peppercorn', 'tabasco sauce', 'tahini', 'tamarillo', 'tamarind', 'tamarind paste', 'tandoori paste', 'tapioca', 'tarragon', 'cream of tartar', 'tartar sauce', 'tasso', 'tatsoi', 'tea', 'teff', 'tempeh', 'terrapin', 'bean thread', 'bean threads', 'thyme', 'tofu', 'togarashi', 'plum tomato', 'plum tomatoes', 'tomato sauce', 'tomato', 'tomatoes', 'tomato paste', 'rotel tomatoes', 'tomato puree', 'tortilla', 'tortillas', 'trappist cheese', 'tripe', 'trumpet mushroom', 'trumpet mushrooms', 'trout', 'truffle', 'truffle oil', 'tuna', 'turbinado sugar', 'turkey', 'turkey breast', 'turkey leg', 'turkey thigh', 'turkey kielbasa', 'ground turkey', 'ground beef', 'ground pork', 'ground veal', 'turmeric', 'turtle', 'udon', 'ugli fruit', 'umeboshi', 'pectin', 'vanilla extract', 'vanilla bean', 'vanilla beans', 'vanilla', 'veal', 'vegemite', 'marmite', 'velveeta', 'venison', 'vermicelli', 'rice vermicelli', 'vermouth', 'vidalia onion', 'vincotto', 'balsamic vinegar', 'vinegar', 'white vinegar', 'apple cider vinegar', 'red wine vinegar', 'white whine vinegar', 'champagne vinegar', 'rice vinegar', 'malt vinegar', 'vodka', 'walnut', 'walnuts', 'wasabi', 'water', 'rose water', 'orange flower water', 'water chestnut', 'kewra water', 'watercress', 'watermelon', 'watermelons', 'watermelon radish', 'watermelon radishes', 'wattleseed', 'hungarian wax pepper', 'hungarian wax peppers', 'hungarian wax chile', 'hungarian wax chiles', 'weetabix', 'wheat thins', 'weisswurst', 'welsh rarebit', 'wensleydale cheese', 'wheat', 'wheat berry', 'wheat berries', 'bulgur', 'wheat germ', 'cream of wheat', 'wheat gluten', 'whelk', 'whelks', 'cool whip', 'miracle whip', 'white bean', 'white beans', 'white chocolate', 'wild rice', 'rice wine', 'wine', 'red wine', 'ice wine', 'white wine', 'won ton', 'worcestershire sauce', 'mushu', 'lumpia', 'xanthan gum', 'cornish yarg cheese', 'hundred-year egg', 'yeast', 'champagne yeast', \"brewer's yeast\"]\n"
     ]
    }
   ],
   "source": [
    "with open('foodList.txt') as f:\n",
    "        ing_list = f.readlines()\n",
    "ing_list = [ing[:-1].lower() for ing in ing_list]\n",
    "print(ing_list)\n"
   ]
  },
  {
   "cell_type": "code",
   "execution_count": 180,
   "metadata": {
    "collapsed": false
   },
   "outputs": [
    {
     "name": "stdout",
     "output_type": "stream",
     "text": [
      "        abalone  absinthe  achar  ackee  adobo  advieh  agar  aioli  ajowan  \\\n",
      "fennel        0         0      0      0      0       0     0      0       0   \n",
      "fennel        0         0      0      0      0       0     0      0       0   \n",
      "\n",
      "        ale       ...        won ton  worcestershire sauce  mushu  lumpia  \\\n",
      "fennel    0       ...              0                     1      0       0   \n",
      "fennel    0       ...              0                     1      0       0   \n",
      "\n",
      "        xanthan gum  cornish yarg cheese  hundred-year egg  yeast  \\\n",
      "fennel            0                    0                 0      0   \n",
      "fennel            0                    0                 0      0   \n",
      "\n",
      "        champagne yeast  brewer's yeast  \n",
      "fennel                0               0  \n",
      "fennel                0               0  \n",
      "\n",
      "[2 rows x 1025 columns]\n"
     ]
    }
   ],
   "source": [
    "import pandas as pd\n",
    "import itertools as iter\n",
    "\n",
    "# with open(\"foodList.txt\")\n",
    "# ingredients = pd.read_table('foodList.txt', skip_blank_lines=True)\n",
    "# print(type(ingredients))\n",
    "columns = ing_list\n",
    "df = pd.DataFrame(0, index=columns, columns=columns)\n",
    "\n",
    "for ingredient_list in ingrs_per_recipe:\n",
    "#     print('ingredient_list:', ingredient_list)\n",
    "    for pair in list(iter.combinations(ingredient_list,2)):\n",
    "#         print(pair)\n",
    "        r = pair[0]\n",
    "        c = pair[1]\n",
    "#         print(curr_value)\n",
    "#         print('curr_value', curr_value+1)\n",
    "        curr_value = df.loc[r, c]\n",
    "        new_value = curr_value + 1\n",
    "        df.ix[r, c] = new_value\n",
    "#         print(df.loc[r][c])\n",
    "# print(df.loc['fennel',:].sum())\n",
    "print(df.loc['fennel',:])\n",
    "        \n",
    "        \n",
    "# for recipe in ingrs_per_recipe[0]:\n",
    "#     print(recipe)\n",
    "#     for pair in list(iter.combinations(recipe, 2)): #nC2\n",
    "#         print(pair)\n",
    "# #         r = pair[0]\n",
    "# #         c = pair[1]\n",
    "# #         df.loc[r, c] += 1\n",
    "\n",
    "# print(df)"
   ]
  },
  {
   "cell_type": "code",
   "execution_count": null,
   "metadata": {
    "collapsed": true
   },
   "outputs": [],
   "source": [
    "# Dijkstra's algorithm\n",
    "# 1. Initializations\n",
    "# 2. S = [];\n",
    "# 3. Q = G.vertices\n",
    "# 4. while Q.length != 0\n",
    "#       u = EXTRACT-MIN\n",
    "\n",
    "def Dijkstras(G, )"
   ]
  },
  {
   "cell_type": "code",
   "execution_count": 102,
   "metadata": {
    "collapsed": false
   },
   "outputs": [
    {
     "name": "stdout",
     "output_type": "stream",
     "text": [
      "x 10\n"
     ]
    }
   ],
   "source": [
    "x = 10\n",
    "print('x', x)"
   ]
  },
  {
   "cell_type": "code",
   "execution_count": 128,
   "metadata": {
    "collapsed": false
   },
   "outputs": [
    {
     "name": "stdout",
     "output_type": "stream",
     "text": [
      "0\n"
     ]
    }
   ],
   "source": [
    "print(df.loc['Ponzu']['Ponzu'])"
   ]
  },
  {
   "cell_type": "code",
   "execution_count": 172,
   "metadata": {
    "collapsed": false
   },
   "outputs": [
    {
     "name": "stdout",
     "output_type": "stream",
     "text": [
      "     a a  b b  c c\n",
      "a a    0    1    0\n",
      "b b    0    0    0\n",
      "c c    0    0    0\n",
      "     a a  b b  c c\n",
      "a a    0    2    0\n",
      "b b    0    0    0\n",
      "c c    0    0    0\n"
     ]
    },
    {
     "ename": "KeyError",
     "evalue": "'c'",
     "output_type": "error",
     "traceback": [
      "\u001b[0;31m---------------------------------------------------------------------------\u001b[0m",
      "\u001b[0;31mTypeError\u001b[0m                                 Traceback (most recent call last)",
      "\u001b[0;32m/Users/alberthahn/anaconda/lib/python3.5/site-packages/pandas/indexes/base.py\u001b[0m in \u001b[0;36mget_value\u001b[0;34m(self, series, key)\u001b[0m\n\u001b[1;32m   1916\u001b[0m             \u001b[0;32mtry\u001b[0m\u001b[0;34m:\u001b[0m\u001b[0;34m\u001b[0m\u001b[0m\n\u001b[0;32m-> 1917\u001b[0;31m                 \u001b[0;32mreturn\u001b[0m \u001b[0mtslib\u001b[0m\u001b[0;34m.\u001b[0m\u001b[0mget_value_box\u001b[0m\u001b[0;34m(\u001b[0m\u001b[0ms\u001b[0m\u001b[0;34m,\u001b[0m \u001b[0mkey\u001b[0m\u001b[0;34m)\u001b[0m\u001b[0;34m\u001b[0m\u001b[0m\n\u001b[0m\u001b[1;32m   1918\u001b[0m             \u001b[0;32mexcept\u001b[0m \u001b[0mIndexError\u001b[0m\u001b[0;34m:\u001b[0m\u001b[0;34m\u001b[0m\u001b[0m\n",
      "\u001b[0;32mpandas/tslib.pyx\u001b[0m in \u001b[0;36mpandas.tslib.get_value_box (pandas/tslib.c:17748)\u001b[0;34m()\u001b[0m\n",
      "\u001b[0;32mpandas/tslib.pyx\u001b[0m in \u001b[0;36mpandas.tslib.get_value_box (pandas/tslib.c:17416)\u001b[0;34m()\u001b[0m\n",
      "\u001b[0;31mTypeError\u001b[0m: 'str' object cannot be interpreted as an integer",
      "\nDuring handling of the above exception, another exception occurred:\n",
      "\u001b[0;31mKeyError\u001b[0m                                  Traceback (most recent call last)",
      "\u001b[0;32m<ipython-input-172-dad058420586>\u001b[0m in \u001b[0;36m<module>\u001b[0;34m()\u001b[0m\n\u001b[1;32m     10\u001b[0m \u001b[0mprint\u001b[0m\u001b[0;34m(\u001b[0m\u001b[0mdf2\u001b[0m\u001b[0;34m)\u001b[0m\u001b[0;34m\u001b[0m\u001b[0m\n\u001b[1;32m     11\u001b[0m \u001b[0mc\u001b[0m \u001b[0;34m=\u001b[0m \u001b[0;34m'c'\u001b[0m\u001b[0;34m\u001b[0m\u001b[0m\n\u001b[0;32m---> 12\u001b[0;31m \u001b[0mdf2\u001b[0m\u001b[0;34m.\u001b[0m\u001b[0mix\u001b[0m\u001b[0;34m[\u001b[0m\u001b[0mr\u001b[0m\u001b[0;34m,\u001b[0m \u001b[0mc\u001b[0m\u001b[0;34m]\u001b[0m\u001b[0;34m+=\u001b[0m\u001b[0;36m1\u001b[0m\u001b[0;34m\u001b[0m\u001b[0m\n\u001b[0m\u001b[1;32m     13\u001b[0m \u001b[0mprint\u001b[0m\u001b[0;34m(\u001b[0m\u001b[0mdf2\u001b[0m\u001b[0;34m)\u001b[0m\u001b[0;34m\u001b[0m\u001b[0m\n\u001b[1;32m     14\u001b[0m \u001b[0mdf2\u001b[0m\u001b[0;34m.\u001b[0m\u001b[0mix\u001b[0m\u001b[0;34m[\u001b[0m\u001b[0mr\u001b[0m\u001b[0;34m,\u001b[0m \u001b[0mc\u001b[0m\u001b[0;34m]\u001b[0m\u001b[0;34m+=\u001b[0m\u001b[0;36m1\u001b[0m\u001b[0;34m\u001b[0m\u001b[0m\n",
      "\u001b[0;32m/Users/alberthahn/anaconda/lib/python3.5/site-packages/pandas/core/indexing.py\u001b[0m in \u001b[0;36m__getitem__\u001b[0;34m(self, key)\u001b[0m\n\u001b[1;32m     74\u001b[0m                 \u001b[0;32mpass\u001b[0m\u001b[0;34m\u001b[0m\u001b[0m\n\u001b[1;32m     75\u001b[0m \u001b[0;34m\u001b[0m\u001b[0m\n\u001b[0;32m---> 76\u001b[0;31m             \u001b[0;32mreturn\u001b[0m \u001b[0mself\u001b[0m\u001b[0;34m.\u001b[0m\u001b[0m_getitem_tuple\u001b[0m\u001b[0;34m(\u001b[0m\u001b[0mkey\u001b[0m\u001b[0;34m)\u001b[0m\u001b[0;34m\u001b[0m\u001b[0m\n\u001b[0m\u001b[1;32m     77\u001b[0m         \u001b[0;32melse\u001b[0m\u001b[0;34m:\u001b[0m\u001b[0;34m\u001b[0m\u001b[0m\n\u001b[1;32m     78\u001b[0m             \u001b[0;32mreturn\u001b[0m \u001b[0mself\u001b[0m\u001b[0;34m.\u001b[0m\u001b[0m_getitem_axis\u001b[0m\u001b[0;34m(\u001b[0m\u001b[0mkey\u001b[0m\u001b[0;34m,\u001b[0m \u001b[0maxis\u001b[0m\u001b[0;34m=\u001b[0m\u001b[0;36m0\u001b[0m\u001b[0;34m)\u001b[0m\u001b[0;34m\u001b[0m\u001b[0m\n",
      "\u001b[0;32m/Users/alberthahn/anaconda/lib/python3.5/site-packages/pandas/core/indexing.py\u001b[0m in \u001b[0;36m_getitem_tuple\u001b[0;34m(self, tup)\u001b[0m\n\u001b[1;32m    778\u001b[0m     \u001b[0;32mdef\u001b[0m \u001b[0m_getitem_tuple\u001b[0m\u001b[0;34m(\u001b[0m\u001b[0mself\u001b[0m\u001b[0;34m,\u001b[0m \u001b[0mtup\u001b[0m\u001b[0;34m)\u001b[0m\u001b[0;34m:\u001b[0m\u001b[0;34m\u001b[0m\u001b[0m\n\u001b[1;32m    779\u001b[0m         \u001b[0;32mtry\u001b[0m\u001b[0;34m:\u001b[0m\u001b[0;34m\u001b[0m\u001b[0m\n\u001b[0;32m--> 780\u001b[0;31m             \u001b[0;32mreturn\u001b[0m \u001b[0mself\u001b[0m\u001b[0;34m.\u001b[0m\u001b[0m_getitem_lowerdim\u001b[0m\u001b[0;34m(\u001b[0m\u001b[0mtup\u001b[0m\u001b[0;34m)\u001b[0m\u001b[0;34m\u001b[0m\u001b[0m\n\u001b[0m\u001b[1;32m    781\u001b[0m         \u001b[0;32mexcept\u001b[0m \u001b[0mIndexingError\u001b[0m\u001b[0;34m:\u001b[0m\u001b[0;34m\u001b[0m\u001b[0m\n\u001b[1;32m    782\u001b[0m             \u001b[0;32mpass\u001b[0m\u001b[0;34m\u001b[0m\u001b[0m\n",
      "\u001b[0;32m/Users/alberthahn/anaconda/lib/python3.5/site-packages/pandas/core/indexing.py\u001b[0m in \u001b[0;36m_getitem_lowerdim\u001b[0;34m(self, tup)\u001b[0m\n\u001b[1;32m    927\u001b[0m \u001b[0;34m\u001b[0m\u001b[0m\n\u001b[1;32m    928\u001b[0m                 \u001b[0;31m# This is an elided recursive call to iloc/loc/etc'\u001b[0m\u001b[0;34m\u001b[0m\u001b[0;34m\u001b[0m\u001b[0m\n\u001b[0;32m--> 929\u001b[0;31m                 \u001b[0;32mreturn\u001b[0m \u001b[0mgetattr\u001b[0m\u001b[0;34m(\u001b[0m\u001b[0msection\u001b[0m\u001b[0;34m,\u001b[0m \u001b[0mself\u001b[0m\u001b[0;34m.\u001b[0m\u001b[0mname\u001b[0m\u001b[0;34m)\u001b[0m\u001b[0;34m[\u001b[0m\u001b[0mnew_key\u001b[0m\u001b[0;34m]\u001b[0m\u001b[0;34m\u001b[0m\u001b[0m\n\u001b[0m\u001b[1;32m    930\u001b[0m \u001b[0;34m\u001b[0m\u001b[0m\n\u001b[1;32m    931\u001b[0m         \u001b[0;32mraise\u001b[0m \u001b[0mIndexingError\u001b[0m\u001b[0;34m(\u001b[0m\u001b[0;34m'not applicable'\u001b[0m\u001b[0;34m)\u001b[0m\u001b[0;34m\u001b[0m\u001b[0m\n",
      "\u001b[0;32m/Users/alberthahn/anaconda/lib/python3.5/site-packages/pandas/core/indexing.py\u001b[0m in \u001b[0;36m__getitem__\u001b[0;34m(self, key)\u001b[0m\n\u001b[1;32m     76\u001b[0m             \u001b[0;32mreturn\u001b[0m \u001b[0mself\u001b[0m\u001b[0;34m.\u001b[0m\u001b[0m_getitem_tuple\u001b[0m\u001b[0;34m(\u001b[0m\u001b[0mkey\u001b[0m\u001b[0;34m)\u001b[0m\u001b[0;34m\u001b[0m\u001b[0m\n\u001b[1;32m     77\u001b[0m         \u001b[0;32melse\u001b[0m\u001b[0;34m:\u001b[0m\u001b[0;34m\u001b[0m\u001b[0m\n\u001b[0;32m---> 78\u001b[0;31m             \u001b[0;32mreturn\u001b[0m \u001b[0mself\u001b[0m\u001b[0;34m.\u001b[0m\u001b[0m_getitem_axis\u001b[0m\u001b[0;34m(\u001b[0m\u001b[0mkey\u001b[0m\u001b[0;34m,\u001b[0m \u001b[0maxis\u001b[0m\u001b[0;34m=\u001b[0m\u001b[0;36m0\u001b[0m\u001b[0;34m)\u001b[0m\u001b[0;34m\u001b[0m\u001b[0m\n\u001b[0m\u001b[1;32m     79\u001b[0m \u001b[0;34m\u001b[0m\u001b[0m\n\u001b[1;32m     80\u001b[0m     \u001b[0;32mdef\u001b[0m \u001b[0m_get_label\u001b[0m\u001b[0;34m(\u001b[0m\u001b[0mself\u001b[0m\u001b[0;34m,\u001b[0m \u001b[0mlabel\u001b[0m\u001b[0;34m,\u001b[0m \u001b[0maxis\u001b[0m\u001b[0;34m=\u001b[0m\u001b[0;36m0\u001b[0m\u001b[0;34m)\u001b[0m\u001b[0;34m:\u001b[0m\u001b[0;34m\u001b[0m\u001b[0m\n",
      "\u001b[0;32m/Users/alberthahn/anaconda/lib/python3.5/site-packages/pandas/core/indexing.py\u001b[0m in \u001b[0;36m_getitem_axis\u001b[0;34m(self, key, axis)\u001b[0m\n\u001b[1;32m   1012\u001b[0m                     \u001b[0;32mreturn\u001b[0m \u001b[0mself\u001b[0m\u001b[0;34m.\u001b[0m\u001b[0m_get_loc\u001b[0m\u001b[0;34m(\u001b[0m\u001b[0mkey\u001b[0m\u001b[0;34m,\u001b[0m \u001b[0maxis\u001b[0m\u001b[0;34m=\u001b[0m\u001b[0maxis\u001b[0m\u001b[0;34m)\u001b[0m\u001b[0;34m\u001b[0m\u001b[0m\n\u001b[1;32m   1013\u001b[0m \u001b[0;34m\u001b[0m\u001b[0m\n\u001b[0;32m-> 1014\u001b[0;31m             \u001b[0;32mreturn\u001b[0m \u001b[0mself\u001b[0m\u001b[0;34m.\u001b[0m\u001b[0m_get_label\u001b[0m\u001b[0;34m(\u001b[0m\u001b[0mkey\u001b[0m\u001b[0;34m,\u001b[0m \u001b[0maxis\u001b[0m\u001b[0;34m=\u001b[0m\u001b[0maxis\u001b[0m\u001b[0;34m)\u001b[0m\u001b[0;34m\u001b[0m\u001b[0m\n\u001b[0m\u001b[1;32m   1015\u001b[0m \u001b[0;34m\u001b[0m\u001b[0m\n\u001b[1;32m   1016\u001b[0m     \u001b[0;32mdef\u001b[0m \u001b[0m_getitem_iterable\u001b[0m\u001b[0;34m(\u001b[0m\u001b[0mself\u001b[0m\u001b[0;34m,\u001b[0m \u001b[0mkey\u001b[0m\u001b[0;34m,\u001b[0m \u001b[0maxis\u001b[0m\u001b[0;34m=\u001b[0m\u001b[0;36m0\u001b[0m\u001b[0;34m)\u001b[0m\u001b[0;34m:\u001b[0m\u001b[0;34m\u001b[0m\u001b[0m\n",
      "\u001b[0;32m/Users/alberthahn/anaconda/lib/python3.5/site-packages/pandas/core/indexing.py\u001b[0m in \u001b[0;36m_get_label\u001b[0;34m(self, label, axis)\u001b[0m\n\u001b[1;32m     87\u001b[0m                 \u001b[0;32mreturn\u001b[0m \u001b[0mself\u001b[0m\u001b[0;34m.\u001b[0m\u001b[0mobj\u001b[0m\u001b[0;34m.\u001b[0m\u001b[0m_xs\u001b[0m\u001b[0;34m(\u001b[0m\u001b[0mlabel\u001b[0m\u001b[0;34m,\u001b[0m \u001b[0maxis\u001b[0m\u001b[0;34m=\u001b[0m\u001b[0maxis\u001b[0m\u001b[0;34m)\u001b[0m\u001b[0;34m\u001b[0m\u001b[0m\n\u001b[1;32m     88\u001b[0m             \u001b[0;32mexcept\u001b[0m\u001b[0;34m:\u001b[0m\u001b[0;34m\u001b[0m\u001b[0m\n\u001b[0;32m---> 89\u001b[0;31m                 \u001b[0;32mreturn\u001b[0m \u001b[0mself\u001b[0m\u001b[0;34m.\u001b[0m\u001b[0mobj\u001b[0m\u001b[0;34m[\u001b[0m\u001b[0mlabel\u001b[0m\u001b[0;34m]\u001b[0m\u001b[0;34m\u001b[0m\u001b[0m\n\u001b[0m\u001b[1;32m     90\u001b[0m         \u001b[0;32melif\u001b[0m \u001b[0misinstance\u001b[0m\u001b[0;34m(\u001b[0m\u001b[0mlabel\u001b[0m\u001b[0;34m,\u001b[0m \u001b[0mtuple\u001b[0m\u001b[0;34m)\u001b[0m \u001b[0;32mand\u001b[0m \u001b[0misinstance\u001b[0m\u001b[0;34m(\u001b[0m\u001b[0mlabel\u001b[0m\u001b[0;34m[\u001b[0m\u001b[0maxis\u001b[0m\u001b[0;34m]\u001b[0m\u001b[0;34m,\u001b[0m \u001b[0mslice\u001b[0m\u001b[0;34m)\u001b[0m\u001b[0;34m:\u001b[0m\u001b[0;34m\u001b[0m\u001b[0m\n\u001b[1;32m     91\u001b[0m             \u001b[0;32mraise\u001b[0m \u001b[0mIndexingError\u001b[0m\u001b[0;34m(\u001b[0m\u001b[0;34m'no slices here, handle elsewhere'\u001b[0m\u001b[0;34m)\u001b[0m\u001b[0;34m\u001b[0m\u001b[0m\n",
      "\u001b[0;32m/Users/alberthahn/anaconda/lib/python3.5/site-packages/pandas/core/series.py\u001b[0m in \u001b[0;36m__getitem__\u001b[0;34m(self, key)\u001b[0m\n\u001b[1;32m    558\u001b[0m     \u001b[0;32mdef\u001b[0m \u001b[0m__getitem__\u001b[0m\u001b[0;34m(\u001b[0m\u001b[0mself\u001b[0m\u001b[0;34m,\u001b[0m \u001b[0mkey\u001b[0m\u001b[0;34m)\u001b[0m\u001b[0;34m:\u001b[0m\u001b[0;34m\u001b[0m\u001b[0m\n\u001b[1;32m    559\u001b[0m         \u001b[0;32mtry\u001b[0m\u001b[0;34m:\u001b[0m\u001b[0;34m\u001b[0m\u001b[0m\n\u001b[0;32m--> 560\u001b[0;31m             \u001b[0mresult\u001b[0m \u001b[0;34m=\u001b[0m \u001b[0mself\u001b[0m\u001b[0;34m.\u001b[0m\u001b[0mindex\u001b[0m\u001b[0;34m.\u001b[0m\u001b[0mget_value\u001b[0m\u001b[0;34m(\u001b[0m\u001b[0mself\u001b[0m\u001b[0;34m,\u001b[0m \u001b[0mkey\u001b[0m\u001b[0;34m)\u001b[0m\u001b[0;34m\u001b[0m\u001b[0m\n\u001b[0m\u001b[1;32m    561\u001b[0m \u001b[0;34m\u001b[0m\u001b[0m\n\u001b[1;32m    562\u001b[0m             \u001b[0;32mif\u001b[0m \u001b[0;32mnot\u001b[0m \u001b[0mlib\u001b[0m\u001b[0;34m.\u001b[0m\u001b[0misscalar\u001b[0m\u001b[0;34m(\u001b[0m\u001b[0mresult\u001b[0m\u001b[0;34m)\u001b[0m\u001b[0;34m:\u001b[0m\u001b[0;34m\u001b[0m\u001b[0m\n",
      "\u001b[0;32m/Users/alberthahn/anaconda/lib/python3.5/site-packages/pandas/indexes/base.py\u001b[0m in \u001b[0;36mget_value\u001b[0;34m(self, series, key)\u001b[0m\n\u001b[1;32m   1923\u001b[0m                     \u001b[0;32mraise\u001b[0m \u001b[0mInvalidIndexError\u001b[0m\u001b[0;34m(\u001b[0m\u001b[0mkey\u001b[0m\u001b[0;34m)\u001b[0m\u001b[0;34m\u001b[0m\u001b[0m\n\u001b[1;32m   1924\u001b[0m                 \u001b[0;32melse\u001b[0m\u001b[0;34m:\u001b[0m\u001b[0;34m\u001b[0m\u001b[0m\n\u001b[0;32m-> 1925\u001b[0;31m                     \u001b[0;32mraise\u001b[0m \u001b[0me1\u001b[0m\u001b[0;34m\u001b[0m\u001b[0m\n\u001b[0m\u001b[1;32m   1926\u001b[0m             \u001b[0;32mexcept\u001b[0m \u001b[0mException\u001b[0m\u001b[0;34m:\u001b[0m  \u001b[0;31m# pragma: no cover\u001b[0m\u001b[0;34m\u001b[0m\u001b[0m\n\u001b[1;32m   1927\u001b[0m                 \u001b[0;32mraise\u001b[0m \u001b[0me1\u001b[0m\u001b[0;34m\u001b[0m\u001b[0m\n",
      "\u001b[0;32m/Users/alberthahn/anaconda/lib/python3.5/site-packages/pandas/indexes/base.py\u001b[0m in \u001b[0;36mget_value\u001b[0;34m(self, series, key)\u001b[0m\n\u001b[1;32m   1909\u001b[0m         \u001b[0;32mtry\u001b[0m\u001b[0;34m:\u001b[0m\u001b[0;34m\u001b[0m\u001b[0m\n\u001b[1;32m   1910\u001b[0m             return self._engine.get_value(s, k,\n\u001b[0;32m-> 1911\u001b[0;31m                                           tz=getattr(series.dtype, 'tz', None))\n\u001b[0m\u001b[1;32m   1912\u001b[0m         \u001b[0;32mexcept\u001b[0m \u001b[0mKeyError\u001b[0m \u001b[0;32mas\u001b[0m \u001b[0me1\u001b[0m\u001b[0;34m:\u001b[0m\u001b[0;34m\u001b[0m\u001b[0m\n\u001b[1;32m   1913\u001b[0m             \u001b[0;32mif\u001b[0m \u001b[0mlen\u001b[0m\u001b[0;34m(\u001b[0m\u001b[0mself\u001b[0m\u001b[0;34m)\u001b[0m \u001b[0;34m>\u001b[0m \u001b[0;36m0\u001b[0m \u001b[0;32mand\u001b[0m \u001b[0mself\u001b[0m\u001b[0;34m.\u001b[0m\u001b[0minferred_type\u001b[0m \u001b[0;32min\u001b[0m \u001b[0;34m[\u001b[0m\u001b[0;34m'integer'\u001b[0m\u001b[0;34m,\u001b[0m \u001b[0;34m'boolean'\u001b[0m\u001b[0;34m]\u001b[0m\u001b[0;34m:\u001b[0m\u001b[0;34m\u001b[0m\u001b[0m\n",
      "\u001b[0;32mpandas/index.pyx\u001b[0m in \u001b[0;36mpandas.index.IndexEngine.get_value (pandas/index.c:3234)\u001b[0;34m()\u001b[0m\n",
      "\u001b[0;32mpandas/index.pyx\u001b[0m in \u001b[0;36mpandas.index.IndexEngine.get_value (pandas/index.c:2931)\u001b[0;34m()\u001b[0m\n",
      "\u001b[0;32mpandas/index.pyx\u001b[0m in \u001b[0;36mpandas.index.IndexEngine.get_loc (pandas/index.c:3891)\u001b[0;34m()\u001b[0m\n",
      "\u001b[0;32mpandas/hashtable.pyx\u001b[0m in \u001b[0;36mpandas.hashtable.PyObjectHashTable.get_item (pandas/hashtable.c:12408)\u001b[0;34m()\u001b[0m\n",
      "\u001b[0;32mpandas/hashtable.pyx\u001b[0m in \u001b[0;36mpandas.hashtable.PyObjectHashTable.get_item (pandas/hashtable.c:12359)\u001b[0;34m()\u001b[0m\n",
      "\u001b[0;31mKeyError\u001b[0m: 'c'"
     ]
    }
   ],
   "source": [
    "columns = ['a a', 'b b', 'c c']\n",
    "df2 = pd.DataFrame(0, index=columns, columns=columns)\n",
    "# print(df2)\n",
    "\n",
    "r = 'a a'\n",
    "c = 'b b'\n",
    "df2.ix[r, c]+=1\n",
    "print(df2)\n",
    "df2.ix[r, c]+=1\n",
    "print(df2)\n",
    "c = 'c'\n",
    "df2.ix[r, c]+=1\n",
    "print(df2)\n",
    "df2.ix[r, c]+=1\n",
    "print(df2)\n",
    "df2.ix[r, c]+=1\n",
    "print(df2)\n",
    "df2.ix[r, c]+=1\n",
    "print(df2)\n",
    "df2.ix[r, c]+=1\n",
    "print(df2)\n",
    "df2.ix[r, c]+=1\n",
    "print(df2)\n",
    "df2.ix[r, c]+=1\n",
    "print(df2)"
   ]
  },
  {
   "cell_type": "code",
   "execution_count": null,
   "metadata": {
    "collapsed": true
   },
   "outputs": [],
   "source": []
  },
  {
   "cell_type": "code",
   "execution_count": null,
   "metadata": {
    "collapsed": true
   },
   "outputs": [],
   "source": []
  },
  {
   "cell_type": "code",
   "execution_count": null,
   "metadata": {
    "collapsed": true
   },
   "outputs": [],
   "source": []
  },
  {
   "cell_type": "code",
   "execution_count": null,
   "metadata": {
    "collapsed": true
   },
   "outputs": [],
   "source": []
  },
  {
   "cell_type": "code",
   "execution_count": null,
   "metadata": {
    "collapsed": true
   },
   "outputs": [],
   "source": []
  },
  {
   "cell_type": "code",
   "execution_count": null,
   "metadata": {
    "collapsed": true
   },
   "outputs": [],
   "source": []
  },
  {
   "cell_type": "code",
   "execution_count": null,
   "metadata": {
    "collapsed": true
   },
   "outputs": [],
   "source": []
  },
  {
   "cell_type": "code",
   "execution_count": null,
   "metadata": {
    "collapsed": true
   },
   "outputs": [],
   "source": []
  },
  {
   "cell_type": "code",
   "execution_count": null,
   "metadata": {
    "collapsed": true
   },
   "outputs": [],
   "source": []
  },
  {
   "cell_type": "code",
   "execution_count": null,
   "metadata": {
    "collapsed": true
   },
   "outputs": [],
   "source": []
  },
  {
   "cell_type": "code",
   "execution_count": null,
   "metadata": {
    "collapsed": true
   },
   "outputs": [],
   "source": []
  },
  {
   "cell_type": "code",
   "execution_count": null,
   "metadata": {
    "collapsed": true
   },
   "outputs": [],
   "source": []
  }
 ],
 "metadata": {
  "kernelspec": {
   "display_name": "Python 3",
   "language": "python",
   "name": "python3"
  },
  "language_info": {
   "codemirror_mode": {
    "name": "ipython",
    "version": 3
   },
   "file_extension": ".py",
   "mimetype": "text/x-python",
   "name": "python",
   "nbconvert_exporter": "python",
   "pygments_lexer": "ipython3",
   "version": "3.5.1"
  }
 },
 "nbformat": 4,
 "nbformat_minor": 0
}
