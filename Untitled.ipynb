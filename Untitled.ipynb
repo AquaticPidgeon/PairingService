{
 "cells": [
  {
   "cell_type": "code",
   "execution_count": null,
   "metadata": {
    "collapsed": true
   },
   "outputs": [],
   "source": [
    "import math\n",
    "\n",
    "def Initialize_Single_Source(AdjMat, start):\n",
    "# {\n",
    "#     v_i: {dist: d_i, prev: p_i},\n",
    "#     v_k: {dist: d_k, prev: p_k}\n",
    "# }\n",
    "    vertices = {}\n",
    "    Q = [] \n",
    "    for v in list(AdjMat.columns.values):\n",
    "        if v == start:\n",
    "            vertices[v][dist] = 0\n",
    "        else:\n",
    "            vertices[v][dist] = math.inf\n",
    "            vertices[v][prev] = None\n",
    "        Q.push([ vertices[v][dist], v ])\n",
    "\n",
    "    return {vertices: vertices, queue: Q}"
   ]
  },
  {
   "cell_type": "code",
   "execution_count": 2,
   "metadata": {
    "collapsed": false
   },
   "outputs": [
    {
     "name": "stdout",
     "output_type": "stream",
     "text": [
      "{'d': 10}\n"
     ]
    }
   ],
   "source": [
    "def Relax(vertices, thru_me, to_here):\n",
    "    new_path_weight = vertices[thru_me][dist] + AdjMat.loc[thru_me, to_here]\n",
    "    if vertices[to_here][dist] > new_path_weight\n",
    "        vertices[to_here][dist] = new_path_weight\n",
    "        vertices[to_here][prev] = thru_me\n",
    "    \n",
    "    return vertices"
   ]
  },
  {
   "cell_type": "code",
   "execution_count": null,
   "metadata": {
    "collapsed": true
   },
   "outputs": [],
   "source": [
    "from heapq import *\n",
    "\n",
    "def Dijkstras(AdjMat, start):\n",
    "    # Initialize single source\n",
    "    dist = {}\n",
    "    prev = {}\n",
    "    Q = []\n",
    "    for v in list(AdjMat.columns.values):\n",
    "        if v == start:\n",
    "            dist[v] = 0\n",
    "        else:\n",
    "            dist[v] = math.inf\n",
    "            prev[v] = None\n",
    "        heappush([ dist[v], v ])\n",
    "        \n",
    "    while Q:\n",
    "        thru_me = heappop(Q)\n",
    "        for neighbor in AdjMat.index[(AdjMat > 0)[thru_me]]:\n",
    "            new_path_dist = dist[thru_me] + AdjMat.loc[thru_me, neighbor] # matrix is symmetric\n",
    "            # Relaxtion\n",
    "            if new_path_dist < dist[neighbor]:\n",
    "                dist[neighbor] = new_path_dist\n",
    "                prev[neighbor] = thru_me\n",
    "                # Decrease priority\n",
    "                for node in Q:\n",
    "                    if node[1] == neighbor:\n",
    "                        node[0] = new_path_dist\n",
    "                \n",
    "    return {'dist': dist, 'prev': prev}    \n",
    "    \n",
    "    vertices = Initialize_Single_Source(AdjMat, start)\n",
    "    shortest = [] # set of vertices whose final shortest-path weights from `start` have been determined\n",
    "    Q = list(AdjMat.columns.values);\n",
    "    heapify(Q);\n",
    "    while Q:\n",
    "        thru_me = heappop(Q)\n",
    "        shortest.push(thru_me)\n",
    "        for v in \n",
    "    \n",
    "    return [dist, prev]\n",
    "\n",
    "# NOTE: MODEL AFTRER WIKIPEDIAS"
   ]
  },
  {
   "cell_type": "code",
   "execution_count": null,
   "metadata": {
    "collapsed": true
   },
   "outputs": [],
   "source": []
  }
 ],
 "metadata": {
  "kernelspec": {
   "display_name": "Python 3",
   "language": "python",
   "name": "python3"
  },
  "language_info": {
   "codemirror_mode": {
    "name": "ipython",
    "version": 3
   },
   "file_extension": ".py",
   "mimetype": "text/x-python",
   "name": "python",
   "nbconvert_exporter": "python",
   "pygments_lexer": "ipython3",
   "version": "3.5.1"
  }
 },
 "nbformat": 4,
 "nbformat_minor": 0
}
